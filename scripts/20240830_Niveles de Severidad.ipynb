{
  "cells": [
    {
      "cell_type": "markdown",
      "metadata": {
        "id": "LqujQ_mS_ubD"
      },
      "source": [
        "# ANÁLISIS DE NIVELES DE SEVERIDAD EN SINIESTRALIDAD POR ACTOR Y SERIES DE TIEMPO PARA LA CIUDAD DE BOGOTÁ.\n",
        "---------------------\n",
        "La siniestralidad vial es una problemática de salud pública que genera más de un millón de muertes al año a nivel mundial, en el caso de la ciudad de Bogotá, Colombia, significó 536 fatalidades para el año 2022, razón por la cual es importante el estudio sistemático para entender la siniestralidad vial, así como de la severidad de estos eventos. Con el desarrollo de algoritmos programables de aprendizaje de máquina, se ha comenzado a emplear diferentes algoritmos para estudiar la ocurrencia de siniestros y su severidad desde un enfoque estadístico y de la ciencia de datos..\n",
        "\n",
        "> *Teniendo en cuenta lo anterior, la presente investigación tiene como objetivo la aplicación y comparación de modelos de clasificación supervisados como lo son, regresión logística (LOGREG), k vecinos cercanos (KNN), bosques aleatorios (RF), máquinas de soporte vectorial (SVM) y red neuronal multicapa (MLP) en la predicción de los niveles de severidad en los siniestros viales de la ciudad de Bogotá*\n",
        "\n",
        "\n",
        "Todos los datos han sido anonimizados, así como, se ha modificado la base de datos con fines académicos."
      ]
    },
    {
      "cell_type": "markdown",
      "metadata": {
        "id": "RFCwnDgR_zaX"
      },
      "source": [
        "## I. PROBLEMA DE INVESTIGACIÓN\n",
        "-------------\n",
        "\n",
        "La siniestralidad vial se clasifica de acuerdo con la gravedad o el tipo de colisión, comúnmente se modela la frecuencia y la gravedad por separado; sin embargo, algunos investigadores han trabajado modelos de frecuencia para los diferentes tipos de gravedad de los siniestros viales; En los últimos años la comunidad científica ha adelantado estudios para el entendimiento de la severidad de los siniestros viales aplicando modelos no paramétricos y algoritmos basados en el aprendizaje de máquina.\n",
        "De esta manera, el código presenta la aplicación de técnicas de ML orientadas a la predicción de la severidad de los siniestros viales en la ciudad de Bogotá, esta metodología permite el diseño de herramientas y medidas orientadas a la mitigación de altos niveles de severidad.\n",
        "\n"
      ]
    },
    {
      "cell_type": "markdown",
      "metadata": {
        "id": "QJp3FWupAB3q"
      },
      "source": [
        "## II.\tIMPORTACIÓN DE LIBRERÍAS\n",
        "------------------------------\n",
        "Dentro de los elementos básicos en el análisis en Python es la correcta importación y cargue de las librerías."
      ]
    },
    {
      "cell_type": "code",
      "execution_count": 2,
      "metadata": {},
      "outputs": [
        {
          "name": "stdout",
          "output_type": "stream",
          "text": [
            "Requirement already satisfied: scikit-learn in c:\\users\\jagarcia\\appdata\\local\\programs\\python\\python312\\lib\\site-packages (1.6.1)\n",
            "Requirement already satisfied: numpy>=1.19.5 in c:\\users\\jagarcia\\appdata\\local\\programs\\python\\python312\\lib\\site-packages (from scikit-learn) (2.2.2)\n",
            "Requirement already satisfied: scipy>=1.6.0 in c:\\users\\jagarcia\\appdata\\local\\programs\\python\\python312\\lib\\site-packages (from scikit-learn) (1.15.1)\n",
            "Requirement already satisfied: joblib>=1.2.0 in c:\\users\\jagarcia\\appdata\\local\\programs\\python\\python312\\lib\\site-packages (from scikit-learn) (1.4.2)\n",
            "Requirement already satisfied: threadpoolctl>=3.1.0 in c:\\users\\jagarcia\\appdata\\local\\programs\\python\\python312\\lib\\site-packages (from scikit-learn) (3.5.0)\n",
            "Note: you may need to restart the kernel to use updated packages.\n"
          ]
        },
        {
          "name": "stderr",
          "output_type": "stream",
          "text": [
            "\n",
            "[notice] A new release of pip is available: 24.2 -> 25.0\n",
            "[notice] To update, run: python.exe -m pip install --upgrade pip\n"
          ]
        },
        {
          "name": "stdout",
          "output_type": "stream",
          "text": [
            "Requirement already satisfied: pandas in c:\\users\\jagarcia\\appdata\\local\\programs\\python\\python312\\lib\\site-packages (2.2.3)\n",
            "Requirement already satisfied: numpy>=1.26.0 in c:\\users\\jagarcia\\appdata\\local\\programs\\python\\python312\\lib\\site-packages (from pandas) (2.2.2)\n",
            "Requirement already satisfied: python-dateutil>=2.8.2 in c:\\users\\jagarcia\\appdata\\roaming\\python\\python312\\site-packages (from pandas) (2.9.0.post0)\n",
            "Requirement already satisfied: pytz>=2020.1 in c:\\users\\jagarcia\\appdata\\local\\programs\\python\\python312\\lib\\site-packages (from pandas) (2024.1)\n",
            "Requirement already satisfied: tzdata>=2022.7 in c:\\users\\jagarcia\\appdata\\local\\programs\\python\\python312\\lib\\site-packages (from pandas) (2024.1)\n",
            "Requirement already satisfied: six>=1.5 in c:\\users\\jagarcia\\appdata\\roaming\\python\\python312\\site-packages (from python-dateutil>=2.8.2->pandas) (1.16.0)\n",
            "Note: you may need to restart the kernel to use updated packages.\n"
          ]
        },
        {
          "name": "stderr",
          "output_type": "stream",
          "text": [
            "\n",
            "[notice] A new release of pip is available: 24.2 -> 25.0\n",
            "[notice] To update, run: python.exe -m pip install --upgrade pip\n"
          ]
        },
        {
          "name": "stdout",
          "output_type": "stream",
          "text": [
            "Requirement already satisfied: seaborn in c:\\users\\jagarcia\\appdata\\local\\programs\\python\\python312\\lib\\site-packages (0.13.2)\n",
            "Requirement already satisfied: numpy!=1.24.0,>=1.20 in c:\\users\\jagarcia\\appdata\\local\\programs\\python\\python312\\lib\\site-packages (from seaborn) (2.2.2)\n",
            "Requirement already satisfied: pandas>=1.2 in c:\\users\\jagarcia\\appdata\\local\\programs\\python\\python312\\lib\\site-packages (from seaborn) (2.2.3)\n",
            "Requirement already satisfied: matplotlib!=3.6.1,>=3.4 in c:\\users\\jagarcia\\appdata\\local\\programs\\python\\python312\\lib\\site-packages (from seaborn) (3.10.0)\n",
            "Requirement already satisfied: contourpy>=1.0.1 in c:\\users\\jagarcia\\appdata\\local\\programs\\python\\python312\\lib\\site-packages (from matplotlib!=3.6.1,>=3.4->seaborn) (1.2.1)\n",
            "Requirement already satisfied: cycler>=0.10 in c:\\users\\jagarcia\\appdata\\local\\programs\\python\\python312\\lib\\site-packages (from matplotlib!=3.6.1,>=3.4->seaborn) (0.12.1)\n",
            "Requirement already satisfied: fonttools>=4.22.0 in c:\\users\\jagarcia\\appdata\\local\\programs\\python\\python312\\lib\\site-packages (from matplotlib!=3.6.1,>=3.4->seaborn) (4.51.0)\n",
            "Requirement already satisfied: kiwisolver>=1.3.1 in c:\\users\\jagarcia\\appdata\\local\\programs\\python\\python312\\lib\\site-packages (from matplotlib!=3.6.1,>=3.4->seaborn) (1.4.5)\n",
            "Requirement already satisfied: packaging>=20.0 in c:\\users\\jagarcia\\appdata\\roaming\\python\\python312\\site-packages (from matplotlib!=3.6.1,>=3.4->seaborn) (24.1)\n",
            "Requirement already satisfied: pillow>=8 in c:\\users\\jagarcia\\appdata\\local\\programs\\python\\python312\\lib\\site-packages (from matplotlib!=3.6.1,>=3.4->seaborn) (10.3.0)\n",
            "Requirement already satisfied: pyparsing>=2.3.1 in c:\\users\\jagarcia\\appdata\\local\\programs\\python\\python312\\lib\\site-packages (from matplotlib!=3.6.1,>=3.4->seaborn) (3.1.2)\n",
            "Requirement already satisfied: python-dateutil>=2.7 in c:\\users\\jagarcia\\appdata\\roaming\\python\\python312\\site-packages (from matplotlib!=3.6.1,>=3.4->seaborn) (2.9.0.post0)\n",
            "Requirement already satisfied: pytz>=2020.1 in c:\\users\\jagarcia\\appdata\\local\\programs\\python\\python312\\lib\\site-packages (from pandas>=1.2->seaborn) (2024.1)\n",
            "Requirement already satisfied: tzdata>=2022.7 in c:\\users\\jagarcia\\appdata\\local\\programs\\python\\python312\\lib\\site-packages (from pandas>=1.2->seaborn) (2024.1)\n",
            "Requirement already satisfied: six>=1.5 in c:\\users\\jagarcia\\appdata\\roaming\\python\\python312\\site-packages (from python-dateutil>=2.7->matplotlib!=3.6.1,>=3.4->seaborn) (1.16.0)\n",
            "Note: you may need to restart the kernel to use updated packages.\n"
          ]
        },
        {
          "name": "stderr",
          "output_type": "stream",
          "text": [
            "\n",
            "[notice] A new release of pip is available: 24.2 -> 25.0\n",
            "[notice] To update, run: python.exe -m pip install --upgrade pip\n"
          ]
        },
        {
          "name": "stdout",
          "output_type": "stream",
          "text": [
            "Requirement already satisfied: numpy in c:\\users\\jagarcia\\appdata\\local\\programs\\python\\python312\\lib\\site-packages (2.2.2)\n",
            "Note: you may need to restart the kernel to use updated packages.\n"
          ]
        },
        {
          "name": "stderr",
          "output_type": "stream",
          "text": [
            "\n",
            "[notice] A new release of pip is available: 24.2 -> 25.0\n",
            "[notice] To update, run: python.exe -m pip install --upgrade pip\n"
          ]
        },
        {
          "name": "stdout",
          "output_type": "stream",
          "text": [
            "^C\n",
            "Note: you may need to restart the kernel to use updated packages.\n",
            "Requirement already satisfied: matplotlib in c:\\users\\jagarcia\\appdata\\local\\programs\\python\\python312\\lib\\site-packages (3.10.0)\n",
            "Requirement already satisfied: contourpy>=1.0.1 in c:\\users\\jagarcia\\appdata\\local\\programs\\python\\python312\\lib\\site-packages (from matplotlib) (1.2.1)\n",
            "Requirement already satisfied: cycler>=0.10 in c:\\users\\jagarcia\\appdata\\local\\programs\\python\\python312\\lib\\site-packages (from matplotlib) (0.12.1)\n",
            "Requirement already satisfied: fonttools>=4.22.0 in c:\\users\\jagarcia\\appdata\\local\\programs\\python\\python312\\lib\\site-packages (from matplotlib) (4.51.0)\n",
            "Requirement already satisfied: kiwisolver>=1.3.1 in c:\\users\\jagarcia\\appdata\\local\\programs\\python\\python312\\lib\\site-packages (from matplotlib) (1.4.5)\n",
            "Requirement already satisfied: numpy>=1.23 in c:\\users\\jagarcia\\appdata\\local\\programs\\python\\python312\\lib\\site-packages (from matplotlib) (2.2.2)\n",
            "Requirement already satisfied: packaging>=20.0 in c:\\users\\jagarcia\\appdata\\roaming\\python\\python312\\site-packages (from matplotlib) (24.1)\n",
            "Requirement already satisfied: pillow>=8 in c:\\users\\jagarcia\\appdata\\local\\programs\\python\\python312\\lib\\site-packages (from matplotlib) (10.3.0)\n",
            "Requirement already satisfied: pyparsing>=2.3.1 in c:\\users\\jagarcia\\appdata\\local\\programs\\python\\python312\\lib\\site-packages (from matplotlib) (3.1.2)\n",
            "Requirement already satisfied: python-dateutil>=2.7 in c:\\users\\jagarcia\\appdata\\roaming\\python\\python312\\site-packages (from matplotlib) (2.9.0.post0)\n",
            "Requirement already satisfied: six>=1.5 in c:\\users\\jagarcia\\appdata\\roaming\\python\\python312\\site-packages (from python-dateutil>=2.7->matplotlib) (1.16.0)\n",
            "Requirement already satisfied: datetime in c:\\users\\jagarcia\\appdata\\local\\programs\\python\\python312\\lib\\site-packages (5.5)\n",
            "Requirement already satisfied: zope.interface in c:\\users\\jagarcia\\appdata\\local\\programs\\python\\python312\\lib\\site-packages (from datetime) (6.4.post2)\n",
            "Requirement already satisfied: pytz in c:\\users\\jagarcia\\appdata\\local\\programs\\python\\python312\\lib\\site-packages (from datetime) (2024.1)\n",
            "Requirement already satisfied: setuptools in c:\\users\\jagarcia\\appdata\\local\\programs\\python\\python312\\lib\\site-packages (from zope.interface->datetime) (70.0.0)\n",
            "Note: you may need to restart the kernel to use updated packages.\n"
          ]
        },
        {
          "name": "stderr",
          "output_type": "stream",
          "text": [
            "\n",
            "[notice] A new release of pip is available: 24.2 -> 25.0\n",
            "[notice] To update, run: python.exe -m pip install --upgrade pip\n",
            "\n",
            "[notice] A new release of pip is available: 24.2 -> 25.0\n",
            "[notice] To update, run: python.exe -m pip install --upgrade pip\n"
          ]
        },
        {
          "name": "stdout",
          "output_type": "stream",
          "text": [
            "Requirement already satisfied: scipy in c:\\users\\jagarcia\\appdata\\local\\programs\\python\\python312\\lib\\site-packages (1.15.1)\n",
            "Requirement already satisfied: numpy<2.5,>=1.23.5 in c:\\users\\jagarcia\\appdata\\local\\programs\\python\\python312\\lib\\site-packages (from scipy) (2.2.2)\n",
            "Note: you may need to restart the kernel to use updated packages.\n"
          ]
        },
        {
          "name": "stderr",
          "output_type": "stream",
          "text": [
            "\n",
            "[notice] A new release of pip is available: 24.2 -> 25.0\n",
            "[notice] To update, run: python.exe -m pip install --upgrade pip\n"
          ]
        },
        {
          "name": "stdout",
          "output_type": "stream",
          "text": [
            "Note: you may need to restart the kernel to use updated packages.\n"
          ]
        },
        {
          "name": "stderr",
          "output_type": "stream",
          "text": [
            "ERROR: Could not find a version that satisfies the requirement statsmodel (from versions: none)\n",
            "\n",
            "[notice] A new release of pip is available: 24.2 -> 25.0\n",
            "[notice] To update, run: python.exe -m pip install --upgrade pip\n",
            "ERROR: No matching distribution found for statsmodel\n"
          ]
        },
        {
          "name": "stdout",
          "output_type": "stream",
          "text": [
            "Requirement already satisfied: statsmodels in c:\\users\\jagarcia\\appdata\\local\\programs\\python\\python312\\lib\\site-packages (0.14.4)\n",
            "Requirement already satisfied: numpy<3,>=1.22.3 in c:\\users\\jagarcia\\appdata\\local\\programs\\python\\python312\\lib\\site-packages (from statsmodels) (2.2.2)\n",
            "Requirement already satisfied: scipy!=1.9.2,>=1.8 in c:\\users\\jagarcia\\appdata\\local\\programs\\python\\python312\\lib\\site-packages (from statsmodels) (1.15.1)\n",
            "Requirement already satisfied: pandas!=2.1.0,>=1.4 in c:\\users\\jagarcia\\appdata\\local\\programs\\python\\python312\\lib\\site-packages (from statsmodels) (2.2.3)\n",
            "Requirement already satisfied: patsy>=0.5.6 in c:\\users\\jagarcia\\appdata\\local\\programs\\python\\python312\\lib\\site-packages (from statsmodels) (1.0.1)\n",
            "Requirement already satisfied: packaging>=21.3 in c:\\users\\jagarcia\\appdata\\roaming\\python\\python312\\site-packages (from statsmodels) (24.1)\n",
            "Requirement already satisfied: python-dateutil>=2.8.2 in c:\\users\\jagarcia\\appdata\\roaming\\python\\python312\\site-packages (from pandas!=2.1.0,>=1.4->statsmodels) (2.9.0.post0)\n",
            "Requirement already satisfied: pytz>=2020.1 in c:\\users\\jagarcia\\appdata\\local\\programs\\python\\python312\\lib\\site-packages (from pandas!=2.1.0,>=1.4->statsmodels) (2024.1)\n",
            "Requirement already satisfied: tzdata>=2022.7 in c:\\users\\jagarcia\\appdata\\local\\programs\\python\\python312\\lib\\site-packages (from pandas!=2.1.0,>=1.4->statsmodels) (2024.1)\n",
            "Requirement already satisfied: six>=1.5 in c:\\users\\jagarcia\\appdata\\roaming\\python\\python312\\site-packages (from python-dateutil>=2.8.2->pandas!=2.1.0,>=1.4->statsmodels) (1.16.0)\n",
            "Note: you may need to restart the kernel to use updated packages.\n"
          ]
        },
        {
          "name": "stderr",
          "output_type": "stream",
          "text": [
            "\n",
            "[notice] A new release of pip is available: 24.2 -> 25.0\n",
            "[notice] To update, run: python.exe -m pip install --upgrade pip\n"
          ]
        },
        {
          "name": "stdout",
          "output_type": "stream",
          "text": [
            "Requirement already satisfied: plotly in c:\\users\\jagarcia\\appdata\\local\\programs\\python\\python312\\lib\\site-packages (6.0.0)\n",
            "Requirement already satisfied: narwhals>=1.15.1 in c:\\users\\jagarcia\\appdata\\local\\programs\\python\\python312\\lib\\site-packages (from plotly) (1.25.2)\n",
            "Requirement already satisfied: packaging in c:\\users\\jagarcia\\appdata\\roaming\\python\\python312\\site-packages (from plotly) (24.1)\n",
            "Note: you may need to restart the kernel to use updated packages.\n"
          ]
        },
        {
          "name": "stderr",
          "output_type": "stream",
          "text": [
            "\n",
            "[notice] A new release of pip is available: 24.2 -> 25.0\n",
            "[notice] To update, run: python.exe -m pip install --upgrade pip\n"
          ]
        },
        {
          "name": "stdout",
          "output_type": "stream",
          "text": [
            "Requirement already satisfied: mlxtend in c:\\users\\jagarcia\\appdata\\local\\programs\\python\\python312\\lib\\site-packages (0.23.4)\n",
            "Requirement already satisfied: scipy>=1.2.1 in c:\\users\\jagarcia\\appdata\\local\\programs\\python\\python312\\lib\\site-packages (from mlxtend) (1.15.1)\n",
            "Requirement already satisfied: numpy>=1.16.2 in c:\\users\\jagarcia\\appdata\\local\\programs\\python\\python312\\lib\\site-packages (from mlxtend) (2.2.2)\n",
            "Requirement already satisfied: pandas>=0.24.2 in c:\\users\\jagarcia\\appdata\\local\\programs\\python\\python312\\lib\\site-packages (from mlxtend) (2.2.3)\n",
            "Requirement already satisfied: scikit-learn>=1.3.1 in c:\\users\\jagarcia\\appdata\\local\\programs\\python\\python312\\lib\\site-packages (from mlxtend) (1.6.1)\n",
            "Requirement already satisfied: matplotlib>=3.0.0 in c:\\users\\jagarcia\\appdata\\local\\programs\\python\\python312\\lib\\site-packages (from mlxtend) (3.10.0)\n",
            "Requirement already satisfied: joblib>=0.13.2 in c:\\users\\jagarcia\\appdata\\local\\programs\\python\\python312\\lib\\site-packages (from mlxtend) (1.4.2)\n",
            "Requirement already satisfied: contourpy>=1.0.1 in c:\\users\\jagarcia\\appdata\\local\\programs\\python\\python312\\lib\\site-packages (from matplotlib>=3.0.0->mlxtend) (1.2.1)\n",
            "Requirement already satisfied: cycler>=0.10 in c:\\users\\jagarcia\\appdata\\local\\programs\\python\\python312\\lib\\site-packages (from matplotlib>=3.0.0->mlxtend) (0.12.1)\n",
            "Requirement already satisfied: fonttools>=4.22.0 in c:\\users\\jagarcia\\appdata\\local\\programs\\python\\python312\\lib\\site-packages (from matplotlib>=3.0.0->mlxtend) (4.51.0)\n",
            "Requirement already satisfied: kiwisolver>=1.3.1 in c:\\users\\jagarcia\\appdata\\local\\programs\\python\\python312\\lib\\site-packages (from matplotlib>=3.0.0->mlxtend) (1.4.5)\n",
            "Requirement already satisfied: packaging>=20.0 in c:\\users\\jagarcia\\appdata\\roaming\\python\\python312\\site-packages (from matplotlib>=3.0.0->mlxtend) (24.1)\n",
            "Requirement already satisfied: pillow>=8 in c:\\users\\jagarcia\\appdata\\local\\programs\\python\\python312\\lib\\site-packages (from matplotlib>=3.0.0->mlxtend) (10.3.0)\n",
            "Requirement already satisfied: pyparsing>=2.3.1 in c:\\users\\jagarcia\\appdata\\local\\programs\\python\\python312\\lib\\site-packages (from matplotlib>=3.0.0->mlxtend) (3.1.2)\n",
            "Requirement already satisfied: python-dateutil>=2.7 in c:\\users\\jagarcia\\appdata\\roaming\\python\\python312\\site-packages (from matplotlib>=3.0.0->mlxtend) (2.9.0.post0)\n",
            "Requirement already satisfied: pytz>=2020.1 in c:\\users\\jagarcia\\appdata\\local\\programs\\python\\python312\\lib\\site-packages (from pandas>=0.24.2->mlxtend) (2024.1)\n",
            "Requirement already satisfied: tzdata>=2022.7 in c:\\users\\jagarcia\\appdata\\local\\programs\\python\\python312\\lib\\site-packages (from pandas>=0.24.2->mlxtend) (2024.1)\n",
            "Requirement already satisfied: threadpoolctl>=3.1.0 in c:\\users\\jagarcia\\appdata\\local\\programs\\python\\python312\\lib\\site-packages (from scikit-learn>=1.3.1->mlxtend) (3.5.0)\n",
            "Requirement already satisfied: six>=1.5 in c:\\users\\jagarcia\\appdata\\roaming\\python\\python312\\site-packages (from python-dateutil>=2.7->matplotlib>=3.0.0->mlxtend) (1.16.0)\n",
            "Note: you may need to restart the kernel to use updated packages.\n"
          ]
        },
        {
          "name": "stderr",
          "output_type": "stream",
          "text": [
            "\n",
            "[notice] A new release of pip is available: 24.2 -> 25.0\n",
            "[notice] To update, run: python.exe -m pip install --upgrade pip\n"
          ]
        }
      ],
      "source": [
        "# Actualizamos scikit-learn a la última versión\n",
        "%pip install -U scikit-learn\n",
        "%pip install -U pandas\n",
        "%pip install -U seaborn\n",
        "%pip install -U numpy\n",
        "%pip install -U matplotlib\n",
        "%pip install -U datetime\n",
        "%pip install -U scipy\n",
        "%pip install -U statsmodel\n",
        "%pip install -U statsmodels\n",
        "%pip install -U plotly\n",
        "%pip install -U mlxtend\n"
      ]
    },
    {
      "cell_type": "code",
      "execution_count": null,
      "metadata": {
        "colab": {
          "base_uri": "https://localhost:8080/"
        },
        "id": "F9iBXa8Knja4",
        "outputId": "3097a5ed-76d8-4f25-9e36-a3c2c7cb22be"
      },
      "outputs": [
        {
          "name": "stderr",
          "output_type": "stream",
          "text": [
            "C:\\Users\\jagarcia\\AppData\\Local\\Temp\\ipykernel_16016\\3459544716.py:3: DeprecationWarning: \n",
            "Pyarrow will become a required dependency of pandas in the next major release of pandas (pandas 3.0),\n",
            "(to allow more performant data types, such as the Arrow string type, and better interoperability with other libraries)\n",
            "but was not found to be installed on your system.\n",
            "If this would cause problems for you,\n",
            "please provide us feedback at https://github.com/pandas-dev/pandas/issues/54466\n",
            "        \n",
            "  import pandas as pd\n"
          ]
        }
      ],
      "source": [
        "\n",
        "import sklearn\n",
        "# Otras librerías de utilidad\n",
        "import pandas as pd\n",
        "import seaborn as sns\n",
        "import numpy as np\n",
        "import matplotlib.pyplot as plt\n",
        "import matplotlib as mpl\n",
        "import datetime\n",
        "import warnings\n",
        "from scipy import stats\n",
        "import scipy\n",
        "import statsmodels.api as sm\n",
        "import statsmodels.formula.api as smf\n",
        "from sklearn.metrics import r2_score\n",
        "from scipy.stats import wilcoxon\n",
        "import plotly.graph_objects as go\n",
        "\n",
        "# Ignorar advertencias del código.\n",
        "import warnings\n",
        "warnings.filterwarnings('ignore')\n",
        "\n",
        "# Las figuras en formato retina se ven más limpias\n",
        "%config InlineBackend.figure_format = 'retina'\n",
        "\n",
        "# Configuraciones de Matplotlib\n",
        "%matplotlib inline\n",
        "plt.rcParams['figure.dpi'] = 250\n",
        "mpl.rcParams['figure.figsize'] = (9, 7)\n",
        "\n",
        "# Estilo por defecto para notebooks.\n",
        "sns.set_theme('notebook')"
      ]
    },
    {
      "cell_type": "markdown",
      "metadata": {
        "id": "WteztQzJnIyw"
      },
      "source": [
        "### 1. FUNCIONES DE UTILIDAD\n",
        "----------\n",
        "\n",
        "El siguiente apartado muestra algunas de las funciones importantes para entender el próximo desarrollo de las funciones."
      ]
    },
    {
      "cell_type": "code",
      "execution_count": null,
      "metadata": {
        "id": "Ti4Sfx45zVnD"
      },
      "outputs": [],
      "source": [
        "# Gracicar la curva de aprendizaje de determinada métrica de agrupamiento.\n",
        "\n",
        "def plot_metric(K, scores, metric_name):\n",
        "  plt.figure(dpi=110, figsize=(9, 5))\n",
        "  plt.plot(K, scores, 'bx-')\n",
        "  plt.xticks(K); plt.xlabel('$k$', fontdict=dict(family = 'serif', size = 14));  plt.ylabel(metric_name, fontdict=dict(family = 'serif', size = 14));\n",
        "  plt.title(f'K vs {metric_name}', fontdict=dict(family = 'serif', size = 18))\n",
        "  plt.show()"
      ]
    },
    {
      "cell_type": "code",
      "execution_count": null,
      "metadata": {
        "id": "k4cyQ5TvnLoX"
      },
      "outputs": [],
      "source": [
        "from mlxtend.plotting import plot_decision_regions\n",
        "\n",
        "# Función para visualizar la superficie de decisión de un clasificador.\n",
        "def plot_decision_region(X, y, clf, classes, title = \"\"):\n",
        "  fig, ax = plt.subplots(dpi = 120)\n",
        "  plot_decision_regions(X, y, clf = clf, ax = ax)\n",
        "  handles, _ = ax.get_legend_handles_labels()\n",
        "  ax.legend(handles, classes)\n",
        "  ax.set_title(title)\n",
        "  fig.show()"
      ]
    },
    {
      "cell_type": "code",
      "execution_count": null,
      "metadata": {
        "id": "45CJT_XQnMf_"
      },
      "outputs": [],
      "source": [
        "def list_confusion_matrix(cm,classes):\n",
        "  df = pd.DataFrame(data = cm,\n",
        "                    index = pd.MultiIndex.from_product([['Valor real'], classes]),\n",
        "                    columns = pd.MultiIndex.from_product([['Valor predicho'], classes]))\n",
        "\n",
        "  return df"
      ]
    },
    {
      "cell_type": "code",
      "execution_count": null,
      "metadata": {
        "id": "asEWPCSMFPb9"
      },
      "outputs": [],
      "source": [
        "# Función para evaluar en conjunto diferentes medidas de tendencia central y estadísticos de descriptivos.\n",
        "def describe2(df, stats):\n",
        "  d = (df.describe().round(2)).iloc[:,0:]\n",
        "  return d.append(df.reindex(d.columns, axis = 1).agg(stats)).round(2)"
      ]
    },
    {
      "cell_type": "code",
      "execution_count": null,
      "metadata": {
        "id": "yNdkO2BBl7T7"
      },
      "outputs": [],
      "source": [
        "# Gráficar la predicción de los datos de temperatura.\n",
        "\n",
        "def plot_prediction(params, ys, test_date_index):\n",
        "\n",
        "  train_data = serie_dia.loc[:test_date_index[0]]\n",
        "  _y_test, _y_forward, _y_last = ys\n",
        "  # Graficamos los valores predichos.\n",
        "  fig = go.Figure(layout = dict(\n",
        "       title = f'<b>Siniestros viales en Bogota (01/10/22 - 14/10/23)</b> <br> {params}',\n",
        "       dragmode= 'pan', width = 1200, height = 600))\n",
        "\n",
        "  fig.add_trace(go.Scatter(x = train_data.index,  # Datos originales hasta la primer semana predicha. (fechas)\n",
        "                          y = train_data.values, # Datos originales hasta la primer semana predicha. (temperaturas)\n",
        "                          mode = 'lines',\n",
        "                          name = 'Valores de entrenamiento y pruebas'))\n",
        "\n",
        "  #Gráfica de los valores de prueba reales.\n",
        "  fig.add_trace(go.Scatter(x = test_date_index,\n",
        "                          y = _y_test,\n",
        "                          mode='lines+markers',\n",
        "                          name='Valores reales (y)'))\n",
        "\n",
        "\n",
        "  #Gráfica de los valores predichos a partir de las ventanas de X_test.\n",
        "  fig.add_trace(go.Scatter(x = test_date_index,\n",
        "                          y = _y_forward,\n",
        "                          mode = 'lines+markers',\n",
        "                          name = 'Valores predichos a partir de datos reales'))\n",
        "\n",
        "  #Gráfica de los valores predichos a partir de ventanas creadas proceduralmente.\n",
        "  fig.add_trace(go.Scatter(x = test_date_index,\n",
        "                          y = _y_last,\n",
        "                          mode='lines+markers',\n",
        "                          name='Valores predichos a partir de datos predichos'))\n",
        "\n",
        "  fig.show(config = dict({'scrollZoom': True}))"
      ]
    },
    {
      "cell_type": "code",
      "execution_count": null,
      "metadata": {
        "id": "jx2aTgpQdHsJ"
      },
      "outputs": [],
      "source": [
        "# Gráfica de la varianza explicada acumulada.\n",
        "\n",
        "def cumulative_explained_variance_plot(expl_variance):\n",
        "\n",
        "  cum_var_exp = np.cumsum(expl_variance)\n",
        "\n",
        "  plt.figure(dpi = 100, figsize = (8, 6))\n",
        "  plt.title('Curva acumulativa de la varianza explicada VS n° de componentes principales',\n",
        "            fontdict= dict(family ='serif', size = 16))\n",
        "  plt.xlabel('Número de componentes principales',\n",
        "             fontdict= dict(family ='serif', size = 14))\n",
        "  plt.ylabel('Varianza explicada acumulativa',\n",
        "             fontdict= dict(family ='serif', size = 14))\n",
        "\n",
        "  nc = np.arange(1, expl_variance.shape[0] + 1)\n",
        "\n",
        "  plt.plot(nc, cum_var_exp, '--r')\n",
        "  plt.plot(nc, cum_var_exp, 'c*', ms = 5)\n",
        "  plt.show()"
      ]
    },
    {
      "cell_type": "markdown",
      "metadata": {
        "id": "EFyVANalsS8i"
      },
      "source": [
        "## III PREPARACION Y PREPROCESAMIENTO\n",
        "--------------\n",
        "El trabajo se encuentra dividido en dos apartados, el primero de estos se enfoca en el análisis de la siniestralidad y los actores viales, así bien, a partir de la información del SIMIT (Sistema de Información de Accidentes de Tránsito) de los actores viales se busca identificar los niveles de severidad de los diferentes siniestros registrados."
      ]
    },
    {
      "cell_type": "markdown",
      "metadata": {
        "id": "joXLOuTNhj7S"
      },
      "source": [
        "### 1.\tCARGA DE DATOS\n",
        "----------\n",
        "En este apartado se carga la base de datos de los actores viales para los siniestros de 2021, para el respectivo análisis."
      ]
    },
    {
      "cell_type": "code",
      "execution_count": null,
      "metadata": {
        "colab": {
          "base_uri": "https://localhost:8080/"
        },
        "id": "160aReChELec",
        "outputId": "6871a22b-0d5d-47f5-ab8c-f7b29d475c49"
      },
      "outputs": [
        {
          "name": "stdout",
          "output_type": "stream",
          "text": [
            "<class 'pandas.core.frame.DataFrame'>\n",
            "RangeIndex: 158838 entries, 0 to 158837\n",
            "Data columns (total 21 columns):\n",
            " #   Column             Non-Null Count   Dtype         \n",
            "---  ------             --------------   -----         \n",
            " 0   FORMULARIO         158838 non-null  object        \n",
            " 1   CODIGO_ACCIDENTE   158838 non-null  int64         \n",
            " 2   FECHA              158838 non-null  datetime64[ns]\n",
            " 3   CODIGO_VICTIMA     158838 non-null  int64         \n",
            " 4   CODIGO_VEHICULO    152820 non-null  float64       \n",
            " 5   TIPO_ACTOR         158814 non-null  object        \n",
            " 6   ESTADO             156046 non-null  object        \n",
            " 7   GENERO             155133 non-null  object        \n",
            " 8   EDAD               154415 non-null  Int64         \n",
            " 9   GRAVEDAD           158838 non-null  int64         \n",
            " 10  CLASE_SINIESTRO    158838 non-null  int64         \n",
            " 11  DIRECCION          158838 non-null  object        \n",
            " 12  LONGITUD           158838 non-null  float64       \n",
            " 13  LATITUD            158838 non-null  float64       \n",
            " 14  CODIGO_LOCALIDAD   158838 non-null  int64         \n",
            " 15  TOTAL_HERIDOS      84128 non-null   float64       \n",
            " 16  TOTAL_MUERTOS      23764 non-null   float64       \n",
            " 17  MOD_VEHICULO       140710 non-null  Int64         \n",
            " 18  CLASE_VEHICULO     152415 non-null  float64       \n",
            " 19  SERVICIO_VEHICULO  151213 non-null  float64       \n",
            " 20  CODIGO_CAUSA       158838 non-null  int64         \n",
            "dtypes: Int64(2), datetime64[ns](1), float64(7), int64(6), object(5)\n",
            "memory usage: 25.8+ MB\n"
          ]
        }
      ],
      "source": [
        "#Cargue de la base de datos.\n",
        "ACTORV_df = pd.read_csv('C:\\\\sqldeveloper\\\\sqldeveloper\\\\bin\\\\ACTOR_VIAL_SINIESTRO.csv',engine='python')\n",
        "ACTORV_df['FECHA'] = pd.to_datetime(ACTORV_df['FECHA'])\n",
        "ACTORV_df['EDAD'] = ACTORV_df['EDAD'].astype('Int64')\n",
        "ACTORV_df['MOD_VEHICULO'] = ACTORV_df['MOD_VEHICULO'].astype('Int64')\n",
        "ACTORV_df.info()"
      ]
    },
    {
      "cell_type": "markdown",
      "metadata": {
        "id": "mBt6nv1chq5j"
      },
      "source": [
        "### 2.\tPREPARACIÓN DE BASES DE DATOS\n",
        "------------------------\n",
        "En la siguiente sección se realiza la limpieza de las diferentes bases de datos, y se aplican funciones para la selección condicional a partir del conocimiento de la problemática."
      ]
    },
    {
      "cell_type": "code",
      "execution_count": null,
      "metadata": {
        "id": "Lko9-VeBp3mx"
      },
      "outputs": [],
      "source": [
        "#Identificación de los bici usuarios\n",
        "ACTORV_df[\"MOD_VEHICULO\"] = np.where(ACTORV_df[\"TIPO_ACTOR\"] == \"CICLISTA\", 5000, ACTORV_df[\"MOD_VEHICULO\"])\n",
        "ACTORV_df[\"CLASE_VEHICULO\"] = np.where(ACTORV_df[\"TIPO_ACTOR\"] == \"CICLISTA\", 13, ACTORV_df[\"CLASE_VEHICULO\"])\n",
        "ACTORV_df[\"SERVICIO_VEHICULO\"] = np.where(ACTORV_df[\"TIPO_ACTOR\"] == \"CICLISTA\", 5, ACTORV_df[\"SERVICIO_VEHICULO\"])\n",
        "\n",
        "ACTORV_df[\"MOD_VEHICULO\"] = np.where(ACTORV_df[\"TIPO_ACTOR\"] == \"PEATON\", 3000, ACTORV_df[\"MOD_VEHICULO\"])\n",
        "ACTORV_df[\"CLASE_VEHICULO\"] = np.where(ACTORV_df[\"TIPO_ACTOR\"] == \"PEATON\", 30, ACTORV_df[\"CLASE_VEHICULO\"])\n",
        "ACTORV_df[\"SERVICIO_VEHICULO\"] = np.where(ACTORV_df[\"TIPO_ACTOR\"] == \"PEATON\", 6, ACTORV_df[\"SERVICIO_VEHICULO\"])\n"
      ]
    },
    {
      "cell_type": "code",
      "execution_count": null,
      "metadata": {
        "id": "pC8O0F55xBEH"
      },
      "outputs": [],
      "source": [
        "#Limpieza de la base de datos a partir de la información ml digitada.\n",
        "ACTORV_df = ACTORV_df[      (ACTORV_df['GENERO'] != 'SIN INFORMACION') &\n",
        "                            (ACTORV_df['TIPO_ACTOR'].notnull()) &\n",
        "                            (ACTORV_df['GENERO'].notnull()) &\n",
        "                            (ACTORV_df['ESTADO'].notnull()) &\n",
        "                            (ACTORV_df['MOD_VEHICULO'].notnull()) &\n",
        "                            (ACTORV_df['MOD_VEHICULO'] >= 1950) &\n",
        "                            (ACTORV_df['CLASE_VEHICULO'].notnull()) &\n",
        "                            (ACTORV_df['CLASE_VEHICULO'] != 0) &\n",
        "                            (ACTORV_df['SERVICIO_VEHICULO'].notnull()) &\n",
        "                            (ACTORV_df['CODIGO_CAUSA'].notnull()) &\n",
        "                            (ACTORV_df['CODIGO_CAUSA'] != 0) &\n",
        "                            (ACTORV_df['EDAD'] >= 5) &\n",
        "                            (ACTORV_df['EDAD'] <= 85)\n",
        "                                                                ]"
      ]
    },
    {
      "cell_type": "code",
      "execution_count": null,
      "metadata": {
        "id": "oczYXxAM_RO0"
      },
      "outputs": [],
      "source": [
        "# Limpieza variables con menor cantidad de registros\n",
        "counts_clase = ACTORV_df['CLASE_VEHICULO'].value_counts()\n",
        "ACTORV_df = ACTORV_df[~ACTORV_df['CLASE_VEHICULO'].isin(counts_clase[counts_clase < 100].index)]\n",
        "counts_servicio = ACTORV_df['SERVICIO_VEHICULO'].value_counts()\n",
        "ACTORV_df = ACTORV_df[~ACTORV_df['SERVICIO_VEHICULO'].isin(counts_servicio[counts_servicio < 200].index)]\n",
        "counts_siniestro = ACTORV_df['CLASE_SINIESTRO'].value_counts()\n",
        "ACTORV_df = ACTORV_df[~ACTORV_df['CLASE_SINIESTRO'].isin(counts_siniestro[counts_siniestro < 750].index)]"
      ]
    },
    {
      "cell_type": "code",
      "execution_count": null,
      "metadata": {
        "colab": {
          "base_uri": "https://localhost:8080/"
        },
        "id": "4MJkDWas_BmH",
        "outputId": "1f669155-332f-4346-e4de-0889b213b478"
      },
      "outputs": [
        {
          "data": {
            "text/plain": [
              "CLASE_SINIESTRO\n",
              "1    134090\n",
              "2      9648\n",
              "4      3055\n",
              "3      1521\n",
              "6       517\n",
              "5         6\n",
              "Name: count, dtype: int64"
            ]
          },
          "execution_count": 13,
          "metadata": {},
          "output_type": "execute_result"
        }
      ],
      "source": [
        "counts_siniestro"
      ]
    },
    {
      "cell_type": "code",
      "execution_count": null,
      "metadata": {
        "id": "yKSzXYYE_2MR"
      },
      "outputs": [],
      "source": [
        "#Unión de causas en categorías de variables con menos cantidad de registros.\n",
        "counts_causa = ACTORV_df['CODIGO_CAUSA'].value_counts()\n",
        "ACTORV_df[\"CODIGO_CAUSA\"] = np.where(ACTORV_df['CODIGO_CAUSA'].isin(counts_causa[counts_causa <= 1000].index), 1000, ACTORV_df[\"CODIGO_CAUSA\"])"
      ]
    },
    {
      "cell_type": "code",
      "execution_count": null,
      "metadata": {
        "id": "MTOOqYhVOvrG"
      },
      "outputs": [],
      "source": [
        "#Discriminación de variables en grupos a partir del conocimiento.\n",
        "ACTORV_df[\"EDAD_CAT\"] =pd.cut(x=ACTORV_df['EDAD'], bins=[0,11,18,26,59,100])\n",
        "ACTORV_df[\"MODELO_CAT\"] =pd.cut(x=ACTORV_df['MOD_VEHICULO'], bins=[1900,1990,2000,2010,2015,2020,2025,3500,10000])"
      ]
    },
    {
      "cell_type": "code",
      "execution_count": null,
      "metadata": {
        "id": "SmDI5OjWVAeS"
      },
      "outputs": [],
      "source": [
        "#Conversión de códigos a parámetros categoricos\n",
        "ACTORV_df.loc[ACTORV_df[\"CLASE_SINIESTRO\"] == 1, \"CLASE_SINIESTRO\"] = 'CHOQUE'\n",
        "ACTORV_df.loc[ACTORV_df[\"CLASE_SINIESTRO\"] == 2, \"CLASE_SINIESTRO\"] = 'ATROPELLO'\n",
        "ACTORV_df.loc[ACTORV_df[\"CLASE_SINIESTRO\"] == 3, \"CLASE_SINIESTRO\"] = 'VOLVAMIENTO'\n",
        "ACTORV_df.loc[ACTORV_df[\"CLASE_SINIESTRO\"] == 4, \"CLASE_SINIESTRO\"] = 'CAIDA_OCC'"
      ]
    },
    {
      "cell_type": "code",
      "execution_count": null,
      "metadata": {
        "id": "L8XjIPdWV-Rr"
      },
      "outputs": [],
      "source": [
        "#Conversión de códigos a parámetros categoricos\n",
        "ACTORV_df.loc[ACTORV_df[\"CLASE_VEHICULO\"] == 1, \"CLASE_VEHICULO\"] = 'AUTOMOVIL'\n",
        "ACTORV_df.loc[ACTORV_df[\"CLASE_VEHICULO\"] == 2, \"CLASE_VEHICULO\"] = 'BUS'\n",
        "ACTORV_df.loc[ACTORV_df[\"CLASE_VEHICULO\"] == 3, \"CLASE_VEHICULO\"] = 'BUSETA'\n",
        "ACTORV_df.loc[ACTORV_df[\"CLASE_VEHICULO\"] == 4, \"CLASE_VEHICULO\"] = 'CAMION'\n",
        "ACTORV_df.loc[ACTORV_df[\"CLASE_VEHICULO\"] == 5, \"CLASE_VEHICULO\"] = 'CAMIONETA'\n",
        "ACTORV_df.loc[ACTORV_df[\"CLASE_VEHICULO\"] == 6, \"CLASE_VEHICULO\"] = 'CAMPERO'\n",
        "ACTORV_df.loc[ACTORV_df[\"CLASE_VEHICULO\"] == 7, \"CLASE_VEHICULO\"] = 'MICROBUS'\n",
        "ACTORV_df.loc[ACTORV_df[\"CLASE_VEHICULO\"] == 8, \"CLASE_VEHICULO\"] = 'TRACTOCAMION'\n",
        "ACTORV_df.loc[ACTORV_df[\"CLASE_VEHICULO\"] == 9, \"CLASE_VEHICULO\"] = 'VOLQUETA'\n",
        "ACTORV_df.loc[ACTORV_df[\"CLASE_VEHICULO\"] == 10, \"CLASE_VEHICULO\"] = 'MOTOCICLETA'\n",
        "ACTORV_df.loc[ACTORV_df[\"CLASE_VEHICULO\"] == 13, \"CLASE_VEHICULO\"] = 'BICICLETA'\n",
        "ACTORV_df.loc[ACTORV_df[\"CLASE_VEHICULO\"] == 17, \"CLASE_VEHICULO\"] = 'MOTOCICLO'\n",
        "ACTORV_df.loc[ACTORV_df[\"CLASE_VEHICULO\"] == 30, \"CLASE_VEHICULO\"] = 'MOD_PEATONAL'"
      ]
    },
    {
      "cell_type": "code",
      "execution_count": null,
      "metadata": {
        "id": "0OmVkOyGagha"
      },
      "outputs": [],
      "source": [
        "#Conversión de códigos a parámetros categoricos\n",
        "ACTORV_df.loc[ACTORV_df[\"CODIGO_CAUSA\"] == 1000, \"CODIGO_CAUSA\"] = 'OTRAS'\n",
        "ACTORV_df.loc[ACTORV_df[\"CODIGO_CAUSA\"] == 98, \"CODIGO_CAUSA\"] = 'TRANSIT_ENTRE_VEH'\n",
        "ACTORV_df.loc[ACTORV_df[\"CODIGO_CAUSA\"] == 102, \"CODIGO_CAUSA\"] = 'ADELANTAR_DER'\n",
        "ACTORV_df.loc[ACTORV_df[\"CODIGO_CAUSA\"] == 103, \"CODIGO_CAUSA\"] = 'ADELANTAR_CERR'\n",
        "ACTORV_df.loc[ACTORV_df[\"CODIGO_CAUSA\"] == 104, \"CODIGO_CAUSA\"] = 'ADELANTAR_INVA'\n",
        "ACTORV_df.loc[ACTORV_df[\"CODIGO_CAUSA\"] == 106, \"CODIGO_CAUSA\"] = 'ADELANTAR_INVA'\n",
        "ACTORV_df.loc[ACTORV_df[\"CODIGO_CAUSA\"] == 112, \"CODIGO_CAUSA\"] = 'DESOBEDECER_SENAL'\n",
        "ACTORV_df.loc[ACTORV_df[\"CODIGO_CAUSA\"] == 114, \"CODIGO_CAUSA\"] = 'EMBRIAGUEZ'\n",
        "ACTORV_df.loc[ACTORV_df[\"CODIGO_CAUSA\"] == 115, \"CODIGO_CAUSA\"] = 'EMBRIAGUEZ'\n",
        "ACTORV_df.loc[ACTORV_df[\"CODIGO_CAUSA\"] == 119, \"CODIGO_CAUSA\"] = 'FRENAR_BRUSC'\n",
        "ACTORV_df.loc[ACTORV_df[\"CODIGO_CAUSA\"] == 121, \"CODIGO_CAUSA\"] = 'NO_MANTENER_DIST'\n",
        "ACTORV_df.loc[ACTORV_df[\"CODIGO_CAUSA\"] == 122, \"CODIGO_CAUSA\"] = 'NO_SENAL_GIRO'\n",
        "ACTORV_df.loc[ACTORV_df[\"CODIGO_CAUSA\"] == 123, \"CODIGO_CAUSA\"] = 'NO_RESP_PREL'\n",
        "ACTORV_df.loc[ACTORV_df[\"CODIGO_CAUSA\"] == 127, \"CODIGO_CAUSA\"] = 'CONTRAVIA'\n",
        "ACTORV_df.loc[ACTORV_df[\"CODIGO_CAUSA\"] == 132, \"CODIGO_CAUSA\"] = 'NO_RESP_PREL'\n",
        "ACTORV_df.loc[ACTORV_df[\"CODIGO_CAUSA\"] == 134, \"CODIGO_CAUSA\"] = 'REVERSO_IMPRU'\n",
        "ACTORV_df.loc[ACTORV_df[\"CODIGO_CAUSA\"] == 139, \"CODIGO_CAUSA\"] = 'IMPERICIA_MANEJO'\n",
        "ACTORV_df.loc[ACTORV_df[\"CODIGO_CAUSA\"] == 141, \"CODIGO_CAUSA\"] = 'VEHICLO_MAL_EST'\n",
        "ACTORV_df.loc[ACTORV_df[\"CODIGO_CAUSA\"] == 142, \"CODIGO_CAUSA\"] = 'SEMAFORO_ROJO'\n",
        "ACTORV_df.loc[ACTORV_df[\"CODIGO_CAUSA\"] == 143, \"CODIGO_CAUSA\"] = 'ARRANCAR_SIN_PREC'\n",
        "ACTORV_df.loc[ACTORV_df[\"CODIGO_CAUSA\"] == 145, \"CODIGO_CAUSA\"] = 'ARRANCAR_SIN_PREC'\n",
        "ACTORV_df.loc[ACTORV_df[\"CODIGO_CAUSA\"] == 157, \"CODIGO_CAUSA\"] = 'NO_DETALLE'\n",
        "ACTORV_df.loc[ACTORV_df[\"CODIGO_CAUSA\"] == 306, \"CODIGO_CAUSA\"] = 'HUECOS'\n",
        "ACTORV_df.loc[ACTORV_df[\"CODIGO_CAUSA\"] == 409, \"CODIGO_CAUSA\"] = 'NO_OBSERVAR'\n",
        "ACTORV_df.loc[ACTORV_df[\"CODIGO_CAUSA\"] == 411, \"CODIGO_CAUSA\"] = 'OTRAS'\n",
        "ACTORV_df.loc[ACTORV_df[\"CODIGO_CAUSA\"] == 506, \"CODIGO_CAUSA\"] = 'OTRAS'\n",
        "ACTORV_df.loc[ACTORV_df[\"CODIGO_CAUSA\"] == 750, \"CODIGO_CAUSA\"] = 'MANT_MECANICO'"
      ]
    },
    {
      "cell_type": "code",
      "execution_count": null,
      "metadata": {
        "id": "dYYrA0S0XPM9"
      },
      "outputs": [],
      "source": [
        "#Conversión de códigos a parámetros categoricos\n",
        "ACTORV_df.loc[ACTORV_df[\"SERVICIO_VEHICULO\"] == 1, \"SERVICIO_VEHICULO\"] = 'OFICIAL'\n",
        "ACTORV_df.loc[ACTORV_df[\"SERVICIO_VEHICULO\"] == 2, \"SERVICIO_VEHICULO\"] = 'PUBLICO'\n",
        "ACTORV_df.loc[ACTORV_df[\"SERVICIO_VEHICULO\"] == 3, \"SERVICIO_VEHICULO\"] = 'PARTICULAR'\n",
        "ACTORV_df.loc[ACTORV_df[\"SERVICIO_VEHICULO\"] == 5, \"SERVICIO_VEHICULO\"] = 'SER_BICICLETA'\n",
        "ACTORV_df.loc[ACTORV_df[\"SERVICIO_VEHICULO\"] == 6, \"SERVICIO_VEHICULO\"] = 'SER_PEATONAL'"
      ]
    },
    {
      "cell_type": "code",
      "execution_count": null,
      "metadata": {
        "id": "orH19h_5bzQN"
      },
      "outputs": [],
      "source": [
        "#Parametrización de la variable respuesta en códigos para los siguientes modelos.\n",
        "ACTORV_df.loc[ACTORV_df[\"GRAVEDAD\"] == 1, \"GRAVEDAD\"] = 0\n",
        "ACTORV_df.loc[ACTORV_df[\"GRAVEDAD\"] == 2, \"GRAVEDAD\"] = 1\n",
        "ACTORV_df.loc[ACTORV_df[\"GRAVEDAD\"] == 3, \"GRAVEDAD\"] = 2"
      ]
    },
    {
      "cell_type": "code",
      "execution_count": null,
      "metadata": {
        "colab": {
          "base_uri": "https://localhost:8080/",
          "height": 0
        },
        "id": "3FwjRzr0hyrd",
        "outputId": "350380c7-69e6-4dcc-d03a-4f7e493f4e14"
      },
      "outputs": [
        {
          "data": {
            "text/html": [
              "<div>\n",
              "<style scoped>\n",
              "    .dataframe tbody tr th:only-of-type {\n",
              "        vertical-align: middle;\n",
              "    }\n",
              "\n",
              "    .dataframe tbody tr th {\n",
              "        vertical-align: top;\n",
              "    }\n",
              "\n",
              "    .dataframe thead th {\n",
              "        text-align: right;\n",
              "    }\n",
              "</style>\n",
              "<table border=\"1\" class=\"dataframe\">\n",
              "  <thead>\n",
              "    <tr style=\"text-align: right;\">\n",
              "      <th></th>\n",
              "      <th>GRAVEDAD</th>\n",
              "      <th>TIPO_ACTOR</th>\n",
              "      <th>GENERO</th>\n",
              "      <th>CLASE_SINIESTRO</th>\n",
              "      <th>CLASE_VEHICULO</th>\n",
              "      <th>SERVICIO_VEHICULO</th>\n",
              "      <th>CODIGO_CAUSA</th>\n",
              "      <th>MODELO_CAT</th>\n",
              "      <th>EDAD</th>\n",
              "    </tr>\n",
              "  </thead>\n",
              "  <tbody>\n",
              "    <tr>\n",
              "      <th>0</th>\n",
              "      <td>2</td>\n",
              "      <td>CONDUCTOR</td>\n",
              "      <td>MASCULINO</td>\n",
              "      <td>CHOQUE</td>\n",
              "      <td>CAMION</td>\n",
              "      <td>PUBLICO</td>\n",
              "      <td>NO_MANTENER_DIST</td>\n",
              "      <td>(1990, 2000]</td>\n",
              "      <td>24</td>\n",
              "    </tr>\n",
              "    <tr>\n",
              "      <th>1</th>\n",
              "      <td>2</td>\n",
              "      <td>CONDUCTOR</td>\n",
              "      <td>MASCULINO</td>\n",
              "      <td>CHOQUE</td>\n",
              "      <td>CAMIONETA</td>\n",
              "      <td>PARTICULAR</td>\n",
              "      <td>NO_MANTENER_DIST</td>\n",
              "      <td>(2020, 2025]</td>\n",
              "      <td>54</td>\n",
              "    </tr>\n",
              "    <tr>\n",
              "      <th>2</th>\n",
              "      <td>1</td>\n",
              "      <td>CONDUCTOR</td>\n",
              "      <td>MASCULINO</td>\n",
              "      <td>CHOQUE</td>\n",
              "      <td>BUS</td>\n",
              "      <td>PUBLICO</td>\n",
              "      <td>NO_MANTENER_DIST</td>\n",
              "      <td>(2015, 2020]</td>\n",
              "      <td>51</td>\n",
              "    </tr>\n",
              "    <tr>\n",
              "      <th>3</th>\n",
              "      <td>1</td>\n",
              "      <td>CONDUCTOR</td>\n",
              "      <td>MASCULINO</td>\n",
              "      <td>CHOQUE</td>\n",
              "      <td>BUS</td>\n",
              "      <td>PUBLICO</td>\n",
              "      <td>OTRAS</td>\n",
              "      <td>(2015, 2020]</td>\n",
              "      <td>51</td>\n",
              "    </tr>\n",
              "    <tr>\n",
              "      <th>4</th>\n",
              "      <td>1</td>\n",
              "      <td>CONDUCTOR</td>\n",
              "      <td>MASCULINO</td>\n",
              "      <td>CHOQUE</td>\n",
              "      <td>BUS</td>\n",
              "      <td>PUBLICO</td>\n",
              "      <td>NO_MANTENER_DIST</td>\n",
              "      <td>(2010, 2015]</td>\n",
              "      <td>47</td>\n",
              "    </tr>\n",
              "    <tr>\n",
              "      <th>5</th>\n",
              "      <td>1</td>\n",
              "      <td>CONDUCTOR</td>\n",
              "      <td>MASCULINO</td>\n",
              "      <td>CHOQUE</td>\n",
              "      <td>BUS</td>\n",
              "      <td>PUBLICO</td>\n",
              "      <td>OTRAS</td>\n",
              "      <td>(2010, 2015]</td>\n",
              "      <td>47</td>\n",
              "    </tr>\n",
              "    <tr>\n",
              "      <th>6</th>\n",
              "      <td>1</td>\n",
              "      <td>CONDUCTOR</td>\n",
              "      <td>MASCULINO</td>\n",
              "      <td>CHOQUE</td>\n",
              "      <td>BUS</td>\n",
              "      <td>PUBLICO</td>\n",
              "      <td>NO_MANTENER_DIST</td>\n",
              "      <td>(2010, 2015]</td>\n",
              "      <td>49</td>\n",
              "    </tr>\n",
              "    <tr>\n",
              "      <th>7</th>\n",
              "      <td>1</td>\n",
              "      <td>PASAJERO</td>\n",
              "      <td>MASCULINO</td>\n",
              "      <td>CHOQUE</td>\n",
              "      <td>BUS</td>\n",
              "      <td>PUBLICO</td>\n",
              "      <td>NO_MANTENER_DIST</td>\n",
              "      <td>(2010, 2015]</td>\n",
              "      <td>21</td>\n",
              "    </tr>\n",
              "    <tr>\n",
              "      <th>8</th>\n",
              "      <td>1</td>\n",
              "      <td>CONDUCTOR</td>\n",
              "      <td>MASCULINO</td>\n",
              "      <td>CHOQUE</td>\n",
              "      <td>BUS</td>\n",
              "      <td>PUBLICO</td>\n",
              "      <td>OTRAS</td>\n",
              "      <td>(2010, 2015]</td>\n",
              "      <td>49</td>\n",
              "    </tr>\n",
              "    <tr>\n",
              "      <th>9</th>\n",
              "      <td>1</td>\n",
              "      <td>PASAJERO</td>\n",
              "      <td>MASCULINO</td>\n",
              "      <td>CHOQUE</td>\n",
              "      <td>BUS</td>\n",
              "      <td>PUBLICO</td>\n",
              "      <td>OTRAS</td>\n",
              "      <td>(2010, 2015]</td>\n",
              "      <td>21</td>\n",
              "    </tr>\n",
              "  </tbody>\n",
              "</table>\n",
              "</div>"
            ],
            "text/plain": [
              "   GRAVEDAD TIPO_ACTOR     GENERO CLASE_SINIESTRO CLASE_VEHICULO  \\\n",
              "0         2  CONDUCTOR  MASCULINO          CHOQUE         CAMION   \n",
              "1         2  CONDUCTOR  MASCULINO          CHOQUE      CAMIONETA   \n",
              "2         1  CONDUCTOR  MASCULINO          CHOQUE            BUS   \n",
              "3         1  CONDUCTOR  MASCULINO          CHOQUE            BUS   \n",
              "4         1  CONDUCTOR  MASCULINO          CHOQUE            BUS   \n",
              "5         1  CONDUCTOR  MASCULINO          CHOQUE            BUS   \n",
              "6         1  CONDUCTOR  MASCULINO          CHOQUE            BUS   \n",
              "7         1   PASAJERO  MASCULINO          CHOQUE            BUS   \n",
              "8         1  CONDUCTOR  MASCULINO          CHOQUE            BUS   \n",
              "9         1   PASAJERO  MASCULINO          CHOQUE            BUS   \n",
              "\n",
              "  SERVICIO_VEHICULO      CODIGO_CAUSA    MODELO_CAT  EDAD  \n",
              "0           PUBLICO  NO_MANTENER_DIST  (1990, 2000]    24  \n",
              "1        PARTICULAR  NO_MANTENER_DIST  (2020, 2025]    54  \n",
              "2           PUBLICO  NO_MANTENER_DIST  (2015, 2020]    51  \n",
              "3           PUBLICO             OTRAS  (2015, 2020]    51  \n",
              "4           PUBLICO  NO_MANTENER_DIST  (2010, 2015]    47  \n",
              "5           PUBLICO             OTRAS  (2010, 2015]    47  \n",
              "6           PUBLICO  NO_MANTENER_DIST  (2010, 2015]    49  \n",
              "7           PUBLICO  NO_MANTENER_DIST  (2010, 2015]    21  \n",
              "8           PUBLICO             OTRAS  (2010, 2015]    49  \n",
              "9           PUBLICO             OTRAS  (2010, 2015]    21  "
            ]
          },
          "execution_count": 22,
          "metadata": {},
          "output_type": "execute_result"
        }
      ],
      "source": [
        "#Eliminación de valores faltantes o nulos\n",
        "ACTOR_ML=ACTORV_df[['GRAVEDAD', 'TIPO_ACTOR','GENERO','CLASE_SINIESTRO','CLASE_VEHICULO','SERVICIO_VEHICULO','CODIGO_CAUSA','MODELO_CAT','EDAD']]\n",
        "ACTOR_ML = ACTOR_ML.dropna(axis=0)\n",
        "ACTOR_ML.head(10)"
      ]
    },
    {
      "cell_type": "markdown",
      "metadata": {
        "id": "V4qX_pj_hxmY"
      },
      "source": [
        "### 3. ESTADÍSTICA DESCRIPTIVA\n",
        "------------\n",
        "Para el mayor entendimiento de la problemática resulta idóneo la aplicación de técnicas de estadística descriptiva, así bien, para las variables categóricas se aplicaran tablas pivot que permiten el adecuado estudio de este tipo de variables."
      ]
    },
    {
      "cell_type": "code",
      "execution_count": null,
      "metadata": {
        "colab": {
          "base_uri": "https://localhost:8080/",
          "height": 0
        },
        "id": "f5tg4-t_jSEp",
        "outputId": "3e4a66ba-dbb1-4873-8ae3-d678256d92be"
      },
      "outputs": [
        {
          "data": {
            "text/html": [
              "<div>\n",
              "<style scoped>\n",
              "    .dataframe tbody tr th:only-of-type {\n",
              "        vertical-align: middle;\n",
              "    }\n",
              "\n",
              "    .dataframe tbody tr th {\n",
              "        vertical-align: top;\n",
              "    }\n",
              "\n",
              "    .dataframe thead tr th {\n",
              "        text-align: left;\n",
              "    }\n",
              "</style>\n",
              "<table border=\"1\" class=\"dataframe\">\n",
              "  <thead>\n",
              "    <tr>\n",
              "      <th></th>\n",
              "      <th>GRAVEDAD</th>\n",
              "      <th>GENERO</th>\n",
              "      <th colspan=\"6\" halign=\"left\">TIPO_ACTOR</th>\n",
              "      <th colspan=\"13\" halign=\"left\">CLASE_VEHICULO</th>\n",
              "    </tr>\n",
              "    <tr>\n",
              "      <th></th>\n",
              "      <th></th>\n",
              "      <th></th>\n",
              "      <th>ACOMPANANTE</th>\n",
              "      <th>CICLISTA</th>\n",
              "      <th>CONDUCTOR</th>\n",
              "      <th>MOTOCICLISTA</th>\n",
              "      <th>PASAJERO</th>\n",
              "      <th>PEATON</th>\n",
              "      <th>AUTOMOVIL</th>\n",
              "      <th>BICICLETA</th>\n",
              "      <th>...</th>\n",
              "      <th>BUSETA</th>\n",
              "      <th>CAMION</th>\n",
              "      <th>CAMIONETA</th>\n",
              "      <th>CAMPERO</th>\n",
              "      <th>MICROBUS</th>\n",
              "      <th>MOD_PEATONAL</th>\n",
              "      <th>MOTOCICLETA</th>\n",
              "      <th>MOTOCICLO</th>\n",
              "      <th>TRACTOCAMION</th>\n",
              "      <th>VOLQUETA</th>\n",
              "    </tr>\n",
              "  </thead>\n",
              "  <tbody>\n",
              "    <tr>\n",
              "      <th>0</th>\n",
              "      <td>0</td>\n",
              "      <td>FEMENINO</td>\n",
              "      <td>157</td>\n",
              "      <td>32</td>\n",
              "      <td>38</td>\n",
              "      <td>55</td>\n",
              "      <td>47</td>\n",
              "      <td>110</td>\n",
              "      <td>72</td>\n",
              "      <td>32</td>\n",
              "      <td>...</td>\n",
              "      <td>1</td>\n",
              "      <td>1</td>\n",
              "      <td>20</td>\n",
              "      <td>6</td>\n",
              "      <td>6</td>\n",
              "      <td>110</td>\n",
              "      <td>179</td>\n",
              "      <td>0</td>\n",
              "      <td>0</td>\n",
              "      <td>0</td>\n",
              "    </tr>\n",
              "    <tr>\n",
              "      <th>1</th>\n",
              "      <td>0</td>\n",
              "      <td>MASCULINO</td>\n",
              "      <td>134</td>\n",
              "      <td>250</td>\n",
              "      <td>799</td>\n",
              "      <td>724</td>\n",
              "      <td>44</td>\n",
              "      <td>268</td>\n",
              "      <td>256</td>\n",
              "      <td>250</td>\n",
              "      <td>...</td>\n",
              "      <td>11</td>\n",
              "      <td>131</td>\n",
              "      <td>118</td>\n",
              "      <td>17</td>\n",
              "      <td>30</td>\n",
              "      <td>268</td>\n",
              "      <td>814</td>\n",
              "      <td>3</td>\n",
              "      <td>66</td>\n",
              "      <td>50</td>\n",
              "    </tr>\n",
              "    <tr>\n",
              "      <th>2</th>\n",
              "      <td>1</td>\n",
              "      <td>FEMENINO</td>\n",
              "      <td>4314</td>\n",
              "      <td>1731</td>\n",
              "      <td>2209</td>\n",
              "      <td>2076</td>\n",
              "      <td>3254</td>\n",
              "      <td>2370</td>\n",
              "      <td>3441</td>\n",
              "      <td>1731</td>\n",
              "      <td>...</td>\n",
              "      <td>140</td>\n",
              "      <td>45</td>\n",
              "      <td>921</td>\n",
              "      <td>236</td>\n",
              "      <td>247</td>\n",
              "      <td>2370</td>\n",
              "      <td>5041</td>\n",
              "      <td>36</td>\n",
              "      <td>8</td>\n",
              "      <td>10</td>\n",
              "    </tr>\n",
              "    <tr>\n",
              "      <th>3</th>\n",
              "      <td>1</td>\n",
              "      <td>MASCULINO</td>\n",
              "      <td>2102</td>\n",
              "      <td>4927</td>\n",
              "      <td>21181</td>\n",
              "      <td>16734</td>\n",
              "      <td>1345</td>\n",
              "      <td>2671</td>\n",
              "      <td>11651</td>\n",
              "      <td>4927</td>\n",
              "      <td>...</td>\n",
              "      <td>303</td>\n",
              "      <td>982</td>\n",
              "      <td>4107</td>\n",
              "      <td>848</td>\n",
              "      <td>678</td>\n",
              "      <td>2671</td>\n",
              "      <td>18031</td>\n",
              "      <td>62</td>\n",
              "      <td>228</td>\n",
              "      <td>193</td>\n",
              "    </tr>\n",
              "    <tr>\n",
              "      <th>4</th>\n",
              "      <td>2</td>\n",
              "      <td>FEMENINO</td>\n",
              "      <td>0</td>\n",
              "      <td>76</td>\n",
              "      <td>8912</td>\n",
              "      <td>435</td>\n",
              "      <td>0</td>\n",
              "      <td>0</td>\n",
              "      <td>6008</td>\n",
              "      <td>76</td>\n",
              "      <td>...</td>\n",
              "      <td>6</td>\n",
              "      <td>57</td>\n",
              "      <td>2058</td>\n",
              "      <td>619</td>\n",
              "      <td>48</td>\n",
              "      <td>0</td>\n",
              "      <td>434</td>\n",
              "      <td>2</td>\n",
              "      <td>9</td>\n",
              "      <td>3</td>\n",
              "    </tr>\n",
              "    <tr>\n",
              "      <th>5</th>\n",
              "      <td>2</td>\n",
              "      <td>MASCULINO</td>\n",
              "      <td>0</td>\n",
              "      <td>490</td>\n",
              "      <td>66062</td>\n",
              "      <td>4767</td>\n",
              "      <td>0</td>\n",
              "      <td>0</td>\n",
              "      <td>30435</td>\n",
              "      <td>490</td>\n",
              "      <td>...</td>\n",
              "      <td>745</td>\n",
              "      <td>5822</td>\n",
              "      <td>13805</td>\n",
              "      <td>3070</td>\n",
              "      <td>1409</td>\n",
              "      <td>0</td>\n",
              "      <td>4765</td>\n",
              "      <td>11</td>\n",
              "      <td>1842</td>\n",
              "      <td>965</td>\n",
              "    </tr>\n",
              "  </tbody>\n",
              "</table>\n",
              "<p>6 rows × 21 columns</p>\n",
              "</div>"
            ],
            "text/plain": [
              "  GRAVEDAD     GENERO  TIPO_ACTOR                                           \\\n",
              "                      ACOMPANANTE CICLISTA CONDUCTOR MOTOCICLISTA PASAJERO   \n",
              "0        0   FEMENINO         157       32        38           55       47   \n",
              "1        0  MASCULINO         134      250       799          724       44   \n",
              "2        1   FEMENINO        4314     1731      2209         2076     3254   \n",
              "3        1  MASCULINO        2102     4927     21181        16734     1345   \n",
              "4        2   FEMENINO           0       76      8912          435        0   \n",
              "5        2  MASCULINO           0      490     66062         4767        0   \n",
              "\n",
              "         CLASE_VEHICULO            ...                                  \\\n",
              "  PEATON      AUTOMOVIL BICICLETA  ... BUSETA CAMION CAMIONETA CAMPERO   \n",
              "0    110             72        32  ...      1      1        20       6   \n",
              "1    268            256       250  ...     11    131       118      17   \n",
              "2   2370           3441      1731  ...    140     45       921     236   \n",
              "3   2671          11651      4927  ...    303    982      4107     848   \n",
              "4      0           6008        76  ...      6     57      2058     619   \n",
              "5      0          30435       490  ...    745   5822     13805    3070   \n",
              "\n",
              "                                                                     \n",
              "  MICROBUS MOD_PEATONAL MOTOCICLETA MOTOCICLO TRACTOCAMION VOLQUETA  \n",
              "0        6          110         179         0            0        0  \n",
              "1       30          268         814         3           66       50  \n",
              "2      247         2370        5041        36            8       10  \n",
              "3      678         2671       18031        62          228      193  \n",
              "4       48            0         434         2            9        3  \n",
              "5     1409            0        4765        11         1842      965  \n",
              "\n",
              "[6 rows x 21 columns]"
            ]
          },
          "execution_count": 23,
          "metadata": {},
          "output_type": "execute_result"
        }
      ],
      "source": [
        "PIV_ACTOR = ACTOR_ML.pivot_table(ACTOR_ML, index=['GRAVEDAD','GENERO'],columns=['TIPO_ACTOR'],\n",
        "                    aggfunc={'TIPO_ACTOR': 'count'}).fillna(0).astype(int)\n",
        "PIV_ACTOR_DF=PIV_ACTOR.reset_index()\n",
        "PIV_VEHICULO = ACTOR_ML.pivot_table(ACTOR_ML, index=['GRAVEDAD','GENERO'],columns=['CLASE_VEHICULO'],\n",
        "                    aggfunc={'CLASE_VEHICULO': 'count'}).fillna(0).astype(int)\n",
        "PIV_VEHICULO_DF=(PIV_VEHICULO .reset_index()).iloc[:,2:]\n",
        "\n",
        "#PIV_EDAD = ACTOR_ML.pivot_table(ACTOR_ML, index=['GRAVEDAD','GENERO'],columns=['EDAD_CAT'],\n",
        "#                    aggfunc={'EDAD_CAT': 'count'}).fillna(0).astype(int)\n",
        "#PIV_EDAD_DF=(PIV_EDAD.reset_index()).iloc[:,2:]\n",
        "df_CONCAT=pd.concat([PIV_ACTOR_DF,PIV_VEHICULO_DF], axis=1)\n",
        "df_CONCAT"
      ]
    },
    {
      "cell_type": "markdown",
      "metadata": {
        "id": "9H6pBhc6h8WL"
      },
      "source": [
        "### 4. PREPROCESAMIENTO INFORMACION\n",
        "------------------\n",
        "Para la aplicación de técnicas de Machine Learning, es importante el tratamiento adecuado de los datos que permita la posterior aplicación de las variables, así bien, en este caso al ser variables categoría, se aplicara la metodología de *“OneHotEncoder”* para el tratamiento de variables categóricas."
      ]
    },
    {
      "cell_type": "code",
      "execution_count": null,
      "metadata": {
        "id": "eQMihksd0lAO"
      },
      "outputs": [],
      "source": [
        "from sklearn.preprocessing import OneHotEncoder, StandardScaler\n",
        "from sklearn.compose import ColumnTransformer"
      ]
    },
    {
      "cell_type": "code",
      "execution_count": null,
      "metadata": {
        "colab": {
          "base_uri": "https://localhost:8080/"
        },
        "id": "MIez2MXapMv2",
        "outputId": "0d450f08-8f50-47f9-f69a-f4b4f42a26c9"
      },
      "outputs": [
        {
          "name": "stdout",
          "output_type": "stream",
          "text": [
            "El shape de X_ACTORV es: (148314, 8)\n",
            "El shape de y_ACTORV es: (148314,)\n",
            "<class 'pandas.core.frame.DataFrame'>\n",
            "Index: 148314 entries, 0 to 158837\n",
            "Data columns (total 8 columns):\n",
            " #   Column             Non-Null Count   Dtype   \n",
            "---  ------             --------------   -----   \n",
            " 0   TIPO_ACTOR         148314 non-null  object  \n",
            " 1   GENERO             148314 non-null  object  \n",
            " 2   CLASE_SINIESTRO    148314 non-null  object  \n",
            " 3   CLASE_VEHICULO     148314 non-null  object  \n",
            " 4   SERVICIO_VEHICULO  148314 non-null  object  \n",
            " 5   CODIGO_CAUSA       148314 non-null  object  \n",
            " 6   MODELO_CAT         148314 non-null  category\n",
            " 7   EDAD               148314 non-null  Int64   \n",
            "dtypes: Int64(1), category(1), object(6)\n",
            "memory usage: 9.3+ MB\n"
          ]
        }
      ],
      "source": [
        "# Identificación de las variables exploratorias y respuesta para la base de datos de actores viales\n",
        "X_ACTORV = ACTOR_ML.drop(['GRAVEDAD'], axis=1)\n",
        "y_ACTORV  = ACTOR_ML.GRAVEDAD\n",
        "\n",
        "print(f'El shape de X_ACTORV es: {X_ACTORV.shape}')\n",
        "print(f'El shape de y_ACTORV es: {y_ACTORV.shape}')\n",
        "X_ACTORV.info()"
      ]
    },
    {
      "cell_type": "code",
      "execution_count": null,
      "metadata": {
        "id": "m0j_BrDU9FYQ"
      },
      "outputs": [],
      "source": [
        "#X_ACTORV.to_csv('X_ACTORV_2.csv', index=False,header=True)"
      ]
    },
    {
      "cell_type": "code",
      "execution_count": null,
      "metadata": {
        "colab": {
          "base_uri": "https://localhost:8080/"
        },
        "id": "cFUaFmADpp8s",
        "outputId": "9d9c3a16-3aae-4b7c-fd6c-7de40d25a64b"
      },
      "outputs": [
        {
          "name": "stdout",
          "output_type": "stream",
          "text": [
            "El shape de X_ACTORV es: (148314, 8)\n",
            "El shape de X_ACTORV_prepr es: (148314, 57)\n"
          ]
        }
      ],
      "source": [
        "#Transformación de las variables categóricas\n",
        "categoric=list(X_ACTORV.select_dtypes(['object','category']).columns)\n",
        "numeric = list(X_ACTORV.select_dtypes(['int64']).columns)\n",
        "\n",
        "tf = ColumnTransformer([('onehot', OneHotEncoder(), categoric),\n",
        "                        ('scaler', StandardScaler(), numeric)])\n",
        "\n",
        "X_ACTORV_prepr = tf.fit_transform(X_ACTORV)\n",
        "\n",
        "print(f'El shape de X_ACTORV es: {X_ACTORV.shape}')\n",
        "print(f'El shape de X_ACTORV_prepr es: {X_ACTORV_prepr.shape}')"
      ]
    },
    {
      "cell_type": "code",
      "execution_count": null,
      "metadata": {
        "colab": {
          "base_uri": "https://localhost:8080/"
        },
        "id": "_0ALhW7LuFFD",
        "outputId": "a7b57c4d-a2c8-4cdc-9d25-047ec5a406ca"
      },
      "outputs": [
        {
          "data": {
            "text/plain": [
              "['TIPO_ACTOR',\n",
              " 'GENERO',\n",
              " 'CLASE_SINIESTRO',\n",
              " 'CLASE_VEHICULO',\n",
              " 'SERVICIO_VEHICULO',\n",
              " 'CODIGO_CAUSA',\n",
              " 'MODELO_CAT']"
            ]
          },
          "execution_count": 28,
          "metadata": {},
          "output_type": "execute_result"
        }
      ],
      "source": [
        "categoric"
      ]
    },
    {
      "cell_type": "code",
      "execution_count": null,
      "metadata": {
        "colab": {
          "base_uri": "https://localhost:8080/"
        },
        "id": "CP1h8VojGV5d",
        "outputId": "33d39651-c265-42e5-c2fa-03771fef59a5"
      },
      "outputs": [
        {
          "data": {
            "text/plain": [
              "['EDAD']"
            ]
          },
          "execution_count": 29,
          "metadata": {},
          "output_type": "execute_result"
        }
      ],
      "source": [
        "numeric"
      ]
    },
    {
      "cell_type": "code",
      "execution_count": null,
      "metadata": {
        "colab": {
          "base_uri": "https://localhost:8080/"
        },
        "id": "q6QUmbFeuT4z",
        "outputId": "97629b9b-124c-431d-aad3-ec43201caab4"
      },
      "outputs": [
        {
          "data": {
            "text/plain": [
              "array(['TIPO_ACTOR_ACOMPANANTE', 'TIPO_ACTOR_CICLISTA',\n",
              "       'TIPO_ACTOR_CONDUCTOR', 'TIPO_ACTOR_MOTOCICLISTA',\n",
              "       'TIPO_ACTOR_PASAJERO', 'TIPO_ACTOR_PEATON', 'GENERO_FEMENINO',\n",
              "       'GENERO_MASCULINO', 'CLASE_SINIESTRO_ATROPELLO',\n",
              "       'CLASE_SINIESTRO_CAIDA_OCC', 'CLASE_SINIESTRO_CHOQUE',\n",
              "       'CLASE_SINIESTRO_VOLVAMIENTO', 'CLASE_VEHICULO_AUTOMOVIL',\n",
              "       'CLASE_VEHICULO_BICICLETA', 'CLASE_VEHICULO_BUS',\n",
              "       'CLASE_VEHICULO_BUSETA', 'CLASE_VEHICULO_CAMION',\n",
              "       'CLASE_VEHICULO_CAMIONETA', 'CLASE_VEHICULO_CAMPERO',\n",
              "       'CLASE_VEHICULO_MICROBUS', 'CLASE_VEHICULO_MOD_PEATONAL',\n",
              "       'CLASE_VEHICULO_MOTOCICLETA', 'CLASE_VEHICULO_MOTOCICLO',\n",
              "       'CLASE_VEHICULO_TRACTOCAMION', 'CLASE_VEHICULO_VOLQUETA',\n",
              "       'SERVICIO_VEHICULO_OFICIAL', 'SERVICIO_VEHICULO_PARTICULAR',\n",
              "       'SERVICIO_VEHICULO_PUBLICO', 'SERVICIO_VEHICULO_SER_BICICLETA',\n",
              "       'SERVICIO_VEHICULO_SER_PEATONAL', 'CODIGO_CAUSA_ADELANTAR_CERR',\n",
              "       'CODIGO_CAUSA_ADELANTAR_DER', 'CODIGO_CAUSA_ADELANTAR_INVA',\n",
              "       'CODIGO_CAUSA_ARRANCAR_SIN_PREC', 'CODIGO_CAUSA_CONTRAVIA',\n",
              "       'CODIGO_CAUSA_DESOBEDECER_SENAL', 'CODIGO_CAUSA_EMBRIAGUEZ',\n",
              "       'CODIGO_CAUSA_FRENAR_BRUSC', 'CODIGO_CAUSA_IMPERICIA_MANEJO',\n",
              "       'CODIGO_CAUSA_NO_DETALLE', 'CODIGO_CAUSA_NO_MANTENER_DIST',\n",
              "       'CODIGO_CAUSA_NO_RESP_PREL', 'CODIGO_CAUSA_NO_SENAL_GIRO',\n",
              "       'CODIGO_CAUSA_OTRAS', 'CODIGO_CAUSA_REVERSO_IMPRU',\n",
              "       'CODIGO_CAUSA_SEMAFORO_ROJO', 'CODIGO_CAUSA_TRANSIT_ENTRE_VEH',\n",
              "       'CODIGO_CAUSA_VEHICLO_MAL_EST', 'MODELO_CAT_(1900, 1990]',\n",
              "       'MODELO_CAT_(1990, 2000]', 'MODELO_CAT_(2000, 2010]',\n",
              "       'MODELO_CAT_(2010, 2015]', 'MODELO_CAT_(2015, 2020]',\n",
              "       'MODELO_CAT_(2020, 2025]', 'MODELO_CAT_(2025, 3500]',\n",
              "       'MODELO_CAT_(3500, 10000]', 'EDAD'], dtype=object)"
            ]
          },
          "execution_count": 30,
          "metadata": {},
          "output_type": "execute_result"
        }
      ],
      "source": [
        "#Nombre con las diferentes Categorias\n",
        "onehot_categories = tf.named_transformers_['onehot'].get_feature_names_out()\n",
        "scaler_categories = tf.named_transformers_['scaler'].get_feature_names_out()\n",
        "ACTOR_NAMES=np.concatenate((onehot_categories, scaler_categories), axis=0)\n",
        "ACTOR_NAMES"
      ]
    },
    {
      "cell_type": "markdown",
      "metadata": {
        "id": "xW6eh5NklHKJ"
      },
      "source": [
        "### 5. DEFINICIÓN DE BASES DE ENTRENAMIENTO Y PRUEBA\n",
        "------------\n",
        "Para los ejercicios de Machine Learning, es relevante la adecuada separación de los conjuntos de entrenamiento y pruebas, así bien se aplican funciones de *sklearn* para la separación de los datos."
      ]
    },
    {
      "cell_type": "code",
      "execution_count": null,
      "metadata": {
        "id": "is2rjXp3lRiO"
      },
      "outputs": [],
      "source": [
        "from sklearn.model_selection import train_test_split\n",
        "\n",
        "X_train, X_test, y_train, y_test = train_test_split(X_ACTORV_prepr,\n",
        "                                                    y_ACTORV,\n",
        "                                                    test_size=0.3,\n",
        "                                                    stratify=y_ACTORV,\n",
        "                                                    random_state=42)"
      ]
    },
    {
      "cell_type": "code",
      "execution_count": null,
      "metadata": {
        "colab": {
          "base_uri": "https://localhost:8080/"
        },
        "id": "Z8ksCPM3lqDE",
        "outputId": "d0a41836-6b2d-4464-db4c-301efda00f15"
      },
      "outputs": [
        {
          "name": "stdout",
          "output_type": "stream",
          "text": [
            "Número de muestras en entrenamiento: 103819\n",
            "Número de muestras en prueba: 44495\n",
            "Número de características: 57\n",
            "Distribución de clases en entrenamiento: [ 1861 45439 56519]\n",
            "Distribución de clases en prueba: [  797 19475 24223]\n"
          ]
        }
      ],
      "source": [
        "print(f'Número de muestras en entrenamiento: {X_train.shape[0]}')\n",
        "print(f'Número de muestras en prueba: {X_test.shape[0]}')\n",
        "print(f'Número de características: {X_train.shape[1]}')\n",
        "print(f'Distribución de clases en entrenamiento: {np.bincount(y_train)}')\n",
        "print(f'Distribución de clases en prueba: {np.bincount(y_test)}')"
      ]
    },
    {
      "cell_type": "code",
      "execution_count": null,
      "metadata": {
        "id": "NAWWE-CywBbp"
      },
      "outputs": [],
      "source": [
        "gravedad_names=['MUERTO', 'HERIDO', 'DANOS']"
      ]
    },
    {
      "cell_type": "markdown",
      "metadata": {
        "id": "UkcVMOpLmH9d"
      },
      "source": [
        "\n",
        "## IV APLICACION DE ALGORITMOS DE ML\n",
        "--------------\n",
        "En el siguiente apartado se aplicarán diferentes algoritmos de aprendizaje para clasificación de parametros.\n",
        "\n",
        "En este apartado, primero se aplican algoritmos por validación cruzada para la identificación de los modelos de mayor desempeño y posteriormente se prueba el desempeño del mejor modelo."
      ]
    },
    {
      "cell_type": "markdown",
      "metadata": {
        "id": "eYD_eW7SmEC6"
      },
      "source": [
        "#### A) Algoritmo: K-vecinos más cercanos (KNN)\n",
        "\n"
      ]
    },
    {
      "cell_type": "code",
      "execution_count": null,
      "metadata": {
        "id": "4p9rm55lrbkB"
      },
      "outputs": [],
      "source": [
        "from sklearn.neighbors import KNeighborsClassifier\n",
        "from sklearn.metrics import confusion_matrix\n",
        "from sklearn.metrics import precision_score, recall_score, f1_score\n",
        "from sklearn.model_selection import GridSearchCV\n",
        "from sklearn.metrics import accuracy_score"
      ]
    },
    {
      "cell_type": "markdown",
      "metadata": {
        "id": "OKqBda5Jzrtl"
      },
      "source": [
        "##### KNN GridSearchCV"
      ]
    },
    {
      "cell_type": "code",
      "execution_count": null,
      "metadata": {
        "id": "OhqB_HSTxG1a"
      },
      "outputs": [],
      "source": [
        "#parámetros básicos para la aplicación del CV-grid\n",
        "knn = KNeighborsClassifier()\n",
        "k_range = list(range(2, 5))\n",
        "param_grid = dict(n_neighbors=k_range)"
      ]
    },
    {
      "cell_type": "code",
      "execution_count": null,
      "metadata": {
        "colab": {
          "base_uri": "https://localhost:8080/",
          "height": 409
        },
        "id": "cIYsDvWzxXg7",
        "outputId": "b5227048-430b-4c6a-a979-eb216374951a"
      },
      "outputs": [
        {
          "name": "stdout",
          "output_type": "stream",
          "text": [
            "Fitting 5 folds for each of 3 candidates, totalling 15 fits\n"
          ]
        },
        {
          "data": {
            "text/html": [
              "<style>#sk-container-id-1 {color: black;}#sk-container-id-1 pre{padding: 0;}#sk-container-id-1 div.sk-toggleable {background-color: white;}#sk-container-id-1 label.sk-toggleable__label {cursor: pointer;display: block;width: 100%;margin-bottom: 0;padding: 0.3em;box-sizing: border-box;text-align: center;}#sk-container-id-1 label.sk-toggleable__label-arrow:before {content: \"▸\";float: left;margin-right: 0.25em;color: #696969;}#sk-container-id-1 label.sk-toggleable__label-arrow:hover:before {color: black;}#sk-container-id-1 div.sk-estimator:hover label.sk-toggleable__label-arrow:before {color: black;}#sk-container-id-1 div.sk-toggleable__content {max-height: 0;max-width: 0;overflow: hidden;text-align: left;background-color: #f0f8ff;}#sk-container-id-1 div.sk-toggleable__content pre {margin: 0.2em;color: black;border-radius: 0.25em;background-color: #f0f8ff;}#sk-container-id-1 input.sk-toggleable__control:checked~div.sk-toggleable__content {max-height: 200px;max-width: 100%;overflow: auto;}#sk-container-id-1 input.sk-toggleable__control:checked~label.sk-toggleable__label-arrow:before {content: \"▾\";}#sk-container-id-1 div.sk-estimator input.sk-toggleable__control:checked~label.sk-toggleable__label {background-color: #d4ebff;}#sk-container-id-1 div.sk-label input.sk-toggleable__control:checked~label.sk-toggleable__label {background-color: #d4ebff;}#sk-container-id-1 input.sk-hidden--visually {border: 0;clip: rect(1px 1px 1px 1px);clip: rect(1px, 1px, 1px, 1px);height: 1px;margin: -1px;overflow: hidden;padding: 0;position: absolute;width: 1px;}#sk-container-id-1 div.sk-estimator {font-family: monospace;background-color: #f0f8ff;border: 1px dotted black;border-radius: 0.25em;box-sizing: border-box;margin-bottom: 0.5em;}#sk-container-id-1 div.sk-estimator:hover {background-color: #d4ebff;}#sk-container-id-1 div.sk-parallel-item::after {content: \"\";width: 100%;border-bottom: 1px solid gray;flex-grow: 1;}#sk-container-id-1 div.sk-label:hover label.sk-toggleable__label {background-color: #d4ebff;}#sk-container-id-1 div.sk-serial::before {content: \"\";position: absolute;border-left: 1px solid gray;box-sizing: border-box;top: 0;bottom: 0;left: 50%;z-index: 0;}#sk-container-id-1 div.sk-serial {display: flex;flex-direction: column;align-items: center;background-color: white;padding-right: 0.2em;padding-left: 0.2em;position: relative;}#sk-container-id-1 div.sk-item {position: relative;z-index: 1;}#sk-container-id-1 div.sk-parallel {display: flex;align-items: stretch;justify-content: center;background-color: white;position: relative;}#sk-container-id-1 div.sk-item::before, #sk-container-id-1 div.sk-parallel-item::before {content: \"\";position: absolute;border-left: 1px solid gray;box-sizing: border-box;top: 0;bottom: 0;left: 50%;z-index: -1;}#sk-container-id-1 div.sk-parallel-item {display: flex;flex-direction: column;z-index: 1;position: relative;background-color: white;}#sk-container-id-1 div.sk-parallel-item:first-child::after {align-self: flex-end;width: 50%;}#sk-container-id-1 div.sk-parallel-item:last-child::after {align-self: flex-start;width: 50%;}#sk-container-id-1 div.sk-parallel-item:only-child::after {width: 0;}#sk-container-id-1 div.sk-dashed-wrapped {border: 1px dashed gray;margin: 0 0.4em 0.5em 0.4em;box-sizing: border-box;padding-bottom: 0.4em;background-color: white;}#sk-container-id-1 div.sk-label label {font-family: monospace;font-weight: bold;display: inline-block;line-height: 1.2em;}#sk-container-id-1 div.sk-label-container {text-align: center;}#sk-container-id-1 div.sk-container {/* jupyter's `normalize.less` sets `[hidden] { display: none; }` but bootstrap.min.css set `[hidden] { display: none !important; }` so we also need the `!important` here to be able to override the default hidden behavior on the sphinx rendered scikit-learn.org. See: https://github.com/scikit-learn/scikit-learn/issues/21755 */display: inline-block !important;position: relative;}#sk-container-id-1 div.sk-text-repr-fallback {display: none;}</style><div id=\"sk-container-id-1\" class=\"sk-top-container\"><div class=\"sk-text-repr-fallback\"><pre>GridSearchCV(cv=5, estimator=KNeighborsClassifier(), n_jobs=-1,\n",
              "             param_grid={&#x27;n_neighbors&#x27;: [2, 3, 4]}, return_train_score=True,\n",
              "             scoring=&#x27;accuracy&#x27;, verbose=3)</pre><b>In a Jupyter environment, please rerun this cell to show the HTML representation or trust the notebook. <br />On GitHub, the HTML representation is unable to render, please try loading this page with nbviewer.org.</b></div><div class=\"sk-container\" hidden><div class=\"sk-item sk-dashed-wrapped\"><div class=\"sk-label-container\"><div class=\"sk-label sk-toggleable\"><input class=\"sk-toggleable__control sk-hidden--visually\" id=\"sk-estimator-id-1\" type=\"checkbox\" ><label for=\"sk-estimator-id-1\" class=\"sk-toggleable__label sk-toggleable__label-arrow\">GridSearchCV</label><div class=\"sk-toggleable__content\"><pre>GridSearchCV(cv=5, estimator=KNeighborsClassifier(), n_jobs=-1,\n",
              "             param_grid={&#x27;n_neighbors&#x27;: [2, 3, 4]}, return_train_score=True,\n",
              "             scoring=&#x27;accuracy&#x27;, verbose=3)</pre></div></div></div><div class=\"sk-parallel\"><div class=\"sk-parallel-item\"><div class=\"sk-item\"><div class=\"sk-label-container\"><div class=\"sk-label sk-toggleable\"><input class=\"sk-toggleable__control sk-hidden--visually\" id=\"sk-estimator-id-2\" type=\"checkbox\" ><label for=\"sk-estimator-id-2\" class=\"sk-toggleable__label sk-toggleable__label-arrow\">estimator: KNeighborsClassifier</label><div class=\"sk-toggleable__content\"><pre>KNeighborsClassifier()</pre></div></div></div><div class=\"sk-serial\"><div class=\"sk-item\"><div class=\"sk-estimator sk-toggleable\"><input class=\"sk-toggleable__control sk-hidden--visually\" id=\"sk-estimator-id-3\" type=\"checkbox\" ><label for=\"sk-estimator-id-3\" class=\"sk-toggleable__label sk-toggleable__label-arrow\">KNeighborsClassifier</label><div class=\"sk-toggleable__content\"><pre>KNeighborsClassifier()</pre></div></div></div></div></div></div></div></div></div></div>"
            ],
            "text/plain": [
              "GridSearchCV(cv=5, estimator=KNeighborsClassifier(), n_jobs=-1,\n",
              "             param_grid={'n_neighbors': [2, 3, 4]}, return_train_score=True,\n",
              "             scoring='accuracy', verbose=3)"
            ]
          },
          "execution_count": 34,
          "metadata": {},
          "output_type": "execute_result"
        }
      ],
      "source": [
        "# Aplicación de CV-Grid para identificación de Hyperparametros\n",
        "grid_knn = GridSearchCV(knn,\n",
        "                   param_grid=param_grid,\n",
        "                   verbose=3,\n",
        "                   cv=5,\n",
        "                   n_jobs=-1,\n",
        "                   scoring='accuracy',\n",
        "                   return_train_score=True\n",
        "                   )\n",
        "grid_knn.fit(X_train, y_train)"
      ]
    },
    {
      "cell_type": "code",
      "execution_count": null,
      "metadata": {
        "colab": {
          "base_uri": "https://localhost:8080/",
          "height": 245
        },
        "id": "-N2M7MWwziWR",
        "outputId": "5f4b1077-5dcb-4baf-988e-0390a3813191"
      },
      "outputs": [
        {
          "data": {
            "text/html": [
              "<div>\n",
              "<style scoped>\n",
              "    .dataframe tbody tr th:only-of-type {\n",
              "        vertical-align: middle;\n",
              "    }\n",
              "\n",
              "    .dataframe tbody tr th {\n",
              "        vertical-align: top;\n",
              "    }\n",
              "\n",
              "    .dataframe thead th {\n",
              "        text-align: right;\n",
              "    }\n",
              "</style>\n",
              "<table border=\"1\" class=\"dataframe\">\n",
              "  <thead>\n",
              "    <tr style=\"text-align: right;\">\n",
              "      <th></th>\n",
              "      <th>mean_fit_time</th>\n",
              "      <th>std_fit_time</th>\n",
              "      <th>mean_score_time</th>\n",
              "      <th>std_score_time</th>\n",
              "      <th>param_n_neighbors</th>\n",
              "      <th>params</th>\n",
              "      <th>split0_test_score</th>\n",
              "      <th>split1_test_score</th>\n",
              "      <th>split2_test_score</th>\n",
              "      <th>split3_test_score</th>\n",
              "      <th>...</th>\n",
              "      <th>mean_test_score</th>\n",
              "      <th>std_test_score</th>\n",
              "      <th>rank_test_score</th>\n",
              "      <th>split0_train_score</th>\n",
              "      <th>split1_train_score</th>\n",
              "      <th>split2_train_score</th>\n",
              "      <th>split3_train_score</th>\n",
              "      <th>split4_train_score</th>\n",
              "      <th>mean_train_score</th>\n",
              "      <th>std_train_score</th>\n",
              "    </tr>\n",
              "  </thead>\n",
              "  <tbody>\n",
              "    <tr>\n",
              "      <th>1</th>\n",
              "      <td>0.0550</td>\n",
              "      <td>0.026704</td>\n",
              "      <td>232.942534</td>\n",
              "      <td>68.286042</td>\n",
              "      <td>3</td>\n",
              "      <td>{'n_neighbors': 3}</td>\n",
              "      <td>0.765941</td>\n",
              "      <td>0.768349</td>\n",
              "      <td>0.774465</td>\n",
              "      <td>0.774176</td>\n",
              "      <td>...</td>\n",
              "      <td>0.772103</td>\n",
              "      <td>0.004289</td>\n",
              "      <td>1</td>\n",
              "      <td>0.832593</td>\n",
              "      <td>0.834989</td>\n",
              "      <td>0.831882</td>\n",
              "      <td>0.832918</td>\n",
              "      <td>0.831523</td>\n",
              "      <td>0.832781</td>\n",
              "      <td>0.001210</td>\n",
              "    </tr>\n",
              "    <tr>\n",
              "      <th>2</th>\n",
              "      <td>0.0220</td>\n",
              "      <td>0.002828</td>\n",
              "      <td>149.442600</td>\n",
              "      <td>1.155266</td>\n",
              "      <td>4</td>\n",
              "      <td>{'n_neighbors': 4}</td>\n",
              "      <td>0.759777</td>\n",
              "      <td>0.759391</td>\n",
              "      <td>0.763870</td>\n",
              "      <td>0.764496</td>\n",
              "      <td>...</td>\n",
              "      <td>0.763194</td>\n",
              "      <td>0.003339</td>\n",
              "      <td>2</td>\n",
              "      <td>0.822599</td>\n",
              "      <td>0.823888</td>\n",
              "      <td>0.820601</td>\n",
              "      <td>0.821432</td>\n",
              "      <td>0.820603</td>\n",
              "      <td>0.821825</td>\n",
              "      <td>0.001265</td>\n",
              "    </tr>\n",
              "    <tr>\n",
              "      <th>0</th>\n",
              "      <td>0.0606</td>\n",
              "      <td>0.012224</td>\n",
              "      <td>292.086824</td>\n",
              "      <td>0.380473</td>\n",
              "      <td>2</td>\n",
              "      <td>{'n_neighbors': 2}</td>\n",
              "      <td>0.690089</td>\n",
              "      <td>0.693026</td>\n",
              "      <td>0.700058</td>\n",
              "      <td>0.698420</td>\n",
              "      <td>...</td>\n",
              "      <td>0.697300</td>\n",
              "      <td>0.005235</td>\n",
              "      <td>3</td>\n",
              "      <td>0.786684</td>\n",
              "      <td>0.790067</td>\n",
              "      <td>0.787310</td>\n",
              "      <td>0.789212</td>\n",
              "      <td>0.787998</td>\n",
              "      <td>0.788254</td>\n",
              "      <td>0.001235</td>\n",
              "    </tr>\n",
              "  </tbody>\n",
              "</table>\n",
              "<p>3 rows × 21 columns</p>\n",
              "</div>"
            ],
            "text/plain": [
              "   mean_fit_time  std_fit_time  mean_score_time  std_score_time  \\\n",
              "1         0.0550      0.026704       232.942534       68.286042   \n",
              "2         0.0220      0.002828       149.442600        1.155266   \n",
              "0         0.0606      0.012224       292.086824        0.380473   \n",
              "\n",
              "  param_n_neighbors              params  split0_test_score  split1_test_score  \\\n",
              "1                 3  {'n_neighbors': 3}           0.765941           0.768349   \n",
              "2                 4  {'n_neighbors': 4}           0.759777           0.759391   \n",
              "0                 2  {'n_neighbors': 2}           0.690089           0.693026   \n",
              "\n",
              "   split2_test_score  split3_test_score  ...  mean_test_score  std_test_score  \\\n",
              "1           0.774465           0.774176  ...         0.772103        0.004289   \n",
              "2           0.763870           0.764496  ...         0.763194        0.003339   \n",
              "0           0.700058           0.698420  ...         0.697300        0.005235   \n",
              "\n",
              "   rank_test_score  split0_train_score  split1_train_score  \\\n",
              "1                1            0.832593            0.834989   \n",
              "2                2            0.822599            0.823888   \n",
              "0                3            0.786684            0.790067   \n",
              "\n",
              "   split2_train_score  split3_train_score  split4_train_score  \\\n",
              "1            0.831882            0.832918            0.831523   \n",
              "2            0.820601            0.821432            0.820603   \n",
              "0            0.787310            0.789212            0.787998   \n",
              "\n",
              "   mean_train_score  std_train_score  \n",
              "1          0.832781         0.001210  \n",
              "2          0.821825         0.001265  \n",
              "0          0.788254         0.001235  \n",
              "\n",
              "[3 rows x 21 columns]"
            ]
          },
          "execution_count": 35,
          "metadata": {},
          "output_type": "execute_result"
        }
      ],
      "source": [
        "#Cálculo de los resultados del Grid\n",
        "pd.DataFrame(grid_knn.cv_results_).sort_values(by='rank_test_score', ascending=True).head(5)"
      ]
    },
    {
      "cell_type": "code",
      "execution_count": null,
      "metadata": {},
      "outputs": [],
      "source": [
        "resut_KNN= pd.DataFrame(grid_knn.cv_results_).sort_values(by='rank_test_score', ascending=True)\n",
        "resut_KNN.to_csv('C:\\\\sqldeveloper\\\\sqldeveloper\\\\bin\\\\resut_KNN_cv5.csv', index=False,header=True)"
      ]
    },
    {
      "cell_type": "code",
      "execution_count": null,
      "metadata": {
        "colab": {
          "base_uri": "https://localhost:8080/",
          "height": 217
        },
        "id": "Arjcjy0R1E_M",
        "outputId": "7d909b62-1c5f-4bbb-8ddb-d57c77edbfa5"
      },
      "outputs": [
        {
          "name": "stdout",
          "output_type": "stream",
          "text": [
            "{'n_neighbors': 3}\n"
          ]
        }
      ],
      "source": [
        "# Mejores parámetros identificados.\n",
        "print(grid_knn.best_params_)\n",
        "n_neighbors=list(grid_knn.best_params_.values())[0]"
      ]
    },
    {
      "cell_type": "code",
      "execution_count": null,
      "metadata": {
        "colab": {
          "base_uri": "https://localhost:8080/"
        },
        "id": "a3ZQiPBb1GlQ",
        "outputId": "41f19c0a-6782-4f7b-9269-8e2e5e62e4a6"
      },
      "outputs": [
        {
          "name": "stdout",
          "output_type": "stream",
          "text": [
            "0.7721034250156751\n"
          ]
        }
      ],
      "source": [
        "# Puntaje de la mejor combinación de parámetros.\n",
        "print(grid_knn.best_score_)"
      ]
    },
    {
      "cell_type": "markdown",
      "metadata": {
        "id": "clxcnlsWsRUq"
      },
      "source": [
        "##### KNN Best Model"
      ]
    },
    {
      "cell_type": "code",
      "execution_count": null,
      "metadata": {
        "id": "bkV_N9WXmCiL"
      },
      "outputs": [],
      "source": [
        "#Caculo del modelo optimizado previamente identificado, con los mejores hiperparametros\n",
        "KNN_cl = KNeighborsClassifier(n_neighbors=n_neighbors)"
      ]
    },
    {
      "cell_type": "code",
      "execution_count": null,
      "metadata": {},
      "outputs": [],
      "source": [
        "KNN_fit=KNN_cl.fit(X_train, y_train)"
      ]
    },
    {
      "cell_type": "code",
      "execution_count": null,
      "metadata": {
        "colab": {
          "base_uri": "https://localhost:8080/",
          "height": 199
        },
        "id": "SWG2WaN1yi9e",
        "outputId": "b49e1d97-4adb-4ac7-d029-813ba4d3e139"
      },
      "outputs": [
        {
          "name": "stdout",
          "output_type": "stream",
          "text": [
            "Error entrenamiento: 0.17019042757106118\n",
            "Error generalización: 0.22618271715923133\n"
          ]
        }
      ],
      "source": [
        "print(f'Error entrenamiento: {1 - KNN_fit.score(X_train, y_train)}')\n",
        "print(f'Error generalización: {1 - KNN_fit.score(X_test, y_test)}')"
      ]
    },
    {
      "cell_type": "code",
      "execution_count": null,
      "metadata": {
        "id": "qDuWoWJGrDW3"
      },
      "outputs": [],
      "source": [
        "#Estimación de la predicción para el mejor modelo\n",
        "KNN_pred = KNN_fit.predict(X_test)"
      ]
    },
    {
      "cell_type": "code",
      "execution_count": null,
      "metadata": {
        "colab": {
          "base_uri": "https://localhost:8080/",
          "height": 217
        },
        "id": "GihsE95nsxoS",
        "outputId": "41d632ca-0a5c-46ba-b2e3-ea27afce8146"
      },
      "outputs": [
        {
          "data": {
            "text/html": [
              "<div>\n",
              "<style scoped>\n",
              "    .dataframe tbody tr th:only-of-type {\n",
              "        vertical-align: middle;\n",
              "    }\n",
              "\n",
              "    .dataframe tbody tr th {\n",
              "        vertical-align: top;\n",
              "    }\n",
              "\n",
              "    .dataframe thead tr th {\n",
              "        text-align: left;\n",
              "    }\n",
              "</style>\n",
              "<table border=\"1\" class=\"dataframe\">\n",
              "  <thead>\n",
              "    <tr>\n",
              "      <th></th>\n",
              "      <th></th>\n",
              "      <th colspan=\"3\" halign=\"left\">Valor predicho</th>\n",
              "    </tr>\n",
              "    <tr>\n",
              "      <th></th>\n",
              "      <th></th>\n",
              "      <th>MUERTO</th>\n",
              "      <th>HERIDO</th>\n",
              "      <th>DANOS</th>\n",
              "    </tr>\n",
              "  </thead>\n",
              "  <tbody>\n",
              "    <tr>\n",
              "      <th rowspan=\"3\" valign=\"top\">Valor real</th>\n",
              "      <th>MUERTO</th>\n",
              "      <td>71</td>\n",
              "      <td>564</td>\n",
              "      <td>162</td>\n",
              "    </tr>\n",
              "    <tr>\n",
              "      <th>HERIDO</th>\n",
              "      <td>322</td>\n",
              "      <td>14013</td>\n",
              "      <td>5140</td>\n",
              "    </tr>\n",
              "    <tr>\n",
              "      <th>DANOS</th>\n",
              "      <td>163</td>\n",
              "      <td>3713</td>\n",
              "      <td>20347</td>\n",
              "    </tr>\n",
              "  </tbody>\n",
              "</table>\n",
              "</div>"
            ],
            "text/plain": [
              "                  Valor predicho              \n",
              "                          MUERTO HERIDO  DANOS\n",
              "Valor real MUERTO             71    564    162\n",
              "           HERIDO            322  14013   5140\n",
              "           DANOS             163   3713  20347"
            ]
          },
          "execution_count": 43,
          "metadata": {},
          "output_type": "execute_result"
        }
      ],
      "source": [
        "# Generación de la matriz de confusión.\n",
        "KNN_mat = confusion_matrix(y_test, KNN_pred)\n",
        "list_confusion_matrix(KNN_mat, ['MUERTO', 'HERIDO', 'DANOS'])"
      ]
    },
    {
      "cell_type": "code",
      "execution_count": null,
      "metadata": {
        "colab": {
          "base_uri": "https://localhost:8080/"
        },
        "id": "hz-L2pexvkxY",
        "outputId": "c2c1ac9d-7a8c-43bd-96a6-9203edeaccc1"
      },
      "outputs": [
        {
          "name": "stdout",
          "output_type": "stream",
          "text": [
            "Orden de las etiquetas: ['MUERTO', 'HERIDO', 'DANOS']\n",
            "Precisión por clase: \t[0.12769784 0.76615637 0.79328629]\n",
            "Recall por clase: \t[0.08908407 0.71953787 0.83998679]\n",
            "F1 por clase: \t[0.10495196 0.74211572 0.81596888]\n"
          ]
        }
      ],
      "source": [
        "#Estimación de los estadísticos de desempeño del modelo.\n",
        "print(f'Orden de las etiquetas: {gravedad_names}')\n",
        "print(f'Precisión por clase: \\t{precision_score(y_test, KNN_pred, average=None)}')\n",
        "print(f'Recall por clase: \\t{recall_score(y_test, KNN_pred, average=None)}')\n",
        "print(f'F1 por clase: \\t{f1_score(y_test, KNN_pred, average=None)}')"
      ]
    },
    {
      "cell_type": "code",
      "execution_count": null,
      "metadata": {
        "colab": {
          "base_uri": "https://localhost:8080/"
        },
        "id": "NVqY7loAwut6",
        "outputId": "93079f10-7787-4a06-c80b-98664f7e51b5"
      },
      "outputs": [
        {
          "name": "stdout",
          "output_type": "stream",
          "text": [
            "Precisión micro: 0.7738\n",
            "Recall micro: 0.7738\n",
            "F1 micro: 0.7738\n"
          ]
        }
      ],
      "source": [
        "#Estimación de los estadísticos contemplado los errores en el modelo\n",
        "print(f\"Precisión micro: {precision_score(y_test, KNN_pred, average='micro'):.4f}\")\n",
        "print(f\"Recall micro: {recall_score(y_test, KNN_pred, average='micro'):.4f}\")\n",
        "print(f\"F1 micro: {f1_score(y_test, KNN_pred, average='micro'):.4f}\")"
      ]
    },
    {
      "cell_type": "markdown",
      "metadata": {
        "id": "63DiO57R4R4w"
      },
      "source": [
        "#### B)  Algoritmo: RAMDOM FORREST"
      ]
    },
    {
      "cell_type": "code",
      "execution_count": null,
      "metadata": {
        "id": "xq32oRiVpVgw"
      },
      "outputs": [],
      "source": [
        "from sklearn.ensemble import RandomForestClassifier\n",
        "from sklearn.metrics import accuracy_score\n",
        "from sklearn.svm import SVC\n",
        "from IPython.display import SVG\n",
        "from sklearn.tree import export_graphviz\n",
        "from sklearn.model_selection import GridSearchCV\n",
        "from sklearn.metrics import confusion_matrix\n",
        "from sklearn.metrics import precision_score, recall_score, f1_score"
      ]
    },
    {
      "cell_type": "markdown",
      "metadata": {
        "id": "Gbfmti06pkqC"
      },
      "source": [
        "##### RANDOM FOREST GridSearchCV"
      ]
    },
    {
      "cell_type": "code",
      "execution_count": null,
      "metadata": {
        "id": "uaAk-xKI5Y9L"
      },
      "outputs": [],
      "source": [
        "# Clasificador por Random Forrest\n",
        "rfc=RandomForestClassifier(random_state=42)"
      ]
    },
    {
      "cell_type": "code",
      "execution_count": null,
      "metadata": {
        "id": "7DZIsk3853RI"
      },
      "outputs": [],
      "source": [
        "#parámetros básicos para la aplicación del CV-grid\n",
        "param_grid = {\n",
        "    'bootstrap': [True, False],\n",
        "    'n_estimators': [200, 500],\n",
        "    'max_features': ['auto', 'sqrt', 'log2'],\n",
        "    'max_depth' : [4,5,6,7,8],\n",
        "    'criterion' :['gini', 'entropy']\n",
        "}"
      ]
    },
    {
      "cell_type": "code",
      "execution_count": null,
      "metadata": {
        "id": "ZVEhqI7u5-nB"
      },
      "outputs": [
        {
          "name": "stdout",
          "output_type": "stream",
          "text": [
            "Fitting 5 folds for each of 120 candidates, totalling 600 fits\n"
          ]
        },
        {
          "data": {
            "text/html": [
              "<style>#sk-container-id-2 {color: black;}#sk-container-id-2 pre{padding: 0;}#sk-container-id-2 div.sk-toggleable {background-color: white;}#sk-container-id-2 label.sk-toggleable__label {cursor: pointer;display: block;width: 100%;margin-bottom: 0;padding: 0.3em;box-sizing: border-box;text-align: center;}#sk-container-id-2 label.sk-toggleable__label-arrow:before {content: \"▸\";float: left;margin-right: 0.25em;color: #696969;}#sk-container-id-2 label.sk-toggleable__label-arrow:hover:before {color: black;}#sk-container-id-2 div.sk-estimator:hover label.sk-toggleable__label-arrow:before {color: black;}#sk-container-id-2 div.sk-toggleable__content {max-height: 0;max-width: 0;overflow: hidden;text-align: left;background-color: #f0f8ff;}#sk-container-id-2 div.sk-toggleable__content pre {margin: 0.2em;color: black;border-radius: 0.25em;background-color: #f0f8ff;}#sk-container-id-2 input.sk-toggleable__control:checked~div.sk-toggleable__content {max-height: 200px;max-width: 100%;overflow: auto;}#sk-container-id-2 input.sk-toggleable__control:checked~label.sk-toggleable__label-arrow:before {content: \"▾\";}#sk-container-id-2 div.sk-estimator input.sk-toggleable__control:checked~label.sk-toggleable__label {background-color: #d4ebff;}#sk-container-id-2 div.sk-label input.sk-toggleable__control:checked~label.sk-toggleable__label {background-color: #d4ebff;}#sk-container-id-2 input.sk-hidden--visually {border: 0;clip: rect(1px 1px 1px 1px);clip: rect(1px, 1px, 1px, 1px);height: 1px;margin: -1px;overflow: hidden;padding: 0;position: absolute;width: 1px;}#sk-container-id-2 div.sk-estimator {font-family: monospace;background-color: #f0f8ff;border: 1px dotted black;border-radius: 0.25em;box-sizing: border-box;margin-bottom: 0.5em;}#sk-container-id-2 div.sk-estimator:hover {background-color: #d4ebff;}#sk-container-id-2 div.sk-parallel-item::after {content: \"\";width: 100%;border-bottom: 1px solid gray;flex-grow: 1;}#sk-container-id-2 div.sk-label:hover label.sk-toggleable__label {background-color: #d4ebff;}#sk-container-id-2 div.sk-serial::before {content: \"\";position: absolute;border-left: 1px solid gray;box-sizing: border-box;top: 0;bottom: 0;left: 50%;z-index: 0;}#sk-container-id-2 div.sk-serial {display: flex;flex-direction: column;align-items: center;background-color: white;padding-right: 0.2em;padding-left: 0.2em;position: relative;}#sk-container-id-2 div.sk-item {position: relative;z-index: 1;}#sk-container-id-2 div.sk-parallel {display: flex;align-items: stretch;justify-content: center;background-color: white;position: relative;}#sk-container-id-2 div.sk-item::before, #sk-container-id-2 div.sk-parallel-item::before {content: \"\";position: absolute;border-left: 1px solid gray;box-sizing: border-box;top: 0;bottom: 0;left: 50%;z-index: -1;}#sk-container-id-2 div.sk-parallel-item {display: flex;flex-direction: column;z-index: 1;position: relative;background-color: white;}#sk-container-id-2 div.sk-parallel-item:first-child::after {align-self: flex-end;width: 50%;}#sk-container-id-2 div.sk-parallel-item:last-child::after {align-self: flex-start;width: 50%;}#sk-container-id-2 div.sk-parallel-item:only-child::after {width: 0;}#sk-container-id-2 div.sk-dashed-wrapped {border: 1px dashed gray;margin: 0 0.4em 0.5em 0.4em;box-sizing: border-box;padding-bottom: 0.4em;background-color: white;}#sk-container-id-2 div.sk-label label {font-family: monospace;font-weight: bold;display: inline-block;line-height: 1.2em;}#sk-container-id-2 div.sk-label-container {text-align: center;}#sk-container-id-2 div.sk-container {/* jupyter's `normalize.less` sets `[hidden] { display: none; }` but bootstrap.min.css set `[hidden] { display: none !important; }` so we also need the `!important` here to be able to override the default hidden behavior on the sphinx rendered scikit-learn.org. See: https://github.com/scikit-learn/scikit-learn/issues/21755 */display: inline-block !important;position: relative;}#sk-container-id-2 div.sk-text-repr-fallback {display: none;}</style><div id=\"sk-container-id-2\" class=\"sk-top-container\"><div class=\"sk-text-repr-fallback\"><pre>GridSearchCV(cv=5, estimator=RandomForestClassifier(random_state=42), n_jobs=-1,\n",
              "             param_grid={&#x27;bootstrap&#x27;: [True, False],\n",
              "                         &#x27;criterion&#x27;: [&#x27;gini&#x27;, &#x27;entropy&#x27;],\n",
              "                         &#x27;max_depth&#x27;: [4, 5, 6, 7, 8],\n",
              "                         &#x27;max_features&#x27;: [&#x27;auto&#x27;, &#x27;sqrt&#x27;, &#x27;log2&#x27;],\n",
              "                         &#x27;n_estimators&#x27;: [200, 500]},\n",
              "             return_train_score=True, verbose=3)</pre><b>In a Jupyter environment, please rerun this cell to show the HTML representation or trust the notebook. <br />On GitHub, the HTML representation is unable to render, please try loading this page with nbviewer.org.</b></div><div class=\"sk-container\" hidden><div class=\"sk-item sk-dashed-wrapped\"><div class=\"sk-label-container\"><div class=\"sk-label sk-toggleable\"><input class=\"sk-toggleable__control sk-hidden--visually\" id=\"sk-estimator-id-4\" type=\"checkbox\" ><label for=\"sk-estimator-id-4\" class=\"sk-toggleable__label sk-toggleable__label-arrow\">GridSearchCV</label><div class=\"sk-toggleable__content\"><pre>GridSearchCV(cv=5, estimator=RandomForestClassifier(random_state=42), n_jobs=-1,\n",
              "             param_grid={&#x27;bootstrap&#x27;: [True, False],\n",
              "                         &#x27;criterion&#x27;: [&#x27;gini&#x27;, &#x27;entropy&#x27;],\n",
              "                         &#x27;max_depth&#x27;: [4, 5, 6, 7, 8],\n",
              "                         &#x27;max_features&#x27;: [&#x27;auto&#x27;, &#x27;sqrt&#x27;, &#x27;log2&#x27;],\n",
              "                         &#x27;n_estimators&#x27;: [200, 500]},\n",
              "             return_train_score=True, verbose=3)</pre></div></div></div><div class=\"sk-parallel\"><div class=\"sk-parallel-item\"><div class=\"sk-item\"><div class=\"sk-label-container\"><div class=\"sk-label sk-toggleable\"><input class=\"sk-toggleable__control sk-hidden--visually\" id=\"sk-estimator-id-5\" type=\"checkbox\" ><label for=\"sk-estimator-id-5\" class=\"sk-toggleable__label sk-toggleable__label-arrow\">estimator: RandomForestClassifier</label><div class=\"sk-toggleable__content\"><pre>RandomForestClassifier(random_state=42)</pre></div></div></div><div class=\"sk-serial\"><div class=\"sk-item\"><div class=\"sk-estimator sk-toggleable\"><input class=\"sk-toggleable__control sk-hidden--visually\" id=\"sk-estimator-id-6\" type=\"checkbox\" ><label for=\"sk-estimator-id-6\" class=\"sk-toggleable__label sk-toggleable__label-arrow\">RandomForestClassifier</label><div class=\"sk-toggleable__content\"><pre>RandomForestClassifier(random_state=42)</pre></div></div></div></div></div></div></div></div></div></div>"
            ],
            "text/plain": [
              "GridSearchCV(cv=5, estimator=RandomForestClassifier(random_state=42), n_jobs=-1,\n",
              "             param_grid={'bootstrap': [True, False],\n",
              "                         'criterion': ['gini', 'entropy'],\n",
              "                         'max_depth': [4, 5, 6, 7, 8],\n",
              "                         'max_features': ['auto', 'sqrt', 'log2'],\n",
              "                         'n_estimators': [200, 500]},\n",
              "             return_train_score=True, verbose=3)"
            ]
          },
          "execution_count": 49,
          "metadata": {},
          "output_type": "execute_result"
        }
      ],
      "source": [
        "# Aplicación de CV-Grid para identificación de Hiperparametros\n",
        "grid_rfc = GridSearchCV(rfc,\n",
        "                   param_grid=param_grid,\n",
        "                   verbose=3,\n",
        "                   cv=5,\n",
        "                   n_jobs=-1,\n",
        "                   return_train_score=True\n",
        "                   )\n",
        "grid_rfc.fit(X_train, y_train)"
      ]
    },
    {
      "cell_type": "code",
      "execution_count": null,
      "metadata": {
        "id": "gjukfUndPL6S"
      },
      "outputs": [
        {
          "data": {
            "text/html": [
              "<div>\n",
              "<style scoped>\n",
              "    .dataframe tbody tr th:only-of-type {\n",
              "        vertical-align: middle;\n",
              "    }\n",
              "\n",
              "    .dataframe tbody tr th {\n",
              "        vertical-align: top;\n",
              "    }\n",
              "\n",
              "    .dataframe thead th {\n",
              "        text-align: right;\n",
              "    }\n",
              "</style>\n",
              "<table border=\"1\" class=\"dataframe\">\n",
              "  <thead>\n",
              "    <tr style=\"text-align: right;\">\n",
              "      <th></th>\n",
              "      <th>mean_fit_time</th>\n",
              "      <th>std_fit_time</th>\n",
              "      <th>mean_score_time</th>\n",
              "      <th>std_score_time</th>\n",
              "      <th>param_bootstrap</th>\n",
              "      <th>param_criterion</th>\n",
              "      <th>param_max_depth</th>\n",
              "      <th>param_max_features</th>\n",
              "      <th>param_n_estimators</th>\n",
              "      <th>params</th>\n",
              "      <th>...</th>\n",
              "      <th>mean_test_score</th>\n",
              "      <th>std_test_score</th>\n",
              "      <th>rank_test_score</th>\n",
              "      <th>split0_train_score</th>\n",
              "      <th>split1_train_score</th>\n",
              "      <th>split2_train_score</th>\n",
              "      <th>split3_train_score</th>\n",
              "      <th>split4_train_score</th>\n",
              "      <th>mean_train_score</th>\n",
              "      <th>std_train_score</th>\n",
              "    </tr>\n",
              "  </thead>\n",
              "  <tbody>\n",
              "    <tr>\n",
              "      <th>3</th>\n",
              "      <td>18.253412</td>\n",
              "      <td>0.270828</td>\n",
              "      <td>1.090188</td>\n",
              "      <td>0.028044</td>\n",
              "      <td>True</td>\n",
              "      <td>gini</td>\n",
              "      <td>4</td>\n",
              "      <td>sqrt</td>\n",
              "      <td>500</td>\n",
              "      <td>{'bootstrap': True, 'criterion': 'gini', 'max_...</td>\n",
              "      <td>...</td>\n",
              "      <td>0.808195</td>\n",
              "      <td>0.003694</td>\n",
              "      <td>1</td>\n",
              "      <td>0.809030</td>\n",
              "      <td>0.809163</td>\n",
              "      <td>0.807429</td>\n",
              "      <td>0.808199</td>\n",
              "      <td>0.806805</td>\n",
              "      <td>0.808125</td>\n",
              "      <td>0.000909</td>\n",
              "    </tr>\n",
              "    <tr>\n",
              "      <th>40</th>\n",
              "      <td>7.620834</td>\n",
              "      <td>0.082976</td>\n",
              "      <td>0.483358</td>\n",
              "      <td>0.013322</td>\n",
              "      <td>True</td>\n",
              "      <td>entropy</td>\n",
              "      <td>5</td>\n",
              "      <td>log2</td>\n",
              "      <td>200</td>\n",
              "      <td>{'bootstrap': True, 'criterion': 'entropy', 'm...</td>\n",
              "      <td>...</td>\n",
              "      <td>0.808147</td>\n",
              "      <td>0.003699</td>\n",
              "      <td>2</td>\n",
              "      <td>0.809006</td>\n",
              "      <td>0.809163</td>\n",
              "      <td>0.807393</td>\n",
              "      <td>0.808248</td>\n",
              "      <td>0.806817</td>\n",
              "      <td>0.808125</td>\n",
              "      <td>0.000907</td>\n",
              "    </tr>\n",
              "    <tr>\n",
              "      <th>41</th>\n",
              "      <td>18.594999</td>\n",
              "      <td>0.207165</td>\n",
              "      <td>1.170200</td>\n",
              "      <td>0.020083</td>\n",
              "      <td>True</td>\n",
              "      <td>entropy</td>\n",
              "      <td>5</td>\n",
              "      <td>log2</td>\n",
              "      <td>500</td>\n",
              "      <td>{'bootstrap': True, 'criterion': 'entropy', 'm...</td>\n",
              "      <td>...</td>\n",
              "      <td>0.808137</td>\n",
              "      <td>0.003638</td>\n",
              "      <td>3</td>\n",
              "      <td>0.809078</td>\n",
              "      <td>0.809199</td>\n",
              "      <td>0.807441</td>\n",
              "      <td>0.808320</td>\n",
              "      <td>0.806865</td>\n",
              "      <td>0.808181</td>\n",
              "      <td>0.000910</td>\n",
              "    </tr>\n",
              "    <tr>\n",
              "      <th>68</th>\n",
              "      <td>8.287798</td>\n",
              "      <td>0.100712</td>\n",
              "      <td>0.476601</td>\n",
              "      <td>0.020774</td>\n",
              "      <td>False</td>\n",
              "      <td>gini</td>\n",
              "      <td>5</td>\n",
              "      <td>sqrt</td>\n",
              "      <td>200</td>\n",
              "      <td>{'bootstrap': False, 'criterion': 'gini', 'max...</td>\n",
              "      <td>...</td>\n",
              "      <td>0.808118</td>\n",
              "      <td>0.003737</td>\n",
              "      <td>4</td>\n",
              "      <td>0.808946</td>\n",
              "      <td>0.809139</td>\n",
              "      <td>0.807369</td>\n",
              "      <td>0.808187</td>\n",
              "      <td>0.806757</td>\n",
              "      <td>0.808079</td>\n",
              "      <td>0.000910</td>\n",
              "    </tr>\n",
              "    <tr>\n",
              "      <th>33</th>\n",
              "      <td>17.446103</td>\n",
              "      <td>0.484673</td>\n",
              "      <td>1.099000</td>\n",
              "      <td>0.029550</td>\n",
              "      <td>True</td>\n",
              "      <td>entropy</td>\n",
              "      <td>4</td>\n",
              "      <td>sqrt</td>\n",
              "      <td>500</td>\n",
              "      <td>{'bootstrap': True, 'criterion': 'entropy', 'm...</td>\n",
              "      <td>...</td>\n",
              "      <td>0.808118</td>\n",
              "      <td>0.003653</td>\n",
              "      <td>5</td>\n",
              "      <td>0.809042</td>\n",
              "      <td>0.809235</td>\n",
              "      <td>0.807453</td>\n",
              "      <td>0.808248</td>\n",
              "      <td>0.806781</td>\n",
              "      <td>0.808152</td>\n",
              "      <td>0.000932</td>\n",
              "    </tr>\n",
              "  </tbody>\n",
              "</table>\n",
              "<p>5 rows × 25 columns</p>\n",
              "</div>"
            ],
            "text/plain": [
              "    mean_fit_time  std_fit_time  mean_score_time  std_score_time  \\\n",
              "3       18.253412      0.270828         1.090188        0.028044   \n",
              "40       7.620834      0.082976         0.483358        0.013322   \n",
              "41      18.594999      0.207165         1.170200        0.020083   \n",
              "68       8.287798      0.100712         0.476601        0.020774   \n",
              "33      17.446103      0.484673         1.099000        0.029550   \n",
              "\n",
              "   param_bootstrap param_criterion param_max_depth param_max_features  \\\n",
              "3             True            gini               4               sqrt   \n",
              "40            True         entropy               5               log2   \n",
              "41            True         entropy               5               log2   \n",
              "68           False            gini               5               sqrt   \n",
              "33            True         entropy               4               sqrt   \n",
              "\n",
              "   param_n_estimators                                             params  ...  \\\n",
              "3                 500  {'bootstrap': True, 'criterion': 'gini', 'max_...  ...   \n",
              "40                200  {'bootstrap': True, 'criterion': 'entropy', 'm...  ...   \n",
              "41                500  {'bootstrap': True, 'criterion': 'entropy', 'm...  ...   \n",
              "68                200  {'bootstrap': False, 'criterion': 'gini', 'max...  ...   \n",
              "33                500  {'bootstrap': True, 'criterion': 'entropy', 'm...  ...   \n",
              "\n",
              "    mean_test_score  std_test_score  rank_test_score  split0_train_score  \\\n",
              "3          0.808195        0.003694                1            0.809030   \n",
              "40         0.808147        0.003699                2            0.809006   \n",
              "41         0.808137        0.003638                3            0.809078   \n",
              "68         0.808118        0.003737                4            0.808946   \n",
              "33         0.808118        0.003653                5            0.809042   \n",
              "\n",
              "    split1_train_score  split2_train_score  split3_train_score  \\\n",
              "3             0.809163            0.807429            0.808199   \n",
              "40            0.809163            0.807393            0.808248   \n",
              "41            0.809199            0.807441            0.808320   \n",
              "68            0.809139            0.807369            0.808187   \n",
              "33            0.809235            0.807453            0.808248   \n",
              "\n",
              "    split4_train_score  mean_train_score  std_train_score  \n",
              "3             0.806805          0.808125         0.000909  \n",
              "40            0.806817          0.808125         0.000907  \n",
              "41            0.806865          0.808181         0.000910  \n",
              "68            0.806757          0.808079         0.000910  \n",
              "33            0.806781          0.808152         0.000932  \n",
              "\n",
              "[5 rows x 25 columns]"
            ]
          },
          "execution_count": 50,
          "metadata": {},
          "output_type": "execute_result"
        }
      ],
      "source": [
        "#Cálculo de los resultados del Grid\n",
        "pd.DataFrame(grid_rfc.cv_results_).sort_values(by='rank_test_score', ascending=True).head(5)"
      ]
    },
    {
      "cell_type": "code",
      "execution_count": null,
      "metadata": {},
      "outputs": [],
      "source": [
        "resut_RFC= pd.DataFrame(grid_knn.cv_results_).sort_values(by='rank_test_score', ascending=True)\n",
        "resut_RFC.to_csv('C:\\\\sqldeveloper\\\\sqldeveloper\\\\bin\\\\resut_RFC_cv5.csv', index=False,header=True)"
      ]
    },
    {
      "cell_type": "code",
      "execution_count": null,
      "metadata": {
        "id": "bZ3lXpNv71zi"
      },
      "outputs": [
        {
          "name": "stdout",
          "output_type": "stream",
          "text": [
            "{'bootstrap': True, 'criterion': 'gini', 'max_depth': 4, 'max_features': 'sqrt', 'n_estimators': 500}\n"
          ]
        }
      ],
      "source": [
        "# Mejores parámetros identificados.\n",
        "print(grid_rfc.best_params_)\n",
        "bootstrap,criterion,max_depth,max_features,n_estimators = list(grid_rfc.best_params_.values())"
      ]
    },
    {
      "cell_type": "code",
      "execution_count": null,
      "metadata": {
        "id": "jQzFPOaC2TFD"
      },
      "outputs": [
        {
          "name": "stdout",
          "output_type": "stream",
          "text": [
            "0.8081950829746166\n"
          ]
        }
      ],
      "source": [
        "# Puntaje de la mejor combinación de parámetros.\n",
        "print(grid_rfc.best_score_)"
      ]
    },
    {
      "cell_type": "markdown",
      "metadata": {
        "id": "NXmCY-LXqi8t"
      },
      "source": [
        "##### RANDOM FOREST Best Model"
      ]
    },
    {
      "cell_type": "code",
      "execution_count": null,
      "metadata": {
        "id": "F704ykdtEE4Z"
      },
      "outputs": [],
      "source": [
        "#Caculo del modelo optimizado previamente identificado, con los mejores hiperparametros\n",
        "rfc=RandomForestClassifier(random_state=42,bootstrap=bootstrap,\n",
        "                           criterion=criterion,max_depth=max_depth,\n",
        "                           max_features=max_features,n_estimators=n_estimators)\n"
      ]
    },
    {
      "cell_type": "code",
      "execution_count": null,
      "metadata": {},
      "outputs": [],
      "source": [
        "rfcfit = rfc.fit(X_train, y_train)"
      ]
    },
    {
      "cell_type": "code",
      "execution_count": null,
      "metadata": {
        "id": "2ssB4KPMF0Ec"
      },
      "outputs": [
        {
          "name": "stdout",
          "output_type": "stream",
          "text": [
            "Error entrenamiento: 0.1917953361138135\n",
            "Error generalización: 0.19258343634116193\n"
          ]
        }
      ],
      "source": [
        "print(f'Error entrenamiento: {1 - rfcfit.score(X_train, y_train)}')\n",
        "print(f'Error generalización: {1 - rfcfit.score(X_test, y_test)}')"
      ]
    },
    {
      "cell_type": "code",
      "execution_count": null,
      "metadata": {
        "id": "gq2HuULcnK-t"
      },
      "outputs": [],
      "source": [
        "#Estimación de la predicción para el mejor modelo\n",
        "rfc_pred= rfcfit.predict(X_test)"
      ]
    },
    {
      "cell_type": "code",
      "execution_count": null,
      "metadata": {
        "id": "15HYaoThqBXD"
      },
      "outputs": [
        {
          "data": {
            "text/html": [
              "<div>\n",
              "<style scoped>\n",
              "    .dataframe tbody tr th:only-of-type {\n",
              "        vertical-align: middle;\n",
              "    }\n",
              "\n",
              "    .dataframe tbody tr th {\n",
              "        vertical-align: top;\n",
              "    }\n",
              "\n",
              "    .dataframe thead tr th {\n",
              "        text-align: left;\n",
              "    }\n",
              "</style>\n",
              "<table border=\"1\" class=\"dataframe\">\n",
              "  <thead>\n",
              "    <tr>\n",
              "      <th></th>\n",
              "      <th></th>\n",
              "      <th colspan=\"3\" halign=\"left\">Valor predicho</th>\n",
              "    </tr>\n",
              "    <tr>\n",
              "      <th></th>\n",
              "      <th></th>\n",
              "      <th>MUERTO</th>\n",
              "      <th>HERIDO</th>\n",
              "      <th>DANOS</th>\n",
              "    </tr>\n",
              "  </thead>\n",
              "  <tbody>\n",
              "    <tr>\n",
              "      <th rowspan=\"3\" valign=\"top\">Valor real</th>\n",
              "      <th>MUERTO</th>\n",
              "      <td>0</td>\n",
              "      <td>610</td>\n",
              "      <td>187</td>\n",
              "    </tr>\n",
              "    <tr>\n",
              "      <th>HERIDO</th>\n",
              "      <td>0</td>\n",
              "      <td>13468</td>\n",
              "      <td>6007</td>\n",
              "    </tr>\n",
              "    <tr>\n",
              "      <th>DANOS</th>\n",
              "      <td>0</td>\n",
              "      <td>1765</td>\n",
              "      <td>22458</td>\n",
              "    </tr>\n",
              "  </tbody>\n",
              "</table>\n",
              "</div>"
            ],
            "text/plain": [
              "                  Valor predicho              \n",
              "                          MUERTO HERIDO  DANOS\n",
              "Valor real MUERTO              0    610    187\n",
              "           HERIDO              0  13468   6007\n",
              "           DANOS               0   1765  22458"
            ]
          },
          "execution_count": 58,
          "metadata": {},
          "output_type": "execute_result"
        }
      ],
      "source": [
        "# Generación de la matriz de confusión.\n",
        "rfc_mat = confusion_matrix(y_test, rfc_pred)\n",
        "list_confusion_matrix(rfc_mat, ['MUERTO', 'HERIDO', 'DANOS'])"
      ]
    },
    {
      "cell_type": "code",
      "execution_count": null,
      "metadata": {
        "id": "sKHzpkbcnw2S"
      },
      "outputs": [
        {
          "name": "stdout",
          "output_type": "stream",
          "text": [
            "Orden de las etiquetas: ['MUERTO', 'HERIDO', 'DANOS']\n",
            "Precisión por clase: \t[0.         0.85009152 0.78381963]\n",
            "Recall por clase: \t[0.         0.69155327 0.92713537]\n",
            "F1 por clase: \t[0.         0.76267059 0.84947518]\n"
          ]
        }
      ],
      "source": [
        "#Estimación de los estadísticos de desempeño del modelo.\n",
        "print(f'Orden de las etiquetas: {gravedad_names}')\n",
        "print(f'Precisión por clase: \\t{precision_score(y_test, rfc_pred, average=None)}')\n",
        "print(f'Recall por clase: \\t{recall_score(y_test, rfc_pred, average=None)}')\n",
        "print(f'F1 por clase: \\t{f1_score(y_test, rfc_pred, average=None)}')"
      ]
    },
    {
      "cell_type": "code",
      "execution_count": null,
      "metadata": {
        "id": "7rqyHdvYo3NW"
      },
      "outputs": [
        {
          "name": "stdout",
          "output_type": "stream",
          "text": [
            "Precisión micro: 0.8074\n",
            "Recall micro: 0.8074\n",
            "F1 micro: 0.8074\n"
          ]
        }
      ],
      "source": [
        "print(f\"Precisión micro: {precision_score(y_test, rfc_pred, average='micro'):.4f}\")\n",
        "print(f\"Recall micro: {recall_score(y_test, rfc_pred, average='micro'):.4f}\")\n",
        "print(f\"F1 micro: {f1_score(y_test, rfc_pred, average='micro'):.4f}\")"
      ]
    },
    {
      "cell_type": "markdown",
      "metadata": {
        "id": "YouAW7Ww4uZg"
      },
      "source": [
        "#### C)  Algoritmo: MAQUINA DE SOPORTE VECTORIAL\n"
      ]
    },
    {
      "cell_type": "code",
      "execution_count": null,
      "metadata": {
        "id": "c7Offj6L0H18"
      },
      "outputs": [],
      "source": [
        "from sklearn.svm import LinearSVC\n",
        "from sklearn.svm import SVC\n",
        "from sklearn.metrics import accuracy_score\n",
        "from sklearn.svm import SVC\n",
        "from IPython.display import SVG\n",
        "from sklearn.tree import export_graphviz\n",
        "from sklearn.model_selection import GridSearchCV\n",
        "from sklearn.metrics import confusion_matrix\n",
        "from sklearn.metrics import precision_score, recall_score, f1_score"
      ]
    },
    {
      "cell_type": "markdown",
      "metadata": {
        "id": "1vK1EoNj05-O"
      },
      "source": [
        "##### SVM GridSearchCV"
      ]
    },
    {
      "cell_type": "code",
      "execution_count": null,
      "metadata": {
        "id": "WkTZsT4P1Ilm"
      },
      "outputs": [],
      "source": [
        "#Clasificador por máquina de soporte vectorial\n",
        "SVM_CL=SVC(kernel='rbf',random_state=42)"
      ]
    },
    {
      "cell_type": "code",
      "execution_count": null,
      "metadata": {
        "id": "IJHuM3Lq1XWC"
      },
      "outputs": [],
      "source": [
        "#parámetros básicos para la aplicación del CV-grid, deben estar en forma de diccionario.\n",
        "param_grid = {'C': [0.1, 1, 10],\n",
        "              'gamma': [1, 0.1, 0.01]}\n"
      ]
    },
    {
      "cell_type": "code",
      "execution_count": null,
      "metadata": {
        "colab": {
          "base_uri": "https://localhost:8080/",
          "height": 254
        },
        "id": "MsJkcc7u1pKL",
        "outputId": "3b3f9332-3672-446a-d217-de0f30cd6b28"
      },
      "outputs": [
        {
          "name": "stdout",
          "output_type": "stream",
          "text": [
            "Fitting 5 folds for each of 9 candidates, totalling 45 fits\n"
          ]
        },
        {
          "data": {
            "text/html": [
              "<style>#sk-container-id-3 {color: black;}#sk-container-id-3 pre{padding: 0;}#sk-container-id-3 div.sk-toggleable {background-color: white;}#sk-container-id-3 label.sk-toggleable__label {cursor: pointer;display: block;width: 100%;margin-bottom: 0;padding: 0.3em;box-sizing: border-box;text-align: center;}#sk-container-id-3 label.sk-toggleable__label-arrow:before {content: \"▸\";float: left;margin-right: 0.25em;color: #696969;}#sk-container-id-3 label.sk-toggleable__label-arrow:hover:before {color: black;}#sk-container-id-3 div.sk-estimator:hover label.sk-toggleable__label-arrow:before {color: black;}#sk-container-id-3 div.sk-toggleable__content {max-height: 0;max-width: 0;overflow: hidden;text-align: left;background-color: #f0f8ff;}#sk-container-id-3 div.sk-toggleable__content pre {margin: 0.2em;color: black;border-radius: 0.25em;background-color: #f0f8ff;}#sk-container-id-3 input.sk-toggleable__control:checked~div.sk-toggleable__content {max-height: 200px;max-width: 100%;overflow: auto;}#sk-container-id-3 input.sk-toggleable__control:checked~label.sk-toggleable__label-arrow:before {content: \"▾\";}#sk-container-id-3 div.sk-estimator input.sk-toggleable__control:checked~label.sk-toggleable__label {background-color: #d4ebff;}#sk-container-id-3 div.sk-label input.sk-toggleable__control:checked~label.sk-toggleable__label {background-color: #d4ebff;}#sk-container-id-3 input.sk-hidden--visually {border: 0;clip: rect(1px 1px 1px 1px);clip: rect(1px, 1px, 1px, 1px);height: 1px;margin: -1px;overflow: hidden;padding: 0;position: absolute;width: 1px;}#sk-container-id-3 div.sk-estimator {font-family: monospace;background-color: #f0f8ff;border: 1px dotted black;border-radius: 0.25em;box-sizing: border-box;margin-bottom: 0.5em;}#sk-container-id-3 div.sk-estimator:hover {background-color: #d4ebff;}#sk-container-id-3 div.sk-parallel-item::after {content: \"\";width: 100%;border-bottom: 1px solid gray;flex-grow: 1;}#sk-container-id-3 div.sk-label:hover label.sk-toggleable__label {background-color: #d4ebff;}#sk-container-id-3 div.sk-serial::before {content: \"\";position: absolute;border-left: 1px solid gray;box-sizing: border-box;top: 0;bottom: 0;left: 50%;z-index: 0;}#sk-container-id-3 div.sk-serial {display: flex;flex-direction: column;align-items: center;background-color: white;padding-right: 0.2em;padding-left: 0.2em;position: relative;}#sk-container-id-3 div.sk-item {position: relative;z-index: 1;}#sk-container-id-3 div.sk-parallel {display: flex;align-items: stretch;justify-content: center;background-color: white;position: relative;}#sk-container-id-3 div.sk-item::before, #sk-container-id-3 div.sk-parallel-item::before {content: \"\";position: absolute;border-left: 1px solid gray;box-sizing: border-box;top: 0;bottom: 0;left: 50%;z-index: -1;}#sk-container-id-3 div.sk-parallel-item {display: flex;flex-direction: column;z-index: 1;position: relative;background-color: white;}#sk-container-id-3 div.sk-parallel-item:first-child::after {align-self: flex-end;width: 50%;}#sk-container-id-3 div.sk-parallel-item:last-child::after {align-self: flex-start;width: 50%;}#sk-container-id-3 div.sk-parallel-item:only-child::after {width: 0;}#sk-container-id-3 div.sk-dashed-wrapped {border: 1px dashed gray;margin: 0 0.4em 0.5em 0.4em;box-sizing: border-box;padding-bottom: 0.4em;background-color: white;}#sk-container-id-3 div.sk-label label {font-family: monospace;font-weight: bold;display: inline-block;line-height: 1.2em;}#sk-container-id-3 div.sk-label-container {text-align: center;}#sk-container-id-3 div.sk-container {/* jupyter's `normalize.less` sets `[hidden] { display: none; }` but bootstrap.min.css set `[hidden] { display: none !important; }` so we also need the `!important` here to be able to override the default hidden behavior on the sphinx rendered scikit-learn.org. See: https://github.com/scikit-learn/scikit-learn/issues/21755 */display: inline-block !important;position: relative;}#sk-container-id-3 div.sk-text-repr-fallback {display: none;}</style><div id=\"sk-container-id-3\" class=\"sk-top-container\"><div class=\"sk-text-repr-fallback\"><pre>GridSearchCV(cv=5, estimator=SVC(random_state=42), n_jobs=-1,\n",
              "             param_grid={&#x27;C&#x27;: [0.1, 1, 10], &#x27;gamma&#x27;: [1, 0.1, 0.01]},\n",
              "             return_train_score=True, verbose=3)</pre><b>In a Jupyter environment, please rerun this cell to show the HTML representation or trust the notebook. <br />On GitHub, the HTML representation is unable to render, please try loading this page with nbviewer.org.</b></div><div class=\"sk-container\" hidden><div class=\"sk-item sk-dashed-wrapped\"><div class=\"sk-label-container\"><div class=\"sk-label sk-toggleable\"><input class=\"sk-toggleable__control sk-hidden--visually\" id=\"sk-estimator-id-7\" type=\"checkbox\" ><label for=\"sk-estimator-id-7\" class=\"sk-toggleable__label sk-toggleable__label-arrow\">GridSearchCV</label><div class=\"sk-toggleable__content\"><pre>GridSearchCV(cv=5, estimator=SVC(random_state=42), n_jobs=-1,\n",
              "             param_grid={&#x27;C&#x27;: [0.1, 1, 10], &#x27;gamma&#x27;: [1, 0.1, 0.01]},\n",
              "             return_train_score=True, verbose=3)</pre></div></div></div><div class=\"sk-parallel\"><div class=\"sk-parallel-item\"><div class=\"sk-item\"><div class=\"sk-label-container\"><div class=\"sk-label sk-toggleable\"><input class=\"sk-toggleable__control sk-hidden--visually\" id=\"sk-estimator-id-8\" type=\"checkbox\" ><label for=\"sk-estimator-id-8\" class=\"sk-toggleable__label sk-toggleable__label-arrow\">estimator: SVC</label><div class=\"sk-toggleable__content\"><pre>SVC(random_state=42)</pre></div></div></div><div class=\"sk-serial\"><div class=\"sk-item\"><div class=\"sk-estimator sk-toggleable\"><input class=\"sk-toggleable__control sk-hidden--visually\" id=\"sk-estimator-id-9\" type=\"checkbox\" ><label for=\"sk-estimator-id-9\" class=\"sk-toggleable__label sk-toggleable__label-arrow\">SVC</label><div class=\"sk-toggleable__content\"><pre>SVC(random_state=42)</pre></div></div></div></div></div></div></div></div></div></div>"
            ],
            "text/plain": [
              "GridSearchCV(cv=5, estimator=SVC(random_state=42), n_jobs=-1,\n",
              "             param_grid={'C': [0.1, 1, 10], 'gamma': [1, 0.1, 0.01]},\n",
              "             return_train_score=True, verbose=3)"
            ]
          },
          "execution_count": 64,
          "metadata": {},
          "output_type": "execute_result"
        }
      ],
      "source": [
        "# Aplicación de CV-Grid para identificación de Hiperparametros\n",
        "grid_SVM_clf = GridSearchCV(SVM_CL,\n",
        "                   param_grid=param_grid,\n",
        "                   verbose=3,\n",
        "                   cv=5,\n",
        "                   n_jobs=-1,\n",
        "                   return_train_score=True\n",
        "                   )\n",
        "\n",
        "grid_SVM_clf.fit(X_train, y_train)"
      ]
    },
    {
      "cell_type": "code",
      "execution_count": null,
      "metadata": {
        "id": "JYN66J9sPUNT"
      },
      "outputs": [
        {
          "data": {
            "text/html": [
              "<div>\n",
              "<style scoped>\n",
              "    .dataframe tbody tr th:only-of-type {\n",
              "        vertical-align: middle;\n",
              "    }\n",
              "\n",
              "    .dataframe tbody tr th {\n",
              "        vertical-align: top;\n",
              "    }\n",
              "\n",
              "    .dataframe thead th {\n",
              "        text-align: right;\n",
              "    }\n",
              "</style>\n",
              "<table border=\"1\" class=\"dataframe\">\n",
              "  <thead>\n",
              "    <tr style=\"text-align: right;\">\n",
              "      <th></th>\n",
              "      <th>mean_fit_time</th>\n",
              "      <th>std_fit_time</th>\n",
              "      <th>mean_score_time</th>\n",
              "      <th>std_score_time</th>\n",
              "      <th>param_C</th>\n",
              "      <th>param_gamma</th>\n",
              "      <th>params</th>\n",
              "      <th>split0_test_score</th>\n",
              "      <th>split1_test_score</th>\n",
              "      <th>split2_test_score</th>\n",
              "      <th>...</th>\n",
              "      <th>mean_test_score</th>\n",
              "      <th>std_test_score</th>\n",
              "      <th>rank_test_score</th>\n",
              "      <th>split0_train_score</th>\n",
              "      <th>split1_train_score</th>\n",
              "      <th>split2_train_score</th>\n",
              "      <th>split3_train_score</th>\n",
              "      <th>split4_train_score</th>\n",
              "      <th>mean_train_score</th>\n",
              "      <th>std_train_score</th>\n",
              "    </tr>\n",
              "  </thead>\n",
              "  <tbody>\n",
              "    <tr>\n",
              "      <th>7</th>\n",
              "      <td>5586.705925</td>\n",
              "      <td>603.665480</td>\n",
              "      <td>49.180998</td>\n",
              "      <td>13.784774</td>\n",
              "      <td>10</td>\n",
              "      <td>0.1</td>\n",
              "      <td>{'C': 10, 'gamma': 0.1}</td>\n",
              "      <td>0.809526</td>\n",
              "      <td>0.809622</td>\n",
              "      <td>0.818628</td>\n",
              "      <td>...</td>\n",
              "      <td>0.814312</td>\n",
              "      <td>0.004390</td>\n",
              "      <td>1</td>\n",
              "      <td>0.819084</td>\n",
              "      <td>0.819457</td>\n",
              "      <td>0.817519</td>\n",
              "      <td>0.818783</td>\n",
              "      <td>0.817160</td>\n",
              "      <td>0.818400</td>\n",
              "      <td>0.000900</td>\n",
              "    </tr>\n",
              "    <tr>\n",
              "      <th>4</th>\n",
              "      <td>1860.762735</td>\n",
              "      <td>16.202166</td>\n",
              "      <td>63.408598</td>\n",
              "      <td>0.928881</td>\n",
              "      <td>1</td>\n",
              "      <td>0.1</td>\n",
              "      <td>{'C': 1, 'gamma': 0.1}</td>\n",
              "      <td>0.808081</td>\n",
              "      <td>0.808996</td>\n",
              "      <td>0.816558</td>\n",
              "      <td>...</td>\n",
              "      <td>0.812703</td>\n",
              "      <td>0.003879</td>\n",
              "      <td>2</td>\n",
              "      <td>0.814797</td>\n",
              "      <td>0.814809</td>\n",
              "      <td>0.812763</td>\n",
              "      <td>0.813967</td>\n",
              "      <td>0.812283</td>\n",
              "      <td>0.813724</td>\n",
              "      <td>0.001038</td>\n",
              "    </tr>\n",
              "    <tr>\n",
              "      <th>0</th>\n",
              "      <td>1620.706597</td>\n",
              "      <td>82.395784</td>\n",
              "      <td>78.153601</td>\n",
              "      <td>0.219457</td>\n",
              "      <td>0.1</td>\n",
              "      <td>1</td>\n",
              "      <td>{'C': 0.1, 'gamma': 1}</td>\n",
              "      <td>0.808467</td>\n",
              "      <td>0.808129</td>\n",
              "      <td>0.814053</td>\n",
              "      <td>...</td>\n",
              "      <td>0.811730</td>\n",
              "      <td>0.003234</td>\n",
              "      <td>3</td>\n",
              "      <td>0.817001</td>\n",
              "      <td>0.816929</td>\n",
              "      <td>0.815448</td>\n",
              "      <td>0.816832</td>\n",
              "      <td>0.814980</td>\n",
              "      <td>0.816238</td>\n",
              "      <td>0.000851</td>\n",
              "    </tr>\n",
              "    <tr>\n",
              "      <th>3</th>\n",
              "      <td>2260.350344</td>\n",
              "      <td>117.923752</td>\n",
              "      <td>73.650002</td>\n",
              "      <td>0.405598</td>\n",
              "      <td>1</td>\n",
              "      <td>1</td>\n",
              "      <td>{'C': 1, 'gamma': 1}</td>\n",
              "      <td>0.806348</td>\n",
              "      <td>0.807744</td>\n",
              "      <td>0.814487</td>\n",
              "      <td>...</td>\n",
              "      <td>0.811701</td>\n",
              "      <td>0.004383</td>\n",
              "      <td>4</td>\n",
              "      <td>0.830064</td>\n",
              "      <td>0.830353</td>\n",
              "      <td>0.828102</td>\n",
              "      <td>0.828897</td>\n",
              "      <td>0.826936</td>\n",
              "      <td>0.828870</td>\n",
              "      <td>0.001262</td>\n",
              "    </tr>\n",
              "    <tr>\n",
              "      <th>8</th>\n",
              "      <td>1348.004341</td>\n",
              "      <td>101.767107</td>\n",
              "      <td>54.055000</td>\n",
              "      <td>8.711715</td>\n",
              "      <td>10</td>\n",
              "      <td>0.01</td>\n",
              "      <td>{'C': 10, 'gamma': 0.01}</td>\n",
              "      <td>0.806396</td>\n",
              "      <td>0.807937</td>\n",
              "      <td>0.815065</td>\n",
              "      <td>...</td>\n",
              "      <td>0.811162</td>\n",
              "      <td>0.003867</td>\n",
              "      <td>5</td>\n",
              "      <td>0.812883</td>\n",
              "      <td>0.812100</td>\n",
              "      <td>0.810138</td>\n",
              "      <td>0.811751</td>\n",
              "      <td>0.810056</td>\n",
              "      <td>0.811386</td>\n",
              "      <td>0.001115</td>\n",
              "    </tr>\n",
              "  </tbody>\n",
              "</table>\n",
              "<p>5 rows × 22 columns</p>\n",
              "</div>"
            ],
            "text/plain": [
              "   mean_fit_time  std_fit_time  mean_score_time  std_score_time param_C  \\\n",
              "7    5586.705925    603.665480        49.180998       13.784774      10   \n",
              "4    1860.762735     16.202166        63.408598        0.928881       1   \n",
              "0    1620.706597     82.395784        78.153601        0.219457     0.1   \n",
              "3    2260.350344    117.923752        73.650002        0.405598       1   \n",
              "8    1348.004341    101.767107        54.055000        8.711715      10   \n",
              "\n",
              "  param_gamma                    params  split0_test_score  split1_test_score  \\\n",
              "7         0.1   {'C': 10, 'gamma': 0.1}           0.809526           0.809622   \n",
              "4         0.1    {'C': 1, 'gamma': 0.1}           0.808081           0.808996   \n",
              "0           1    {'C': 0.1, 'gamma': 1}           0.808467           0.808129   \n",
              "3           1      {'C': 1, 'gamma': 1}           0.806348           0.807744   \n",
              "8        0.01  {'C': 10, 'gamma': 0.01}           0.806396           0.807937   \n",
              "\n",
              "   split2_test_score  ...  mean_test_score  std_test_score  rank_test_score  \\\n",
              "7           0.818628  ...         0.814312        0.004390                1   \n",
              "4           0.816558  ...         0.812703        0.003879                2   \n",
              "0           0.814053  ...         0.811730        0.003234                3   \n",
              "3           0.814487  ...         0.811701        0.004383                4   \n",
              "8           0.815065  ...         0.811162        0.003867                5   \n",
              "\n",
              "   split0_train_score  split1_train_score  split2_train_score  \\\n",
              "7            0.819084            0.819457            0.817519   \n",
              "4            0.814797            0.814809            0.812763   \n",
              "0            0.817001            0.816929            0.815448   \n",
              "3            0.830064            0.830353            0.828102   \n",
              "8            0.812883            0.812100            0.810138   \n",
              "\n",
              "   split3_train_score  split4_train_score  mean_train_score  std_train_score  \n",
              "7            0.818783            0.817160          0.818400         0.000900  \n",
              "4            0.813967            0.812283          0.813724         0.001038  \n",
              "0            0.816832            0.814980          0.816238         0.000851  \n",
              "3            0.828897            0.826936          0.828870         0.001262  \n",
              "8            0.811751            0.810056          0.811386         0.001115  \n",
              "\n",
              "[5 rows x 22 columns]"
            ]
          },
          "execution_count": 65,
          "metadata": {},
          "output_type": "execute_result"
        }
      ],
      "source": [
        "#Cálculo de los resultados del Grid\n",
        "pd.DataFrame(grid_SVM_clf.cv_results_).sort_values(by='rank_test_score', ascending=True).head(5)"
      ]
    },
    {
      "cell_type": "code",
      "execution_count": null,
      "metadata": {},
      "outputs": [],
      "source": [
        "resut_SVM= pd.DataFrame(grid_SVM_clf.cv_results_).sort_values(by='rank_test_score', ascending=True)\n",
        "resut_SVM.to_csv('C:\\\\sqldeveloper\\\\sqldeveloper\\\\bin\\\\resut_SVM_cv5.csv', index=False,header=True)"
      ]
    },
    {
      "cell_type": "code",
      "execution_count": null,
      "metadata": {
        "id": "7849CF862pas"
      },
      "outputs": [
        {
          "name": "stdout",
          "output_type": "stream",
          "text": [
            "{'C': 10, 'gamma': 0.1}\n"
          ]
        }
      ],
      "source": [
        "# Mejores parámetros identificados.\n",
        "print(grid_SVM_clf.best_params_)\n",
        "C,gamma = list(grid_SVM_clf.best_params_.values())"
      ]
    },
    {
      "cell_type": "code",
      "execution_count": null,
      "metadata": {
        "id": "H0AWhzkF3Nr1"
      },
      "outputs": [
        {
          "name": "stdout",
          "output_type": "stream",
          "text": [
            "0.8143115008319715\n"
          ]
        }
      ],
      "source": [
        "# Puntaje de la mejor combinación de parámetros.\n",
        "print(grid_SVM_clf.best_score_)"
      ]
    },
    {
      "cell_type": "markdown",
      "metadata": {
        "id": "5Ic7toi03TD8"
      },
      "source": [
        "#####SVM Best Model"
      ]
    },
    {
      "cell_type": "code",
      "execution_count": null,
      "metadata": {
        "id": "6aVp0d_b6FO_"
      },
      "outputs": [],
      "source": [
        "#Caculo del modelo optimizado previamente identificado, con los mejores hiperparametros\n",
        "SVM=SVC(kernel='rbf',random_state=42,C=C,gamma=gamma)"
      ]
    },
    {
      "cell_type": "code",
      "execution_count": null,
      "metadata": {},
      "outputs": [],
      "source": [
        "SVM_fit = SVM.fit(X_train, y_train)"
      ]
    },
    {
      "cell_type": "code",
      "execution_count": null,
      "metadata": {
        "id": "aeg8mMNd6vz5"
      },
      "outputs": [
        {
          "name": "stdout",
          "output_type": "stream",
          "text": [
            "Error entrenamiento: 0.18198980918714303\n",
            "Error generalización: 0.18674008315541069\n"
          ]
        }
      ],
      "source": [
        "print(f'Error entrenamiento: {1 - SVM_fit.score(X_train, y_train)}')\n",
        "print(f'Error generalización: {1 - SVM_fit.score(X_test, y_test)}')"
      ]
    },
    {
      "cell_type": "code",
      "execution_count": null,
      "metadata": {
        "id": "KdA-A2ZD60I-"
      },
      "outputs": [],
      "source": [
        "#Estimación de la predicción para el mejor modelo\n",
        "SVM_pred= SVM_fit.predict(X_test)"
      ]
    },
    {
      "cell_type": "code",
      "execution_count": null,
      "metadata": {
        "id": "HusqvwAk68tc"
      },
      "outputs": [
        {
          "data": {
            "text/html": [
              "<div>\n",
              "<style scoped>\n",
              "    .dataframe tbody tr th:only-of-type {\n",
              "        vertical-align: middle;\n",
              "    }\n",
              "\n",
              "    .dataframe tbody tr th {\n",
              "        vertical-align: top;\n",
              "    }\n",
              "\n",
              "    .dataframe thead tr th {\n",
              "        text-align: left;\n",
              "    }\n",
              "</style>\n",
              "<table border=\"1\" class=\"dataframe\">\n",
              "  <thead>\n",
              "    <tr>\n",
              "      <th></th>\n",
              "      <th></th>\n",
              "      <th colspan=\"3\" halign=\"left\">Valor predicho</th>\n",
              "    </tr>\n",
              "    <tr>\n",
              "      <th></th>\n",
              "      <th></th>\n",
              "      <th>MUERTO</th>\n",
              "      <th>HERIDO</th>\n",
              "      <th>DANOS</th>\n",
              "    </tr>\n",
              "  </thead>\n",
              "  <tbody>\n",
              "    <tr>\n",
              "      <th rowspan=\"3\" valign=\"top\">Valor real</th>\n",
              "      <th>MUERTO</th>\n",
              "      <td>8</td>\n",
              "      <td>626</td>\n",
              "      <td>163</td>\n",
              "    </tr>\n",
              "    <tr>\n",
              "      <th>HERIDO</th>\n",
              "      <td>4</td>\n",
              "      <td>14199</td>\n",
              "      <td>5272</td>\n",
              "    </tr>\n",
              "    <tr>\n",
              "      <th>DANOS</th>\n",
              "      <td>3</td>\n",
              "      <td>2241</td>\n",
              "      <td>21979</td>\n",
              "    </tr>\n",
              "  </tbody>\n",
              "</table>\n",
              "</div>"
            ],
            "text/plain": [
              "                  Valor predicho              \n",
              "                          MUERTO HERIDO  DANOS\n",
              "Valor real MUERTO              8    626    163\n",
              "           HERIDO              4  14199   5272\n",
              "           DANOS               3   2241  21979"
            ]
          },
          "execution_count": 73,
          "metadata": {},
          "output_type": "execute_result"
        }
      ],
      "source": [
        "# Generación de la matriz de confusión.\n",
        "SVM_mat = confusion_matrix(y_test, SVM_pred)\n",
        "list_confusion_matrix(SVM_mat, ['MUERTO', 'HERIDO', 'DANOS'])"
      ]
    },
    {
      "cell_type": "code",
      "execution_count": null,
      "metadata": {
        "id": "JiwzujLL7Qo0"
      },
      "outputs": [
        {
          "name": "stdout",
          "output_type": "stream",
          "text": [
            "Orden de las etiquetas: ['MUERTO', 'HERIDO', 'DANOS']\n",
            "Precisión por clase: \t[0.53333333 0.83200516 0.80174363]\n",
            "Recall por clase: \t[0.01003764 0.72908858 0.90736077]\n",
            "F1 por clase: \t[0.01970443 0.77715443 0.8512888 ]\n"
          ]
        }
      ],
      "source": [
        "#Estimación de los estadísticos de desempeño del modelo.\n",
        "print(f'Orden de las etiquetas: {gravedad_names}')\n",
        "print(f'Precisión por clase: \\t{precision_score(y_test, SVM_pred, average=None)}')\n",
        "print(f'Recall por clase: \\t{recall_score(y_test, SVM_pred, average=None)}')\n",
        "print(f'F1 por clase: \\t{f1_score(y_test, SVM_pred, average=None)}')"
      ]
    },
    {
      "cell_type": "code",
      "execution_count": null,
      "metadata": {
        "id": "11ekMQqD7XLi"
      },
      "outputs": [
        {
          "name": "stdout",
          "output_type": "stream",
          "text": [
            "Precisión micro: 0.8133\n",
            "Recall micro: 0.8133\n",
            "F1 micro: 0.8133\n"
          ]
        }
      ],
      "source": [
        "print(f\"Precisión micro: {precision_score(y_test, SVM_pred, average='micro'):.4f}\")\n",
        "print(f\"Recall micro: {recall_score(y_test, SVM_pred, average='micro'):.4f}\")\n",
        "print(f\"F1 micro: {f1_score(y_test, SVM_pred, average='micro'):.4f}\")"
      ]
    },
    {
      "cell_type": "markdown",
      "metadata": {},
      "source": [
        "#### D)  Algoritmo: REGRESION LOGISTICA"
      ]
    },
    {
      "cell_type": "code",
      "execution_count": null,
      "metadata": {},
      "outputs": [],
      "source": [
        "from sklearn.linear_model import LogisticRegression\n",
        "from sklearn.metrics import accuracy_score\n",
        "from sklearn.model_selection import GridSearchCV\n",
        "from sklearn.metrics import confusion_matrix\n",
        "from sklearn.metrics import precision_score, recall_score, f1_score"
      ]
    },
    {
      "cell_type": "code",
      "execution_count": null,
      "metadata": {},
      "outputs": [],
      "source": [
        "#Clasificador por REGRESION LOGISTICA\n",
        "RLOG_CL=LogisticRegression(random_state=42)"
      ]
    },
    {
      "cell_type": "code",
      "execution_count": null,
      "metadata": {},
      "outputs": [],
      "source": [
        "parameters = [  {'solver': ['newton-cg', 'lbfgs', 'liblinear', 'sag', 'saga']},\n",
        "                {'penalty':['none', 'elasticnet', 'l1', 'l2']}, \n",
        "                {'C':[0.001, 0.01, 0.1, 1, 10, 100]}]"
      ]
    },
    {
      "cell_type": "code",
      "execution_count": null,
      "metadata": {},
      "outputs": [
        {
          "name": "stdout",
          "output_type": "stream",
          "text": [
            "Fitting 5 folds for each of 15 candidates, totalling 75 fits\n"
          ]
        },
        {
          "data": {
            "text/html": [
              "<style>#sk-container-id-1 {\n",
              "  /* Definition of color scheme common for light and dark mode */\n",
              "  --sklearn-color-text: black;\n",
              "  --sklearn-color-line: gray;\n",
              "  /* Definition of color scheme for unfitted estimators */\n",
              "  --sklearn-color-unfitted-level-0: #fff5e6;\n",
              "  --sklearn-color-unfitted-level-1: #f6e4d2;\n",
              "  --sklearn-color-unfitted-level-2: #ffe0b3;\n",
              "  --sklearn-color-unfitted-level-3: chocolate;\n",
              "  /* Definition of color scheme for fitted estimators */\n",
              "  --sklearn-color-fitted-level-0: #f0f8ff;\n",
              "  --sklearn-color-fitted-level-1: #d4ebff;\n",
              "  --sklearn-color-fitted-level-2: #b3dbfd;\n",
              "  --sklearn-color-fitted-level-3: cornflowerblue;\n",
              "\n",
              "  /* Specific color for light theme */\n",
              "  --sklearn-color-text-on-default-background: var(--sg-text-color, var(--theme-code-foreground, var(--jp-content-font-color1, black)));\n",
              "  --sklearn-color-background: var(--sg-background-color, var(--theme-background, var(--jp-layout-color0, white)));\n",
              "  --sklearn-color-border-box: var(--sg-text-color, var(--theme-code-foreground, var(--jp-content-font-color1, black)));\n",
              "  --sklearn-color-icon: #696969;\n",
              "\n",
              "  @media (prefers-color-scheme: dark) {\n",
              "    /* Redefinition of color scheme for dark theme */\n",
              "    --sklearn-color-text-on-default-background: var(--sg-text-color, var(--theme-code-foreground, var(--jp-content-font-color1, white)));\n",
              "    --sklearn-color-background: var(--sg-background-color, var(--theme-background, var(--jp-layout-color0, #111)));\n",
              "    --sklearn-color-border-box: var(--sg-text-color, var(--theme-code-foreground, var(--jp-content-font-color1, white)));\n",
              "    --sklearn-color-icon: #878787;\n",
              "  }\n",
              "}\n",
              "\n",
              "#sk-container-id-1 {\n",
              "  color: var(--sklearn-color-text);\n",
              "}\n",
              "\n",
              "#sk-container-id-1 pre {\n",
              "  padding: 0;\n",
              "}\n",
              "\n",
              "#sk-container-id-1 input.sk-hidden--visually {\n",
              "  border: 0;\n",
              "  clip: rect(1px 1px 1px 1px);\n",
              "  clip: rect(1px, 1px, 1px, 1px);\n",
              "  height: 1px;\n",
              "  margin: -1px;\n",
              "  overflow: hidden;\n",
              "  padding: 0;\n",
              "  position: absolute;\n",
              "  width: 1px;\n",
              "}\n",
              "\n",
              "#sk-container-id-1 div.sk-dashed-wrapped {\n",
              "  border: 1px dashed var(--sklearn-color-line);\n",
              "  margin: 0 0.4em 0.5em 0.4em;\n",
              "  box-sizing: border-box;\n",
              "  padding-bottom: 0.4em;\n",
              "  background-color: var(--sklearn-color-background);\n",
              "}\n",
              "\n",
              "#sk-container-id-1 div.sk-container {\n",
              "  /* jupyter's `normalize.less` sets `[hidden] { display: none; }`\n",
              "     but bootstrap.min.css set `[hidden] { display: none !important; }`\n",
              "     so we also need the `!important` here to be able to override the\n",
              "     default hidden behavior on the sphinx rendered scikit-learn.org.\n",
              "     See: https://github.com/scikit-learn/scikit-learn/issues/21755 */\n",
              "  display: inline-block !important;\n",
              "  position: relative;\n",
              "}\n",
              "\n",
              "#sk-container-id-1 div.sk-text-repr-fallback {\n",
              "  display: none;\n",
              "}\n",
              "\n",
              "div.sk-parallel-item,\n",
              "div.sk-serial,\n",
              "div.sk-item {\n",
              "  /* draw centered vertical line to link estimators */\n",
              "  background-image: linear-gradient(var(--sklearn-color-text-on-default-background), var(--sklearn-color-text-on-default-background));\n",
              "  background-size: 2px 100%;\n",
              "  background-repeat: no-repeat;\n",
              "  background-position: center center;\n",
              "}\n",
              "\n",
              "/* Parallel-specific style estimator block */\n",
              "\n",
              "#sk-container-id-1 div.sk-parallel-item::after {\n",
              "  content: \"\";\n",
              "  width: 100%;\n",
              "  border-bottom: 2px solid var(--sklearn-color-text-on-default-background);\n",
              "  flex-grow: 1;\n",
              "}\n",
              "\n",
              "#sk-container-id-1 div.sk-parallel {\n",
              "  display: flex;\n",
              "  align-items: stretch;\n",
              "  justify-content: center;\n",
              "  background-color: var(--sklearn-color-background);\n",
              "  position: relative;\n",
              "}\n",
              "\n",
              "#sk-container-id-1 div.sk-parallel-item {\n",
              "  display: flex;\n",
              "  flex-direction: column;\n",
              "}\n",
              "\n",
              "#sk-container-id-1 div.sk-parallel-item:first-child::after {\n",
              "  align-self: flex-end;\n",
              "  width: 50%;\n",
              "}\n",
              "\n",
              "#sk-container-id-1 div.sk-parallel-item:last-child::after {\n",
              "  align-self: flex-start;\n",
              "  width: 50%;\n",
              "}\n",
              "\n",
              "#sk-container-id-1 div.sk-parallel-item:only-child::after {\n",
              "  width: 0;\n",
              "}\n",
              "\n",
              "/* Serial-specific style estimator block */\n",
              "\n",
              "#sk-container-id-1 div.sk-serial {\n",
              "  display: flex;\n",
              "  flex-direction: column;\n",
              "  align-items: center;\n",
              "  background-color: var(--sklearn-color-background);\n",
              "  padding-right: 1em;\n",
              "  padding-left: 1em;\n",
              "}\n",
              "\n",
              "\n",
              "/* Toggleable style: style used for estimator/Pipeline/ColumnTransformer box that is\n",
              "clickable and can be expanded/collapsed.\n",
              "- Pipeline and ColumnTransformer use this feature and define the default style\n",
              "- Estimators will overwrite some part of the style using the `sk-estimator` class\n",
              "*/\n",
              "\n",
              "/* Pipeline and ColumnTransformer style (default) */\n",
              "\n",
              "#sk-container-id-1 div.sk-toggleable {\n",
              "  /* Default theme specific background. It is overwritten whether we have a\n",
              "  specific estimator or a Pipeline/ColumnTransformer */\n",
              "  background-color: var(--sklearn-color-background);\n",
              "}\n",
              "\n",
              "/* Toggleable label */\n",
              "#sk-container-id-1 label.sk-toggleable__label {\n",
              "  cursor: pointer;\n",
              "  display: block;\n",
              "  width: 100%;\n",
              "  margin-bottom: 0;\n",
              "  padding: 0.5em;\n",
              "  box-sizing: border-box;\n",
              "  text-align: center;\n",
              "}\n",
              "\n",
              "#sk-container-id-1 label.sk-toggleable__label-arrow:before {\n",
              "  /* Arrow on the left of the label */\n",
              "  content: \"▸\";\n",
              "  float: left;\n",
              "  margin-right: 0.25em;\n",
              "  color: var(--sklearn-color-icon);\n",
              "}\n",
              "\n",
              "#sk-container-id-1 label.sk-toggleable__label-arrow:hover:before {\n",
              "  color: var(--sklearn-color-text);\n",
              "}\n",
              "\n",
              "/* Toggleable content - dropdown */\n",
              "\n",
              "#sk-container-id-1 div.sk-toggleable__content {\n",
              "  max-height: 0;\n",
              "  max-width: 0;\n",
              "  overflow: hidden;\n",
              "  text-align: left;\n",
              "  /* unfitted */\n",
              "  background-color: var(--sklearn-color-unfitted-level-0);\n",
              "}\n",
              "\n",
              "#sk-container-id-1 div.sk-toggleable__content.fitted {\n",
              "  /* fitted */\n",
              "  background-color: var(--sklearn-color-fitted-level-0);\n",
              "}\n",
              "\n",
              "#sk-container-id-1 div.sk-toggleable__content pre {\n",
              "  margin: 0.2em;\n",
              "  border-radius: 0.25em;\n",
              "  color: var(--sklearn-color-text);\n",
              "  /* unfitted */\n",
              "  background-color: var(--sklearn-color-unfitted-level-0);\n",
              "}\n",
              "\n",
              "#sk-container-id-1 div.sk-toggleable__content.fitted pre {\n",
              "  /* unfitted */\n",
              "  background-color: var(--sklearn-color-fitted-level-0);\n",
              "}\n",
              "\n",
              "#sk-container-id-1 input.sk-toggleable__control:checked~div.sk-toggleable__content {\n",
              "  /* Expand drop-down */\n",
              "  max-height: 200px;\n",
              "  max-width: 100%;\n",
              "  overflow: auto;\n",
              "}\n",
              "\n",
              "#sk-container-id-1 input.sk-toggleable__control:checked~label.sk-toggleable__label-arrow:before {\n",
              "  content: \"▾\";\n",
              "}\n",
              "\n",
              "/* Pipeline/ColumnTransformer-specific style */\n",
              "\n",
              "#sk-container-id-1 div.sk-label input.sk-toggleable__control:checked~label.sk-toggleable__label {\n",
              "  color: var(--sklearn-color-text);\n",
              "  background-color: var(--sklearn-color-unfitted-level-2);\n",
              "}\n",
              "\n",
              "#sk-container-id-1 div.sk-label.fitted input.sk-toggleable__control:checked~label.sk-toggleable__label {\n",
              "  background-color: var(--sklearn-color-fitted-level-2);\n",
              "}\n",
              "\n",
              "/* Estimator-specific style */\n",
              "\n",
              "/* Colorize estimator box */\n",
              "#sk-container-id-1 div.sk-estimator input.sk-toggleable__control:checked~label.sk-toggleable__label {\n",
              "  /* unfitted */\n",
              "  background-color: var(--sklearn-color-unfitted-level-2);\n",
              "}\n",
              "\n",
              "#sk-container-id-1 div.sk-estimator.fitted input.sk-toggleable__control:checked~label.sk-toggleable__label {\n",
              "  /* fitted */\n",
              "  background-color: var(--sklearn-color-fitted-level-2);\n",
              "}\n",
              "\n",
              "#sk-container-id-1 div.sk-label label.sk-toggleable__label,\n",
              "#sk-container-id-1 div.sk-label label {\n",
              "  /* The background is the default theme color */\n",
              "  color: var(--sklearn-color-text-on-default-background);\n",
              "}\n",
              "\n",
              "/* On hover, darken the color of the background */\n",
              "#sk-container-id-1 div.sk-label:hover label.sk-toggleable__label {\n",
              "  color: var(--sklearn-color-text);\n",
              "  background-color: var(--sklearn-color-unfitted-level-2);\n",
              "}\n",
              "\n",
              "/* Label box, darken color on hover, fitted */\n",
              "#sk-container-id-1 div.sk-label.fitted:hover label.sk-toggleable__label.fitted {\n",
              "  color: var(--sklearn-color-text);\n",
              "  background-color: var(--sklearn-color-fitted-level-2);\n",
              "}\n",
              "\n",
              "/* Estimator label */\n",
              "\n",
              "#sk-container-id-1 div.sk-label label {\n",
              "  font-family: monospace;\n",
              "  font-weight: bold;\n",
              "  display: inline-block;\n",
              "  line-height: 1.2em;\n",
              "}\n",
              "\n",
              "#sk-container-id-1 div.sk-label-container {\n",
              "  text-align: center;\n",
              "}\n",
              "\n",
              "/* Estimator-specific */\n",
              "#sk-container-id-1 div.sk-estimator {\n",
              "  font-family: monospace;\n",
              "  border: 1px dotted var(--sklearn-color-border-box);\n",
              "  border-radius: 0.25em;\n",
              "  box-sizing: border-box;\n",
              "  margin-bottom: 0.5em;\n",
              "  /* unfitted */\n",
              "  background-color: var(--sklearn-color-unfitted-level-0);\n",
              "}\n",
              "\n",
              "#sk-container-id-1 div.sk-estimator.fitted {\n",
              "  /* fitted */\n",
              "  background-color: var(--sklearn-color-fitted-level-0);\n",
              "}\n",
              "\n",
              "/* on hover */\n",
              "#sk-container-id-1 div.sk-estimator:hover {\n",
              "  /* unfitted */\n",
              "  background-color: var(--sklearn-color-unfitted-level-2);\n",
              "}\n",
              "\n",
              "#sk-container-id-1 div.sk-estimator.fitted:hover {\n",
              "  /* fitted */\n",
              "  background-color: var(--sklearn-color-fitted-level-2);\n",
              "}\n",
              "\n",
              "/* Specification for estimator info (e.g. \"i\" and \"?\") */\n",
              "\n",
              "/* Common style for \"i\" and \"?\" */\n",
              "\n",
              ".sk-estimator-doc-link,\n",
              "a:link.sk-estimator-doc-link,\n",
              "a:visited.sk-estimator-doc-link {\n",
              "  float: right;\n",
              "  font-size: smaller;\n",
              "  line-height: 1em;\n",
              "  font-family: monospace;\n",
              "  background-color: var(--sklearn-color-background);\n",
              "  border-radius: 1em;\n",
              "  height: 1em;\n",
              "  width: 1em;\n",
              "  text-decoration: none !important;\n",
              "  margin-left: 1ex;\n",
              "  /* unfitted */\n",
              "  border: var(--sklearn-color-unfitted-level-1) 1pt solid;\n",
              "  color: var(--sklearn-color-unfitted-level-1);\n",
              "}\n",
              "\n",
              ".sk-estimator-doc-link.fitted,\n",
              "a:link.sk-estimator-doc-link.fitted,\n",
              "a:visited.sk-estimator-doc-link.fitted {\n",
              "  /* fitted */\n",
              "  border: var(--sklearn-color-fitted-level-1) 1pt solid;\n",
              "  color: var(--sklearn-color-fitted-level-1);\n",
              "}\n",
              "\n",
              "/* On hover */\n",
              "div.sk-estimator:hover .sk-estimator-doc-link:hover,\n",
              ".sk-estimator-doc-link:hover,\n",
              "div.sk-label-container:hover .sk-estimator-doc-link:hover,\n",
              ".sk-estimator-doc-link:hover {\n",
              "  /* unfitted */\n",
              "  background-color: var(--sklearn-color-unfitted-level-3);\n",
              "  color: var(--sklearn-color-background);\n",
              "  text-decoration: none;\n",
              "}\n",
              "\n",
              "div.sk-estimator.fitted:hover .sk-estimator-doc-link.fitted:hover,\n",
              ".sk-estimator-doc-link.fitted:hover,\n",
              "div.sk-label-container:hover .sk-estimator-doc-link.fitted:hover,\n",
              ".sk-estimator-doc-link.fitted:hover {\n",
              "  /* fitted */\n",
              "  background-color: var(--sklearn-color-fitted-level-3);\n",
              "  color: var(--sklearn-color-background);\n",
              "  text-decoration: none;\n",
              "}\n",
              "\n",
              "/* Span, style for the box shown on hovering the info icon */\n",
              ".sk-estimator-doc-link span {\n",
              "  display: none;\n",
              "  z-index: 9999;\n",
              "  position: relative;\n",
              "  font-weight: normal;\n",
              "  right: .2ex;\n",
              "  padding: .5ex;\n",
              "  margin: .5ex;\n",
              "  width: min-content;\n",
              "  min-width: 20ex;\n",
              "  max-width: 50ex;\n",
              "  color: var(--sklearn-color-text);\n",
              "  box-shadow: 2pt 2pt 4pt #999;\n",
              "  /* unfitted */\n",
              "  background: var(--sklearn-color-unfitted-level-0);\n",
              "  border: .5pt solid var(--sklearn-color-unfitted-level-3);\n",
              "}\n",
              "\n",
              ".sk-estimator-doc-link.fitted span {\n",
              "  /* fitted */\n",
              "  background: var(--sklearn-color-fitted-level-0);\n",
              "  border: var(--sklearn-color-fitted-level-3);\n",
              "}\n",
              "\n",
              ".sk-estimator-doc-link:hover span {\n",
              "  display: block;\n",
              "}\n",
              "\n",
              "/* \"?\"-specific style due to the `<a>` HTML tag */\n",
              "\n",
              "#sk-container-id-1 a.estimator_doc_link {\n",
              "  float: right;\n",
              "  font-size: 1rem;\n",
              "  line-height: 1em;\n",
              "  font-family: monospace;\n",
              "  background-color: var(--sklearn-color-background);\n",
              "  border-radius: 1rem;\n",
              "  height: 1rem;\n",
              "  width: 1rem;\n",
              "  text-decoration: none;\n",
              "  /* unfitted */\n",
              "  color: var(--sklearn-color-unfitted-level-1);\n",
              "  border: var(--sklearn-color-unfitted-level-1) 1pt solid;\n",
              "}\n",
              "\n",
              "#sk-container-id-1 a.estimator_doc_link.fitted {\n",
              "  /* fitted */\n",
              "  border: var(--sklearn-color-fitted-level-1) 1pt solid;\n",
              "  color: var(--sklearn-color-fitted-level-1);\n",
              "}\n",
              "\n",
              "/* On hover */\n",
              "#sk-container-id-1 a.estimator_doc_link:hover {\n",
              "  /* unfitted */\n",
              "  background-color: var(--sklearn-color-unfitted-level-3);\n",
              "  color: var(--sklearn-color-background);\n",
              "  text-decoration: none;\n",
              "}\n",
              "\n",
              "#sk-container-id-1 a.estimator_doc_link.fitted:hover {\n",
              "  /* fitted */\n",
              "  background-color: var(--sklearn-color-fitted-level-3);\n",
              "}\n",
              "</style><div id=\"sk-container-id-1\" class=\"sk-top-container\"><div class=\"sk-text-repr-fallback\"><pre>GridSearchCV(cv=5, estimator=LogisticRegression(random_state=42), n_jobs=-1,\n",
              "             param_grid=[{&#x27;solver&#x27;: [&#x27;newton-cg&#x27;, &#x27;lbfgs&#x27;, &#x27;liblinear&#x27;, &#x27;sag&#x27;,\n",
              "                                     &#x27;saga&#x27;]},\n",
              "                         {&#x27;penalty&#x27;: [&#x27;none&#x27;, &#x27;elasticnet&#x27;, &#x27;l1&#x27;, &#x27;l2&#x27;]},\n",
              "                         {&#x27;C&#x27;: [0.001, 0.01, 0.1, 1, 10, 100]}],\n",
              "             return_train_score=True, scoring=&#x27;accuracy&#x27;, verbose=3)</pre><b>In a Jupyter environment, please rerun this cell to show the HTML representation or trust the notebook. <br />On GitHub, the HTML representation is unable to render, please try loading this page with nbviewer.org.</b></div><div class=\"sk-container\" hidden><div class=\"sk-item sk-dashed-wrapped\"><div class=\"sk-label-container\"><div class=\"sk-label fitted sk-toggleable\"><input class=\"sk-toggleable__control sk-hidden--visually\" id=\"sk-estimator-id-1\" type=\"checkbox\" ><label for=\"sk-estimator-id-1\" class=\"sk-toggleable__label fitted sk-toggleable__label-arrow fitted\">&nbsp;&nbsp;GridSearchCV<a class=\"sk-estimator-doc-link fitted\" rel=\"noreferrer\" target=\"_blank\" href=\"https://scikit-learn.org/1.4/modules/generated/sklearn.model_selection.GridSearchCV.html\">?<span>Documentation for GridSearchCV</span></a><span class=\"sk-estimator-doc-link fitted\">i<span>Fitted</span></span></label><div class=\"sk-toggleable__content fitted\"><pre>GridSearchCV(cv=5, estimator=LogisticRegression(random_state=42), n_jobs=-1,\n",
              "             param_grid=[{&#x27;solver&#x27;: [&#x27;newton-cg&#x27;, &#x27;lbfgs&#x27;, &#x27;liblinear&#x27;, &#x27;sag&#x27;,\n",
              "                                     &#x27;saga&#x27;]},\n",
              "                         {&#x27;penalty&#x27;: [&#x27;none&#x27;, &#x27;elasticnet&#x27;, &#x27;l1&#x27;, &#x27;l2&#x27;]},\n",
              "                         {&#x27;C&#x27;: [0.001, 0.01, 0.1, 1, 10, 100]}],\n",
              "             return_train_score=True, scoring=&#x27;accuracy&#x27;, verbose=3)</pre></div> </div></div><div class=\"sk-parallel\"><div class=\"sk-parallel-item\"><div class=\"sk-item\"><div class=\"sk-label-container\"><div class=\"sk-label fitted sk-toggleable\"><input class=\"sk-toggleable__control sk-hidden--visually\" id=\"sk-estimator-id-2\" type=\"checkbox\" ><label for=\"sk-estimator-id-2\" class=\"sk-toggleable__label fitted sk-toggleable__label-arrow fitted\">estimator: LogisticRegression</label><div class=\"sk-toggleable__content fitted\"><pre>LogisticRegression(random_state=42)</pre></div> </div></div><div class=\"sk-serial\"><div class=\"sk-item\"><div class=\"sk-estimator fitted sk-toggleable\"><input class=\"sk-toggleable__control sk-hidden--visually\" id=\"sk-estimator-id-3\" type=\"checkbox\" ><label for=\"sk-estimator-id-3\" class=\"sk-toggleable__label fitted sk-toggleable__label-arrow fitted\">&nbsp;LogisticRegression<a class=\"sk-estimator-doc-link fitted\" rel=\"noreferrer\" target=\"_blank\" href=\"https://scikit-learn.org/1.4/modules/generated/sklearn.linear_model.LogisticRegression.html\">?<span>Documentation for LogisticRegression</span></a></label><div class=\"sk-toggleable__content fitted\"><pre>LogisticRegression(random_state=42)</pre></div> </div></div></div></div></div></div></div></div></div>"
            ],
            "text/plain": [
              "GridSearchCV(cv=5, estimator=LogisticRegression(random_state=42), n_jobs=-1,\n",
              "             param_grid=[{'solver': ['newton-cg', 'lbfgs', 'liblinear', 'sag',\n",
              "                                     'saga']},\n",
              "                         {'penalty': ['none', 'elasticnet', 'l1', 'l2']},\n",
              "                         {'C': [0.001, 0.01, 0.1, 1, 10, 100]}],\n",
              "             return_train_score=True, scoring='accuracy', verbose=3)"
            ]
          },
          "execution_count": 36,
          "metadata": {},
          "output_type": "execute_result"
        }
      ],
      "source": [
        "grid_RLOG_clf = GridSearchCV(RLOG_CL,  \n",
        "                            param_grid = parameters,\n",
        "                            scoring = 'accuracy',\n",
        "                            verbose=3,\n",
        "                            cv=5,\n",
        "                            n_jobs=-1,\n",
        "                            return_train_score=True\n",
        "                           )\n",
        "\n",
        "\n",
        "grid_RLOG_clf.fit(X_train, y_train)"
      ]
    },
    {
      "cell_type": "code",
      "execution_count": null,
      "metadata": {},
      "outputs": [
        {
          "data": {
            "text/html": [
              "<div>\n",
              "<style scoped>\n",
              "    .dataframe tbody tr th:only-of-type {\n",
              "        vertical-align: middle;\n",
              "    }\n",
              "\n",
              "    .dataframe tbody tr th {\n",
              "        vertical-align: top;\n",
              "    }\n",
              "\n",
              "    .dataframe thead th {\n",
              "        text-align: right;\n",
              "    }\n",
              "</style>\n",
              "<table border=\"1\" class=\"dataframe\">\n",
              "  <thead>\n",
              "    <tr style=\"text-align: right;\">\n",
              "      <th></th>\n",
              "      <th>mean_fit_time</th>\n",
              "      <th>std_fit_time</th>\n",
              "      <th>mean_score_time</th>\n",
              "      <th>std_score_time</th>\n",
              "      <th>param_solver</th>\n",
              "      <th>param_penalty</th>\n",
              "      <th>param_C</th>\n",
              "      <th>params</th>\n",
              "      <th>split0_test_score</th>\n",
              "      <th>split1_test_score</th>\n",
              "      <th>...</th>\n",
              "      <th>mean_test_score</th>\n",
              "      <th>std_test_score</th>\n",
              "      <th>rank_test_score</th>\n",
              "      <th>split0_train_score</th>\n",
              "      <th>split1_train_score</th>\n",
              "      <th>split2_train_score</th>\n",
              "      <th>split3_train_score</th>\n",
              "      <th>split4_train_score</th>\n",
              "      <th>mean_train_score</th>\n",
              "      <th>std_train_score</th>\n",
              "    </tr>\n",
              "  </thead>\n",
              "  <tbody>\n",
              "    <tr>\n",
              "      <th>13</th>\n",
              "      <td>1.836799</td>\n",
              "      <td>0.202565</td>\n",
              "      <td>0.005400</td>\n",
              "      <td>0.002334</td>\n",
              "      <td>NaN</td>\n",
              "      <td>NaN</td>\n",
              "      <td>10</td>\n",
              "      <td>{'C': 10}</td>\n",
              "      <td>0.807985</td>\n",
              "      <td>0.805240</td>\n",
              "      <td>...</td>\n",
              "      <td>0.810613</td>\n",
              "      <td>0.003772</td>\n",
              "      <td>1</td>\n",
              "      <td>0.811282</td>\n",
              "      <td>0.812257</td>\n",
              "      <td>0.809584</td>\n",
              "      <td>0.81074</td>\n",
              "      <td>0.809478</td>\n",
              "      <td>0.810668</td>\n",
              "      <td>0.001049</td>\n",
              "    </tr>\n",
              "    <tr>\n",
              "      <th>1</th>\n",
              "      <td>1.614799</td>\n",
              "      <td>0.093394</td>\n",
              "      <td>0.004200</td>\n",
              "      <td>0.000402</td>\n",
              "      <td>lbfgs</td>\n",
              "      <td>NaN</td>\n",
              "      <td>NaN</td>\n",
              "      <td>{'solver': 'lbfgs'}</td>\n",
              "      <td>0.807985</td>\n",
              "      <td>0.805144</td>\n",
              "      <td>...</td>\n",
              "      <td>0.810565</td>\n",
              "      <td>0.003762</td>\n",
              "      <td>2</td>\n",
              "      <td>0.811270</td>\n",
              "      <td>0.812137</td>\n",
              "      <td>0.809716</td>\n",
              "      <td>0.81074</td>\n",
              "      <td>0.809442</td>\n",
              "      <td>0.810661</td>\n",
              "      <td>0.000993</td>\n",
              "    </tr>\n",
              "    <tr>\n",
              "      <th>8</th>\n",
              "      <td>1.471598</td>\n",
              "      <td>0.098262</td>\n",
              "      <td>0.004800</td>\n",
              "      <td>0.002137</td>\n",
              "      <td>NaN</td>\n",
              "      <td>l2</td>\n",
              "      <td>NaN</td>\n",
              "      <td>{'penalty': 'l2'}</td>\n",
              "      <td>0.807985</td>\n",
              "      <td>0.805144</td>\n",
              "      <td>...</td>\n",
              "      <td>0.810565</td>\n",
              "      <td>0.003762</td>\n",
              "      <td>2</td>\n",
              "      <td>0.811270</td>\n",
              "      <td>0.812137</td>\n",
              "      <td>0.809716</td>\n",
              "      <td>0.81074</td>\n",
              "      <td>0.809442</td>\n",
              "      <td>0.810661</td>\n",
              "      <td>0.000993</td>\n",
              "    </tr>\n",
              "    <tr>\n",
              "      <th>12</th>\n",
              "      <td>1.612600</td>\n",
              "      <td>0.092332</td>\n",
              "      <td>0.006401</td>\n",
              "      <td>0.003383</td>\n",
              "      <td>NaN</td>\n",
              "      <td>NaN</td>\n",
              "      <td>1</td>\n",
              "      <td>{'C': 1}</td>\n",
              "      <td>0.807985</td>\n",
              "      <td>0.805144</td>\n",
              "      <td>...</td>\n",
              "      <td>0.810565</td>\n",
              "      <td>0.003762</td>\n",
              "      <td>2</td>\n",
              "      <td>0.811270</td>\n",
              "      <td>0.812137</td>\n",
              "      <td>0.809716</td>\n",
              "      <td>0.81074</td>\n",
              "      <td>0.809442</td>\n",
              "      <td>0.810661</td>\n",
              "      <td>0.000993</td>\n",
              "    </tr>\n",
              "    <tr>\n",
              "      <th>0</th>\n",
              "      <td>2.772999</td>\n",
              "      <td>0.294179</td>\n",
              "      <td>0.005602</td>\n",
              "      <td>0.000799</td>\n",
              "      <td>newton-cg</td>\n",
              "      <td>NaN</td>\n",
              "      <td>NaN</td>\n",
              "      <td>{'solver': 'newton-cg'}</td>\n",
              "      <td>0.807985</td>\n",
              "      <td>0.805144</td>\n",
              "      <td>...</td>\n",
              "      <td>0.810555</td>\n",
              "      <td>0.003784</td>\n",
              "      <td>5</td>\n",
              "      <td>0.811270</td>\n",
              "      <td>0.812257</td>\n",
              "      <td>0.809536</td>\n",
              "      <td>0.81068</td>\n",
              "      <td>0.809502</td>\n",
              "      <td>0.810649</td>\n",
              "      <td>0.001051</td>\n",
              "    </tr>\n",
              "  </tbody>\n",
              "</table>\n",
              "<p>5 rows × 23 columns</p>\n",
              "</div>"
            ],
            "text/plain": [
              "    mean_fit_time  std_fit_time  mean_score_time  std_score_time param_solver  \\\n",
              "13       1.836799      0.202565         0.005400        0.002334          NaN   \n",
              "1        1.614799      0.093394         0.004200        0.000402        lbfgs   \n",
              "8        1.471598      0.098262         0.004800        0.002137          NaN   \n",
              "12       1.612600      0.092332         0.006401        0.003383          NaN   \n",
              "0        2.772999      0.294179         0.005602        0.000799    newton-cg   \n",
              "\n",
              "   param_penalty param_C                   params  split0_test_score  \\\n",
              "13           NaN      10                {'C': 10}           0.807985   \n",
              "1            NaN     NaN      {'solver': 'lbfgs'}           0.807985   \n",
              "8             l2     NaN        {'penalty': 'l2'}           0.807985   \n",
              "12           NaN       1                 {'C': 1}           0.807985   \n",
              "0            NaN     NaN  {'solver': 'newton-cg'}           0.807985   \n",
              "\n",
              "    split1_test_score  ...  mean_test_score  std_test_score  rank_test_score  \\\n",
              "13           0.805240  ...         0.810613        0.003772                1   \n",
              "1            0.805144  ...         0.810565        0.003762                2   \n",
              "8            0.805144  ...         0.810565        0.003762                2   \n",
              "12           0.805144  ...         0.810565        0.003762                2   \n",
              "0            0.805144  ...         0.810555        0.003784                5   \n",
              "\n",
              "    split0_train_score  split1_train_score  split2_train_score  \\\n",
              "13            0.811282            0.812257            0.809584   \n",
              "1             0.811270            0.812137            0.809716   \n",
              "8             0.811270            0.812137            0.809716   \n",
              "12            0.811270            0.812137            0.809716   \n",
              "0             0.811270            0.812257            0.809536   \n",
              "\n",
              "    split3_train_score  split4_train_score  mean_train_score  std_train_score  \n",
              "13             0.81074            0.809478          0.810668         0.001049  \n",
              "1              0.81074            0.809442          0.810661         0.000993  \n",
              "8              0.81074            0.809442          0.810661         0.000993  \n",
              "12             0.81074            0.809442          0.810661         0.000993  \n",
              "0              0.81068            0.809502          0.810649         0.001051  \n",
              "\n",
              "[5 rows x 23 columns]"
            ]
          },
          "execution_count": 37,
          "metadata": {},
          "output_type": "execute_result"
        }
      ],
      "source": [
        "pd.DataFrame(grid_RLOG_clf.cv_results_).sort_values(by='rank_test_score', ascending=True).head(5)"
      ]
    },
    {
      "cell_type": "code",
      "execution_count": null,
      "metadata": {},
      "outputs": [],
      "source": [
        "resut_RLOG= pd.DataFrame(grid_RLOG_clf.cv_results_).sort_values(by='rank_test_score', ascending=True).head(5)\n",
        "resut_RLOG.to_csv('C:\\\\sqldeveloper\\\\sqldeveloper\\\\bin\\\\resut_RLOG_cv5.csv', index=False,header=True)"
      ]
    },
    {
      "cell_type": "code",
      "execution_count": null,
      "metadata": {},
      "outputs": [
        {
          "name": "stdout",
          "output_type": "stream",
          "text": [
            "{'C': 10}\n"
          ]
        }
      ],
      "source": [
        "# Mejores parámetros identificados.\n",
        "print(grid_RLOG_clf.best_params_)\n",
        "C= list(grid_RLOG_clf.best_params_.values())[0]"
      ]
    },
    {
      "cell_type": "code",
      "execution_count": null,
      "metadata": {},
      "outputs": [
        {
          "name": "stdout",
          "output_type": "stream",
          "text": [
            "0.8106127479203542\n"
          ]
        }
      ],
      "source": [
        "# Puntaje de la mejor combinación de parámetros.\n",
        "print(grid_RLOG_clf.best_score_)"
      ]
    },
    {
      "cell_type": "code",
      "execution_count": null,
      "metadata": {},
      "outputs": [],
      "source": [
        "#Caculo del modelo optimizado previamente identificado, con los mejores hiperparametros\n",
        "RLOG=LogisticRegression(random_state=42,C=C)"
      ]
    },
    {
      "cell_type": "code",
      "execution_count": null,
      "metadata": {},
      "outputs": [],
      "source": [
        "RLOG_fit = RLOG.fit(X_train, y_train)"
      ]
    },
    {
      "cell_type": "code",
      "execution_count": null,
      "metadata": {},
      "outputs": [
        {
          "name": "stdout",
          "output_type": "stream",
          "text": [
            "Error entrenamiento: 0.1896184706074996\n",
            "Error generalización: 0.1900213507135633\n"
          ]
        }
      ],
      "source": [
        "print(f'Error entrenamiento: {1 - RLOG_fit.score(X_train, y_train)}')\n",
        "print(f'Error generalización: {1 - RLOG_fit.score(X_test, y_test)}')"
      ]
    },
    {
      "cell_type": "code",
      "execution_count": null,
      "metadata": {},
      "outputs": [],
      "source": [
        "RLOG_pred= RLOG_fit.predict(X_test)"
      ]
    },
    {
      "cell_type": "code",
      "execution_count": null,
      "metadata": {},
      "outputs": [
        {
          "data": {
            "text/html": [
              "<div>\n",
              "<style scoped>\n",
              "    .dataframe tbody tr th:only-of-type {\n",
              "        vertical-align: middle;\n",
              "    }\n",
              "\n",
              "    .dataframe tbody tr th {\n",
              "        vertical-align: top;\n",
              "    }\n",
              "\n",
              "    .dataframe thead tr th {\n",
              "        text-align: left;\n",
              "    }\n",
              "</style>\n",
              "<table border=\"1\" class=\"dataframe\">\n",
              "  <thead>\n",
              "    <tr>\n",
              "      <th></th>\n",
              "      <th></th>\n",
              "      <th colspan=\"3\" halign=\"left\">Valor predicho</th>\n",
              "    </tr>\n",
              "    <tr>\n",
              "      <th></th>\n",
              "      <th></th>\n",
              "      <th>MUERTO</th>\n",
              "      <th>HERIDO</th>\n",
              "      <th>DANOS</th>\n",
              "    </tr>\n",
              "  </thead>\n",
              "  <tbody>\n",
              "    <tr>\n",
              "      <th rowspan=\"3\" valign=\"top\">Valor real</th>\n",
              "      <th>MUERTO</th>\n",
              "      <td>0</td>\n",
              "      <td>620</td>\n",
              "      <td>177</td>\n",
              "    </tr>\n",
              "    <tr>\n",
              "      <th>HERIDO</th>\n",
              "      <td>0</td>\n",
              "      <td>13941</td>\n",
              "      <td>5534</td>\n",
              "    </tr>\n",
              "    <tr>\n",
              "      <th>DANOS</th>\n",
              "      <td>0</td>\n",
              "      <td>2124</td>\n",
              "      <td>22099</td>\n",
              "    </tr>\n",
              "  </tbody>\n",
              "</table>\n",
              "</div>"
            ],
            "text/plain": [
              "                  Valor predicho              \n",
              "                          MUERTO HERIDO  DANOS\n",
              "Valor real MUERTO              0    620    177\n",
              "           HERIDO              0  13941   5534\n",
              "           DANOS               0   2124  22099"
            ]
          },
          "execution_count": 51,
          "metadata": {},
          "output_type": "execute_result"
        }
      ],
      "source": [
        "# Generación de la matriz de confusión.\n",
        "RLOG_mat = confusion_matrix(y_test, RLOG_pred)\n",
        "list_confusion_matrix(RLOG_mat, ['MUERTO', 'HERIDO', 'DANOS'])"
      ]
    },
    {
      "cell_type": "code",
      "execution_count": null,
      "metadata": {},
      "outputs": [
        {
          "name": "stdout",
          "output_type": "stream",
          "text": [
            "Orden de las etiquetas: ['MUERTO', 'HERIDO', 'DANOS']\n",
            "Precisión por clase: \t[0.         0.83554091 0.79464222]\n",
            "Recall por clase: \t[0.         0.71584082 0.91231474]\n",
            "F1 por clase: \t[0.         0.77107301 0.84942248]\n"
          ]
        }
      ],
      "source": [
        "#Estimación de los estadísticos de desempeño del modelo.\n",
        "print(f'Orden de las etiquetas: {gravedad_names}')\n",
        "print(f'Precisión por clase: \\t{precision_score(y_test, RLOG_pred, average=None)}')\n",
        "print(f'Recall por clase: \\t{recall_score(y_test, RLOG_pred, average=None)}')\n",
        "print(f'F1 por clase: \\t{f1_score(y_test, RLOG_pred, average=None)}')"
      ]
    },
    {
      "cell_type": "code",
      "execution_count": null,
      "metadata": {},
      "outputs": [
        {
          "name": "stdout",
          "output_type": "stream",
          "text": [
            "Precisión micro: 0.8100\n",
            "Recall micro: 0.8100\n",
            "F1 micro: 0.8100\n"
          ]
        }
      ],
      "source": [
        "print(f\"Precisión micro: {precision_score(y_test, RLOG_pred, average='micro'):.4f}\")\n",
        "print(f\"Recall micro: {recall_score(y_test, RLOG_pred, average='micro'):.4f}\")\n",
        "print(f\"F1 micro: {f1_score(y_test, RLOG_pred, average='micro'):.4f}\")"
      ]
    },
    {
      "cell_type": "markdown",
      "metadata": {},
      "source": [
        "#### E)  Algoritmo: REGRESION RED NEURONAL"
      ]
    },
    {
      "cell_type": "code",
      "execution_count": null,
      "metadata": {},
      "outputs": [],
      "source": [
        "from sklearn.neural_network import MLPClassifier\n",
        "from sklearn.metrics import accuracy_score\n",
        "from sklearn.model_selection import GridSearchCV\n",
        "from sklearn.metrics import confusion_matrix\n",
        "from sklearn.metrics import precision_score, recall_score, f1_score"
      ]
    },
    {
      "cell_type": "code",
      "execution_count": null,
      "metadata": {},
      "outputs": [],
      "source": [
        "#Clasificador por MLPClassifier\n",
        "MLP_CL=MLPClassifier(random_state=42,max_iter=1000,tol=1e-4)"
      ]
    },
    {
      "cell_type": "code",
      "execution_count": null,
      "metadata": {},
      "outputs": [],
      "source": [
        "parameter_space = {\n",
        "    'hidden_layer_sizes': [(50,50,50), (50,100,50), (100,)],\n",
        "    'activation': ['tanh', 'relu'],\n",
        "    'solver': ['sgd', 'adam','lbfgs'],\n",
        "    'alpha': [0.0001, 0.05],\n",
        "    'learning_rate': ['constant','adaptive', 'invscaling'],\n",
        "}"
      ]
    },
    {
      "cell_type": "code",
      "execution_count": null,
      "metadata": {},
      "outputs": [
        {
          "name": "stdout",
          "output_type": "stream",
          "text": [
            "Fitting 5 folds for each of 108 candidates, totalling 540 fits\n"
          ]
        },
        {
          "data": {
            "text/html": [
              "<style>#sk-container-id-1 {\n",
              "  /* Definition of color scheme common for light and dark mode */\n",
              "  --sklearn-color-text: black;\n",
              "  --sklearn-color-line: gray;\n",
              "  /* Definition of color scheme for unfitted estimators */\n",
              "  --sklearn-color-unfitted-level-0: #fff5e6;\n",
              "  --sklearn-color-unfitted-level-1: #f6e4d2;\n",
              "  --sklearn-color-unfitted-level-2: #ffe0b3;\n",
              "  --sklearn-color-unfitted-level-3: chocolate;\n",
              "  /* Definition of color scheme for fitted estimators */\n",
              "  --sklearn-color-fitted-level-0: #f0f8ff;\n",
              "  --sklearn-color-fitted-level-1: #d4ebff;\n",
              "  --sklearn-color-fitted-level-2: #b3dbfd;\n",
              "  --sklearn-color-fitted-level-3: cornflowerblue;\n",
              "\n",
              "  /* Specific color for light theme */\n",
              "  --sklearn-color-text-on-default-background: var(--sg-text-color, var(--theme-code-foreground, var(--jp-content-font-color1, black)));\n",
              "  --sklearn-color-background: var(--sg-background-color, var(--theme-background, var(--jp-layout-color0, white)));\n",
              "  --sklearn-color-border-box: var(--sg-text-color, var(--theme-code-foreground, var(--jp-content-font-color1, black)));\n",
              "  --sklearn-color-icon: #696969;\n",
              "\n",
              "  @media (prefers-color-scheme: dark) {\n",
              "    /* Redefinition of color scheme for dark theme */\n",
              "    --sklearn-color-text-on-default-background: var(--sg-text-color, var(--theme-code-foreground, var(--jp-content-font-color1, white)));\n",
              "    --sklearn-color-background: var(--sg-background-color, var(--theme-background, var(--jp-layout-color0, #111)));\n",
              "    --sklearn-color-border-box: var(--sg-text-color, var(--theme-code-foreground, var(--jp-content-font-color1, white)));\n",
              "    --sklearn-color-icon: #878787;\n",
              "  }\n",
              "}\n",
              "\n",
              "#sk-container-id-1 {\n",
              "  color: var(--sklearn-color-text);\n",
              "}\n",
              "\n",
              "#sk-container-id-1 pre {\n",
              "  padding: 0;\n",
              "}\n",
              "\n",
              "#sk-container-id-1 input.sk-hidden--visually {\n",
              "  border: 0;\n",
              "  clip: rect(1px 1px 1px 1px);\n",
              "  clip: rect(1px, 1px, 1px, 1px);\n",
              "  height: 1px;\n",
              "  margin: -1px;\n",
              "  overflow: hidden;\n",
              "  padding: 0;\n",
              "  position: absolute;\n",
              "  width: 1px;\n",
              "}\n",
              "\n",
              "#sk-container-id-1 div.sk-dashed-wrapped {\n",
              "  border: 1px dashed var(--sklearn-color-line);\n",
              "  margin: 0 0.4em 0.5em 0.4em;\n",
              "  box-sizing: border-box;\n",
              "  padding-bottom: 0.4em;\n",
              "  background-color: var(--sklearn-color-background);\n",
              "}\n",
              "\n",
              "#sk-container-id-1 div.sk-container {\n",
              "  /* jupyter's `normalize.less` sets `[hidden] { display: none; }`\n",
              "     but bootstrap.min.css set `[hidden] { display: none !important; }`\n",
              "     so we also need the `!important` here to be able to override the\n",
              "     default hidden behavior on the sphinx rendered scikit-learn.org.\n",
              "     See: https://github.com/scikit-learn/scikit-learn/issues/21755 */\n",
              "  display: inline-block !important;\n",
              "  position: relative;\n",
              "}\n",
              "\n",
              "#sk-container-id-1 div.sk-text-repr-fallback {\n",
              "  display: none;\n",
              "}\n",
              "\n",
              "div.sk-parallel-item,\n",
              "div.sk-serial,\n",
              "div.sk-item {\n",
              "  /* draw centered vertical line to link estimators */\n",
              "  background-image: linear-gradient(var(--sklearn-color-text-on-default-background), var(--sklearn-color-text-on-default-background));\n",
              "  background-size: 2px 100%;\n",
              "  background-repeat: no-repeat;\n",
              "  background-position: center center;\n",
              "}\n",
              "\n",
              "/* Parallel-specific style estimator block */\n",
              "\n",
              "#sk-container-id-1 div.sk-parallel-item::after {\n",
              "  content: \"\";\n",
              "  width: 100%;\n",
              "  border-bottom: 2px solid var(--sklearn-color-text-on-default-background);\n",
              "  flex-grow: 1;\n",
              "}\n",
              "\n",
              "#sk-container-id-1 div.sk-parallel {\n",
              "  display: flex;\n",
              "  align-items: stretch;\n",
              "  justify-content: center;\n",
              "  background-color: var(--sklearn-color-background);\n",
              "  position: relative;\n",
              "}\n",
              "\n",
              "#sk-container-id-1 div.sk-parallel-item {\n",
              "  display: flex;\n",
              "  flex-direction: column;\n",
              "}\n",
              "\n",
              "#sk-container-id-1 div.sk-parallel-item:first-child::after {\n",
              "  align-self: flex-end;\n",
              "  width: 50%;\n",
              "}\n",
              "\n",
              "#sk-container-id-1 div.sk-parallel-item:last-child::after {\n",
              "  align-self: flex-start;\n",
              "  width: 50%;\n",
              "}\n",
              "\n",
              "#sk-container-id-1 div.sk-parallel-item:only-child::after {\n",
              "  width: 0;\n",
              "}\n",
              "\n",
              "/* Serial-specific style estimator block */\n",
              "\n",
              "#sk-container-id-1 div.sk-serial {\n",
              "  display: flex;\n",
              "  flex-direction: column;\n",
              "  align-items: center;\n",
              "  background-color: var(--sklearn-color-background);\n",
              "  padding-right: 1em;\n",
              "  padding-left: 1em;\n",
              "}\n",
              "\n",
              "\n",
              "/* Toggleable style: style used for estimator/Pipeline/ColumnTransformer box that is\n",
              "clickable and can be expanded/collapsed.\n",
              "- Pipeline and ColumnTransformer use this feature and define the default style\n",
              "- Estimators will overwrite some part of the style using the `sk-estimator` class\n",
              "*/\n",
              "\n",
              "/* Pipeline and ColumnTransformer style (default) */\n",
              "\n",
              "#sk-container-id-1 div.sk-toggleable {\n",
              "  /* Default theme specific background. It is overwritten whether we have a\n",
              "  specific estimator or a Pipeline/ColumnTransformer */\n",
              "  background-color: var(--sklearn-color-background);\n",
              "}\n",
              "\n",
              "/* Toggleable label */\n",
              "#sk-container-id-1 label.sk-toggleable__label {\n",
              "  cursor: pointer;\n",
              "  display: block;\n",
              "  width: 100%;\n",
              "  margin-bottom: 0;\n",
              "  padding: 0.5em;\n",
              "  box-sizing: border-box;\n",
              "  text-align: center;\n",
              "}\n",
              "\n",
              "#sk-container-id-1 label.sk-toggleable__label-arrow:before {\n",
              "  /* Arrow on the left of the label */\n",
              "  content: \"▸\";\n",
              "  float: left;\n",
              "  margin-right: 0.25em;\n",
              "  color: var(--sklearn-color-icon);\n",
              "}\n",
              "\n",
              "#sk-container-id-1 label.sk-toggleable__label-arrow:hover:before {\n",
              "  color: var(--sklearn-color-text);\n",
              "}\n",
              "\n",
              "/* Toggleable content - dropdown */\n",
              "\n",
              "#sk-container-id-1 div.sk-toggleable__content {\n",
              "  max-height: 0;\n",
              "  max-width: 0;\n",
              "  overflow: hidden;\n",
              "  text-align: left;\n",
              "  /* unfitted */\n",
              "  background-color: var(--sklearn-color-unfitted-level-0);\n",
              "}\n",
              "\n",
              "#sk-container-id-1 div.sk-toggleable__content.fitted {\n",
              "  /* fitted */\n",
              "  background-color: var(--sklearn-color-fitted-level-0);\n",
              "}\n",
              "\n",
              "#sk-container-id-1 div.sk-toggleable__content pre {\n",
              "  margin: 0.2em;\n",
              "  border-radius: 0.25em;\n",
              "  color: var(--sklearn-color-text);\n",
              "  /* unfitted */\n",
              "  background-color: var(--sklearn-color-unfitted-level-0);\n",
              "}\n",
              "\n",
              "#sk-container-id-1 div.sk-toggleable__content.fitted pre {\n",
              "  /* unfitted */\n",
              "  background-color: var(--sklearn-color-fitted-level-0);\n",
              "}\n",
              "\n",
              "#sk-container-id-1 input.sk-toggleable__control:checked~div.sk-toggleable__content {\n",
              "  /* Expand drop-down */\n",
              "  max-height: 200px;\n",
              "  max-width: 100%;\n",
              "  overflow: auto;\n",
              "}\n",
              "\n",
              "#sk-container-id-1 input.sk-toggleable__control:checked~label.sk-toggleable__label-arrow:before {\n",
              "  content: \"▾\";\n",
              "}\n",
              "\n",
              "/* Pipeline/ColumnTransformer-specific style */\n",
              "\n",
              "#sk-container-id-1 div.sk-label input.sk-toggleable__control:checked~label.sk-toggleable__label {\n",
              "  color: var(--sklearn-color-text);\n",
              "  background-color: var(--sklearn-color-unfitted-level-2);\n",
              "}\n",
              "\n",
              "#sk-container-id-1 div.sk-label.fitted input.sk-toggleable__control:checked~label.sk-toggleable__label {\n",
              "  background-color: var(--sklearn-color-fitted-level-2);\n",
              "}\n",
              "\n",
              "/* Estimator-specific style */\n",
              "\n",
              "/* Colorize estimator box */\n",
              "#sk-container-id-1 div.sk-estimator input.sk-toggleable__control:checked~label.sk-toggleable__label {\n",
              "  /* unfitted */\n",
              "  background-color: var(--sklearn-color-unfitted-level-2);\n",
              "}\n",
              "\n",
              "#sk-container-id-1 div.sk-estimator.fitted input.sk-toggleable__control:checked~label.sk-toggleable__label {\n",
              "  /* fitted */\n",
              "  background-color: var(--sklearn-color-fitted-level-2);\n",
              "}\n",
              "\n",
              "#sk-container-id-1 div.sk-label label.sk-toggleable__label,\n",
              "#sk-container-id-1 div.sk-label label {\n",
              "  /* The background is the default theme color */\n",
              "  color: var(--sklearn-color-text-on-default-background);\n",
              "}\n",
              "\n",
              "/* On hover, darken the color of the background */\n",
              "#sk-container-id-1 div.sk-label:hover label.sk-toggleable__label {\n",
              "  color: var(--sklearn-color-text);\n",
              "  background-color: var(--sklearn-color-unfitted-level-2);\n",
              "}\n",
              "\n",
              "/* Label box, darken color on hover, fitted */\n",
              "#sk-container-id-1 div.sk-label.fitted:hover label.sk-toggleable__label.fitted {\n",
              "  color: var(--sklearn-color-text);\n",
              "  background-color: var(--sklearn-color-fitted-level-2);\n",
              "}\n",
              "\n",
              "/* Estimator label */\n",
              "\n",
              "#sk-container-id-1 div.sk-label label {\n",
              "  font-family: monospace;\n",
              "  font-weight: bold;\n",
              "  display: inline-block;\n",
              "  line-height: 1.2em;\n",
              "}\n",
              "\n",
              "#sk-container-id-1 div.sk-label-container {\n",
              "  text-align: center;\n",
              "}\n",
              "\n",
              "/* Estimator-specific */\n",
              "#sk-container-id-1 div.sk-estimator {\n",
              "  font-family: monospace;\n",
              "  border: 1px dotted var(--sklearn-color-border-box);\n",
              "  border-radius: 0.25em;\n",
              "  box-sizing: border-box;\n",
              "  margin-bottom: 0.5em;\n",
              "  /* unfitted */\n",
              "  background-color: var(--sklearn-color-unfitted-level-0);\n",
              "}\n",
              "\n",
              "#sk-container-id-1 div.sk-estimator.fitted {\n",
              "  /* fitted */\n",
              "  background-color: var(--sklearn-color-fitted-level-0);\n",
              "}\n",
              "\n",
              "/* on hover */\n",
              "#sk-container-id-1 div.sk-estimator:hover {\n",
              "  /* unfitted */\n",
              "  background-color: var(--sklearn-color-unfitted-level-2);\n",
              "}\n",
              "\n",
              "#sk-container-id-1 div.sk-estimator.fitted:hover {\n",
              "  /* fitted */\n",
              "  background-color: var(--sklearn-color-fitted-level-2);\n",
              "}\n",
              "\n",
              "/* Specification for estimator info (e.g. \"i\" and \"?\") */\n",
              "\n",
              "/* Common style for \"i\" and \"?\" */\n",
              "\n",
              ".sk-estimator-doc-link,\n",
              "a:link.sk-estimator-doc-link,\n",
              "a:visited.sk-estimator-doc-link {\n",
              "  float: right;\n",
              "  font-size: smaller;\n",
              "  line-height: 1em;\n",
              "  font-family: monospace;\n",
              "  background-color: var(--sklearn-color-background);\n",
              "  border-radius: 1em;\n",
              "  height: 1em;\n",
              "  width: 1em;\n",
              "  text-decoration: none !important;\n",
              "  margin-left: 1ex;\n",
              "  /* unfitted */\n",
              "  border: var(--sklearn-color-unfitted-level-1) 1pt solid;\n",
              "  color: var(--sklearn-color-unfitted-level-1);\n",
              "}\n",
              "\n",
              ".sk-estimator-doc-link.fitted,\n",
              "a:link.sk-estimator-doc-link.fitted,\n",
              "a:visited.sk-estimator-doc-link.fitted {\n",
              "  /* fitted */\n",
              "  border: var(--sklearn-color-fitted-level-1) 1pt solid;\n",
              "  color: var(--sklearn-color-fitted-level-1);\n",
              "}\n",
              "\n",
              "/* On hover */\n",
              "div.sk-estimator:hover .sk-estimator-doc-link:hover,\n",
              ".sk-estimator-doc-link:hover,\n",
              "div.sk-label-container:hover .sk-estimator-doc-link:hover,\n",
              ".sk-estimator-doc-link:hover {\n",
              "  /* unfitted */\n",
              "  background-color: var(--sklearn-color-unfitted-level-3);\n",
              "  color: var(--sklearn-color-background);\n",
              "  text-decoration: none;\n",
              "}\n",
              "\n",
              "div.sk-estimator.fitted:hover .sk-estimator-doc-link.fitted:hover,\n",
              ".sk-estimator-doc-link.fitted:hover,\n",
              "div.sk-label-container:hover .sk-estimator-doc-link.fitted:hover,\n",
              ".sk-estimator-doc-link.fitted:hover {\n",
              "  /* fitted */\n",
              "  background-color: var(--sklearn-color-fitted-level-3);\n",
              "  color: var(--sklearn-color-background);\n",
              "  text-decoration: none;\n",
              "}\n",
              "\n",
              "/* Span, style for the box shown on hovering the info icon */\n",
              ".sk-estimator-doc-link span {\n",
              "  display: none;\n",
              "  z-index: 9999;\n",
              "  position: relative;\n",
              "  font-weight: normal;\n",
              "  right: .2ex;\n",
              "  padding: .5ex;\n",
              "  margin: .5ex;\n",
              "  width: min-content;\n",
              "  min-width: 20ex;\n",
              "  max-width: 50ex;\n",
              "  color: var(--sklearn-color-text);\n",
              "  box-shadow: 2pt 2pt 4pt #999;\n",
              "  /* unfitted */\n",
              "  background: var(--sklearn-color-unfitted-level-0);\n",
              "  border: .5pt solid var(--sklearn-color-unfitted-level-3);\n",
              "}\n",
              "\n",
              ".sk-estimator-doc-link.fitted span {\n",
              "  /* fitted */\n",
              "  background: var(--sklearn-color-fitted-level-0);\n",
              "  border: var(--sklearn-color-fitted-level-3);\n",
              "}\n",
              "\n",
              ".sk-estimator-doc-link:hover span {\n",
              "  display: block;\n",
              "}\n",
              "\n",
              "/* \"?\"-specific style due to the `<a>` HTML tag */\n",
              "\n",
              "#sk-container-id-1 a.estimator_doc_link {\n",
              "  float: right;\n",
              "  font-size: 1rem;\n",
              "  line-height: 1em;\n",
              "  font-family: monospace;\n",
              "  background-color: var(--sklearn-color-background);\n",
              "  border-radius: 1rem;\n",
              "  height: 1rem;\n",
              "  width: 1rem;\n",
              "  text-decoration: none;\n",
              "  /* unfitted */\n",
              "  color: var(--sklearn-color-unfitted-level-1);\n",
              "  border: var(--sklearn-color-unfitted-level-1) 1pt solid;\n",
              "}\n",
              "\n",
              "#sk-container-id-1 a.estimator_doc_link.fitted {\n",
              "  /* fitted */\n",
              "  border: var(--sklearn-color-fitted-level-1) 1pt solid;\n",
              "  color: var(--sklearn-color-fitted-level-1);\n",
              "}\n",
              "\n",
              "/* On hover */\n",
              "#sk-container-id-1 a.estimator_doc_link:hover {\n",
              "  /* unfitted */\n",
              "  background-color: var(--sklearn-color-unfitted-level-3);\n",
              "  color: var(--sklearn-color-background);\n",
              "  text-decoration: none;\n",
              "}\n",
              "\n",
              "#sk-container-id-1 a.estimator_doc_link.fitted:hover {\n",
              "  /* fitted */\n",
              "  background-color: var(--sklearn-color-fitted-level-3);\n",
              "}\n",
              "</style><div id=\"sk-container-id-1\" class=\"sk-top-container\"><div class=\"sk-text-repr-fallback\"><pre>GridSearchCV(cv=5, estimator=MLPClassifier(max_iter=1000, random_state=42),\n",
              "             n_jobs=-1,\n",
              "             param_grid={&#x27;activation&#x27;: [&#x27;tanh&#x27;, &#x27;relu&#x27;],\n",
              "                         &#x27;alpha&#x27;: [0.0001, 0.05],\n",
              "                         &#x27;hidden_layer_sizes&#x27;: [(50, 50, 50), (50, 100, 50),\n",
              "                                                (100,)],\n",
              "                         &#x27;learning_rate&#x27;: [&#x27;constant&#x27;, &#x27;adaptive&#x27;,\n",
              "                                           &#x27;invscaling&#x27;],\n",
              "                         &#x27;solver&#x27;: [&#x27;sgd&#x27;, &#x27;adam&#x27;, &#x27;lbfgs&#x27;]},\n",
              "             return_train_score=True, verbose=10)</pre><b>In a Jupyter environment, please rerun this cell to show the HTML representation or trust the notebook. <br />On GitHub, the HTML representation is unable to render, please try loading this page with nbviewer.org.</b></div><div class=\"sk-container\" hidden><div class=\"sk-item sk-dashed-wrapped\"><div class=\"sk-label-container\"><div class=\"sk-label fitted sk-toggleable\"><input class=\"sk-toggleable__control sk-hidden--visually\" id=\"sk-estimator-id-1\" type=\"checkbox\" ><label for=\"sk-estimator-id-1\" class=\"sk-toggleable__label fitted sk-toggleable__label-arrow fitted\">&nbsp;&nbsp;GridSearchCV<a class=\"sk-estimator-doc-link fitted\" rel=\"noreferrer\" target=\"_blank\" href=\"https://scikit-learn.org/1.4/modules/generated/sklearn.model_selection.GridSearchCV.html\">?<span>Documentation for GridSearchCV</span></a><span class=\"sk-estimator-doc-link fitted\">i<span>Fitted</span></span></label><div class=\"sk-toggleable__content fitted\"><pre>GridSearchCV(cv=5, estimator=MLPClassifier(max_iter=1000, random_state=42),\n",
              "             n_jobs=-1,\n",
              "             param_grid={&#x27;activation&#x27;: [&#x27;tanh&#x27;, &#x27;relu&#x27;],\n",
              "                         &#x27;alpha&#x27;: [0.0001, 0.05],\n",
              "                         &#x27;hidden_layer_sizes&#x27;: [(50, 50, 50), (50, 100, 50),\n",
              "                                                (100,)],\n",
              "                         &#x27;learning_rate&#x27;: [&#x27;constant&#x27;, &#x27;adaptive&#x27;,\n",
              "                                           &#x27;invscaling&#x27;],\n",
              "                         &#x27;solver&#x27;: [&#x27;sgd&#x27;, &#x27;adam&#x27;, &#x27;lbfgs&#x27;]},\n",
              "             return_train_score=True, verbose=10)</pre></div> </div></div><div class=\"sk-parallel\"><div class=\"sk-parallel-item\"><div class=\"sk-item\"><div class=\"sk-label-container\"><div class=\"sk-label fitted sk-toggleable\"><input class=\"sk-toggleable__control sk-hidden--visually\" id=\"sk-estimator-id-2\" type=\"checkbox\" ><label for=\"sk-estimator-id-2\" class=\"sk-toggleable__label fitted sk-toggleable__label-arrow fitted\">estimator: MLPClassifier</label><div class=\"sk-toggleable__content fitted\"><pre>MLPClassifier(max_iter=1000, random_state=42)</pre></div> </div></div><div class=\"sk-serial\"><div class=\"sk-item\"><div class=\"sk-estimator fitted sk-toggleable\"><input class=\"sk-toggleable__control sk-hidden--visually\" id=\"sk-estimator-id-3\" type=\"checkbox\" ><label for=\"sk-estimator-id-3\" class=\"sk-toggleable__label fitted sk-toggleable__label-arrow fitted\">&nbsp;MLPClassifier<a class=\"sk-estimator-doc-link fitted\" rel=\"noreferrer\" target=\"_blank\" href=\"https://scikit-learn.org/1.4/modules/generated/sklearn.neural_network.MLPClassifier.html\">?<span>Documentation for MLPClassifier</span></a></label><div class=\"sk-toggleable__content fitted\"><pre>MLPClassifier(max_iter=1000, random_state=42)</pre></div> </div></div></div></div></div></div></div></div></div>"
            ],
            "text/plain": [
              "GridSearchCV(cv=5, estimator=MLPClassifier(max_iter=1000, random_state=42),\n",
              "             n_jobs=-1,\n",
              "             param_grid={'activation': ['tanh', 'relu'],\n",
              "                         'alpha': [0.0001, 0.05],\n",
              "                         'hidden_layer_sizes': [(50, 50, 50), (50, 100, 50),\n",
              "                                                (100,)],\n",
              "                         'learning_rate': ['constant', 'adaptive',\n",
              "                                           'invscaling'],\n",
              "                         'solver': ['sgd', 'adam', 'lbfgs']},\n",
              "             return_train_score=True, verbose=10)"
            ]
          },
          "execution_count": 40,
          "metadata": {},
          "output_type": "execute_result"
        }
      ],
      "source": [
        "# Aplicación de CV-Grid para identificación de Hiperparametros\n",
        "grid_MLP_clf = GridSearchCV(MLP_CL,\n",
        "                   param_grid=parameter_space,\n",
        "                   verbose=10,\n",
        "                   cv=5,\n",
        "                   n_jobs=-1,\n",
        "                   return_train_score=True\n",
        "                   )\n",
        "\n",
        "grid_MLP_clf.fit(X_train, y_train)"
      ]
    },
    {
      "cell_type": "code",
      "execution_count": null,
      "metadata": {},
      "outputs": [
        {
          "data": {
            "text/html": [
              "<div>\n",
              "<style scoped>\n",
              "    .dataframe tbody tr th:only-of-type {\n",
              "        vertical-align: middle;\n",
              "    }\n",
              "\n",
              "    .dataframe tbody tr th {\n",
              "        vertical-align: top;\n",
              "    }\n",
              "\n",
              "    .dataframe thead th {\n",
              "        text-align: right;\n",
              "    }\n",
              "</style>\n",
              "<table border=\"1\" class=\"dataframe\">\n",
              "  <thead>\n",
              "    <tr style=\"text-align: right;\">\n",
              "      <th></th>\n",
              "      <th>mean_fit_time</th>\n",
              "      <th>std_fit_time</th>\n",
              "      <th>mean_score_time</th>\n",
              "      <th>std_score_time</th>\n",
              "      <th>param_activation</th>\n",
              "      <th>param_alpha</th>\n",
              "      <th>param_hidden_layer_sizes</th>\n",
              "      <th>param_learning_rate</th>\n",
              "      <th>param_solver</th>\n",
              "      <th>params</th>\n",
              "      <th>...</th>\n",
              "      <th>mean_test_score</th>\n",
              "      <th>std_test_score</th>\n",
              "      <th>rank_test_score</th>\n",
              "      <th>split0_train_score</th>\n",
              "      <th>split1_train_score</th>\n",
              "      <th>split2_train_score</th>\n",
              "      <th>split3_train_score</th>\n",
              "      <th>split4_train_score</th>\n",
              "      <th>mean_train_score</th>\n",
              "      <th>std_train_score</th>\n",
              "    </tr>\n",
              "  </thead>\n",
              "  <tbody>\n",
              "    <tr>\n",
              "      <th>43</th>\n",
              "      <td>104.986132</td>\n",
              "      <td>18.286975</td>\n",
              "      <td>0.160493</td>\n",
              "      <td>0.041478</td>\n",
              "      <td>tanh</td>\n",
              "      <td>0.05</td>\n",
              "      <td>(50, 100, 50)</td>\n",
              "      <td>invscaling</td>\n",
              "      <td>adam</td>\n",
              "      <td>{'activation': 'tanh', 'alpha': 0.05, 'hidden_...</td>\n",
              "      <td>...</td>\n",
              "      <td>0.813637</td>\n",
              "      <td>0.004094</td>\n",
              "      <td>1</td>\n",
              "      <td>0.815520</td>\n",
              "      <td>0.815700</td>\n",
              "      <td>0.813702</td>\n",
              "      <td>0.814207</td>\n",
              "      <td>0.813523</td>\n",
              "      <td>0.814531</td>\n",
              "      <td>0.000911</td>\n",
              "    </tr>\n",
              "    <tr>\n",
              "      <th>40</th>\n",
              "      <td>123.066968</td>\n",
              "      <td>34.805852</td>\n",
              "      <td>0.126778</td>\n",
              "      <td>0.024428</td>\n",
              "      <td>tanh</td>\n",
              "      <td>0.05</td>\n",
              "      <td>(50, 100, 50)</td>\n",
              "      <td>adaptive</td>\n",
              "      <td>adam</td>\n",
              "      <td>{'activation': 'tanh', 'alpha': 0.05, 'hidden_...</td>\n",
              "      <td>...</td>\n",
              "      <td>0.813637</td>\n",
              "      <td>0.004094</td>\n",
              "      <td>1</td>\n",
              "      <td>0.815520</td>\n",
              "      <td>0.815700</td>\n",
              "      <td>0.813702</td>\n",
              "      <td>0.814207</td>\n",
              "      <td>0.813523</td>\n",
              "      <td>0.814531</td>\n",
              "      <td>0.000911</td>\n",
              "    </tr>\n",
              "    <tr>\n",
              "      <th>37</th>\n",
              "      <td>113.937116</td>\n",
              "      <td>18.659064</td>\n",
              "      <td>0.156061</td>\n",
              "      <td>0.027489</td>\n",
              "      <td>tanh</td>\n",
              "      <td>0.05</td>\n",
              "      <td>(50, 100, 50)</td>\n",
              "      <td>constant</td>\n",
              "      <td>adam</td>\n",
              "      <td>{'activation': 'tanh', 'alpha': 0.05, 'hidden_...</td>\n",
              "      <td>...</td>\n",
              "      <td>0.813637</td>\n",
              "      <td>0.004094</td>\n",
              "      <td>1</td>\n",
              "      <td>0.815520</td>\n",
              "      <td>0.815700</td>\n",
              "      <td>0.813702</td>\n",
              "      <td>0.814207</td>\n",
              "      <td>0.813523</td>\n",
              "      <td>0.814531</td>\n",
              "      <td>0.000911</td>\n",
              "    </tr>\n",
              "    <tr>\n",
              "      <th>90</th>\n",
              "      <td>869.634542</td>\n",
              "      <td>160.498833</td>\n",
              "      <td>0.161462</td>\n",
              "      <td>0.024303</td>\n",
              "      <td>relu</td>\n",
              "      <td>0.05</td>\n",
              "      <td>(50, 100, 50)</td>\n",
              "      <td>constant</td>\n",
              "      <td>sgd</td>\n",
              "      <td>{'activation': 'relu', 'alpha': 0.05, 'hidden_...</td>\n",
              "      <td>...</td>\n",
              "      <td>0.813531</td>\n",
              "      <td>0.003972</td>\n",
              "      <td>4</td>\n",
              "      <td>0.818554</td>\n",
              "      <td>0.817422</td>\n",
              "      <td>0.814797</td>\n",
              "      <td>0.816327</td>\n",
              "      <td>0.815016</td>\n",
              "      <td>0.816423</td>\n",
              "      <td>0.001426</td>\n",
              "    </tr>\n",
              "    <tr>\n",
              "      <th>106</th>\n",
              "      <td>114.317879</td>\n",
              "      <td>24.786911</td>\n",
              "      <td>0.229050</td>\n",
              "      <td>0.094434</td>\n",
              "      <td>relu</td>\n",
              "      <td>0.05</td>\n",
              "      <td>(100,)</td>\n",
              "      <td>invscaling</td>\n",
              "      <td>adam</td>\n",
              "      <td>{'activation': 'relu', 'alpha': 0.05, 'hidden_...</td>\n",
              "      <td>...</td>\n",
              "      <td>0.813531</td>\n",
              "      <td>0.003667</td>\n",
              "      <td>5</td>\n",
              "      <td>0.817193</td>\n",
              "      <td>0.817290</td>\n",
              "      <td>0.816062</td>\n",
              "      <td>0.815953</td>\n",
              "      <td>0.814908</td>\n",
              "      <td>0.816281</td>\n",
              "      <td>0.000882</td>\n",
              "    </tr>\n",
              "  </tbody>\n",
              "</table>\n",
              "<p>5 rows × 25 columns</p>\n",
              "</div>"
            ],
            "text/plain": [
              "     mean_fit_time  std_fit_time  mean_score_time  std_score_time  \\\n",
              "43      104.986132     18.286975         0.160493        0.041478   \n",
              "40      123.066968     34.805852         0.126778        0.024428   \n",
              "37      113.937116     18.659064         0.156061        0.027489   \n",
              "90      869.634542    160.498833         0.161462        0.024303   \n",
              "106     114.317879     24.786911         0.229050        0.094434   \n",
              "\n",
              "    param_activation param_alpha param_hidden_layer_sizes param_learning_rate  \\\n",
              "43              tanh        0.05            (50, 100, 50)          invscaling   \n",
              "40              tanh        0.05            (50, 100, 50)            adaptive   \n",
              "37              tanh        0.05            (50, 100, 50)            constant   \n",
              "90              relu        0.05            (50, 100, 50)            constant   \n",
              "106             relu        0.05                   (100,)          invscaling   \n",
              "\n",
              "    param_solver                                             params  ...  \\\n",
              "43          adam  {'activation': 'tanh', 'alpha': 0.05, 'hidden_...  ...   \n",
              "40          adam  {'activation': 'tanh', 'alpha': 0.05, 'hidden_...  ...   \n",
              "37          adam  {'activation': 'tanh', 'alpha': 0.05, 'hidden_...  ...   \n",
              "90           sgd  {'activation': 'relu', 'alpha': 0.05, 'hidden_...  ...   \n",
              "106         adam  {'activation': 'relu', 'alpha': 0.05, 'hidden_...  ...   \n",
              "\n",
              "     mean_test_score  std_test_score  rank_test_score  split0_train_score  \\\n",
              "43          0.813637        0.004094                1            0.815520   \n",
              "40          0.813637        0.004094                1            0.815520   \n",
              "37          0.813637        0.004094                1            0.815520   \n",
              "90          0.813531        0.003972                4            0.818554   \n",
              "106         0.813531        0.003667                5            0.817193   \n",
              "\n",
              "     split1_train_score  split2_train_score  split3_train_score  \\\n",
              "43             0.815700            0.813702            0.814207   \n",
              "40             0.815700            0.813702            0.814207   \n",
              "37             0.815700            0.813702            0.814207   \n",
              "90             0.817422            0.814797            0.816327   \n",
              "106            0.817290            0.816062            0.815953   \n",
              "\n",
              "     split4_train_score  mean_train_score  std_train_score  \n",
              "43             0.813523          0.814531         0.000911  \n",
              "40             0.813523          0.814531         0.000911  \n",
              "37             0.813523          0.814531         0.000911  \n",
              "90             0.815016          0.816423         0.001426  \n",
              "106            0.814908          0.816281         0.000882  \n",
              "\n",
              "[5 rows x 25 columns]"
            ]
          },
          "execution_count": 41,
          "metadata": {},
          "output_type": "execute_result"
        }
      ],
      "source": [
        "pd.DataFrame(grid_MLP_clf.cv_results_).sort_values(by='rank_test_score', ascending=True).head(5)"
      ]
    },
    {
      "cell_type": "code",
      "execution_count": null,
      "metadata": {},
      "outputs": [],
      "source": [
        "resut_MLP= pd.DataFrame(grid_MLP_clf.cv_results_).sort_values(by='rank_test_score', ascending=True)\n",
        "resut_MLP.to_csv('C:\\\\sqldeveloper\\\\sqldeveloper\\\\bin\\\\resut_MLP.csv', index=False,header=True)"
      ]
    },
    {
      "cell_type": "code",
      "execution_count": null,
      "metadata": {},
      "outputs": [
        {
          "name": "stdout",
          "output_type": "stream",
          "text": [
            "{'activation': 'tanh', 'alpha': 0.05, 'hidden_layer_sizes': (50, 100, 50), 'learning_rate': 'constant', 'solver': 'adam'}\n"
          ]
        }
      ],
      "source": [
        "# Mejores parámetros identificados.\n",
        "print(grid_MLP_clf.best_params_)\n",
        "activation, alpha, hidden_layer_sizes, learning_rate, solver= list(grid_MLP_clf.best_params_.values())"
      ]
    },
    {
      "cell_type": "code",
      "execution_count": null,
      "metadata": {},
      "outputs": [
        {
          "name": "stdout",
          "output_type": "stream",
          "text": [
            "0.8136372462785163\n"
          ]
        }
      ],
      "source": [
        "# Puntaje de la mejor combinación de parámetros.\n",
        "print(grid_MLP_clf.best_score_)"
      ]
    },
    {
      "cell_type": "code",
      "execution_count": null,
      "metadata": {},
      "outputs": [],
      "source": [
        "#Caculo del modelo optimizado previamente identificado, con los mejores hiperparametros\n",
        "MLP=MLPClassifier(random_state=42,max_iter=1000,tol=1e-4,\n",
        "                  activation= activation,\n",
        "                  alpha= alpha,\n",
        "                  hidden_layer_sizes= hidden_layer_sizes,\n",
        "                  learning_rate= learning_rate,\n",
        "                  solver= solver\n",
        "                  )"
      ]
    },
    {
      "cell_type": "code",
      "execution_count": null,
      "metadata": {},
      "outputs": [],
      "source": [
        "MLP_fit = MLP.fit(X_train, y_train)"
      ]
    },
    {
      "cell_type": "code",
      "execution_count": null,
      "metadata": {},
      "outputs": [
        {
          "name": "stdout",
          "output_type": "stream",
          "text": [
            "Error entrenamiento: 0.18793284466234506\n",
            "Error generalización: 0.18934711765366896\n"
          ]
        }
      ],
      "source": [
        "print(f'Error entrenamiento: {1 - MLP_fit.score(X_train, y_train)}')\n",
        "print(f'Error generalización: {1 - MLP_fit.score(X_test, y_test)}')"
      ]
    },
    {
      "cell_type": "code",
      "execution_count": null,
      "metadata": {},
      "outputs": [],
      "source": [
        "MLP_pred= MLP_fit.predict(X_test)"
      ]
    },
    {
      "cell_type": "code",
      "execution_count": null,
      "metadata": {},
      "outputs": [
        {
          "data": {
            "text/html": [
              "<div>\n",
              "<style scoped>\n",
              "    .dataframe tbody tr th:only-of-type {\n",
              "        vertical-align: middle;\n",
              "    }\n",
              "\n",
              "    .dataframe tbody tr th {\n",
              "        vertical-align: top;\n",
              "    }\n",
              "\n",
              "    .dataframe thead tr th {\n",
              "        text-align: left;\n",
              "    }\n",
              "</style>\n",
              "<table border=\"1\" class=\"dataframe\">\n",
              "  <thead>\n",
              "    <tr>\n",
              "      <th></th>\n",
              "      <th></th>\n",
              "      <th colspan=\"3\" halign=\"left\">Valor predicho</th>\n",
              "    </tr>\n",
              "    <tr>\n",
              "      <th></th>\n",
              "      <th></th>\n",
              "      <th>MUERTO</th>\n",
              "      <th>HERIDO</th>\n",
              "      <th>DANOS</th>\n",
              "    </tr>\n",
              "  </thead>\n",
              "  <tbody>\n",
              "    <tr>\n",
              "      <th rowspan=\"3\" valign=\"top\">Valor real</th>\n",
              "      <th>MUERTO</th>\n",
              "      <td>0</td>\n",
              "      <td>624</td>\n",
              "      <td>173</td>\n",
              "    </tr>\n",
              "    <tr>\n",
              "      <th>HERIDO</th>\n",
              "      <td>0</td>\n",
              "      <td>13784</td>\n",
              "      <td>5691</td>\n",
              "    </tr>\n",
              "    <tr>\n",
              "      <th>DANOS</th>\n",
              "      <td>0</td>\n",
              "      <td>1937</td>\n",
              "      <td>22286</td>\n",
              "    </tr>\n",
              "  </tbody>\n",
              "</table>\n",
              "</div>"
            ],
            "text/plain": [
              "                  Valor predicho              \n",
              "                          MUERTO HERIDO  DANOS\n",
              "Valor real MUERTO              0    624    173\n",
              "           HERIDO              0  13784   5691\n",
              "           DANOS               0   1937  22286"
            ]
          },
          "execution_count": 50,
          "metadata": {},
          "output_type": "execute_result"
        }
      ],
      "source": [
        "# Generación de la matriz de confusión.\n",
        "MLP_mat = confusion_matrix(y_test, MLP_pred)\n",
        "list_confusion_matrix(MLP_mat, ['MUERTO', 'HERIDO', 'DANOS'])"
      ]
    },
    {
      "cell_type": "code",
      "execution_count": null,
      "metadata": {},
      "outputs": [
        {
          "name": "stdout",
          "output_type": "stream",
          "text": [
            "Orden de las etiquetas: ['MUERTO', 'HERIDO', 'DANOS']\n",
            "Precisión por clase: \t[0.         0.843316   0.79168739]\n",
            "Recall por clase: \t[0.         0.7077792  0.92003468]\n",
            "F1 por clase: \t[0.         0.76962591 0.8510492 ]\n"
          ]
        }
      ],
      "source": [
        "#Estimación de los estadísticos de desempeño del modelo.\n",
        "print(f'Orden de las etiquetas: {gravedad_names}')\n",
        "print(f'Precisión por clase: \\t{precision_score(y_test, MLP_pred, average=None)}')\n",
        "print(f'Recall por clase: \\t{recall_score(y_test, MLP_pred, average=None)}')\n",
        "print(f'F1 por clase: \\t{f1_score(y_test, MLP_pred, average=None)}')"
      ]
    },
    {
      "cell_type": "code",
      "execution_count": null,
      "metadata": {},
      "outputs": [
        {
          "name": "stdout",
          "output_type": "stream",
          "text": [
            "Precisión micro: 0.8107\n",
            "Precisión micro: 0.5450\n",
            "Recall micro: 0.5426\n",
            "F1 micro: 0.5402\n"
          ]
        }
      ],
      "source": [
        "print(f\"Precisión micro: {accuracy_score(y_test, MLP_pred):.4f}\")\n",
        "print(f\"Precisión micro: {precision_score(y_test, MLP_pred, average='macro'):.4f}\")\n",
        "print(f\"Recall micro: {recall_score(y_test, MLP_pred, average='macro'):.4f}\")\n",
        "print(f\"F1 micro: {f1_score(y_test, MLP_pred, average='macro'):.4f}\")"
      ]
    },
    {
      "cell_type": "markdown",
      "metadata": {
        "id": "g4VbWUH7Jtsb"
      },
      "source": [
        "## v.\tCONCLUSIONES\n",
        "-----------------\n",
        "Los resultados de la aplicación de algoritmos de clasificación de aprendizaje de máquina presentaron una buena estimación para identificar los niveles de severidad en los siniestros viales registrados en la ciudad de Bogotá, Colombia. La exactitud promedio para el control de pruebas con los diferentes algoritmos estuvo por encima del 80%, siendo aceptable para todos los modelos aplicados. La investigación mostró que la aplicación de algoritmos más complejos de estimar como lo son SVM y MLP presentó levemente un mejor desempeño sin que este resultara ser mayormente significativo respecto a metodologías como LOGREG, RF, KNN, siendo cualquiera una herramienta deseable para la estimación de la severidad de los accidentes en la ciudad de Bogotá. De manera que, entidades encargadas de la gestión de la seguridad vial y profesionales pueden aplicar metodologías basadas en clasificadores para establecer medidas preventivas y correctivas en el estudio de la siniestralidad, de manera que, la implementación de enfoques basados en aprendizaje de máquina resulta ser pertinente en función de los resultados.\n",
        "\n",
        "Al analizar los resultados de la predicción para cada uno de los niveles de severidad, se evidencia que los clasificadores resultan ser particularmente eficiente en la estimación de eventos con heridos y solo daños teniendo un alto rendimiento en las diferentes métricas de desempeño, mientras que para el caso de los siniestros con fatalidades, las técnicas empleadas no presentaban un buen rendimiento, siendo KNN la única capaz de representar de manera parcial los eventos con fatalidad, esto se puede dar debido a la diferencia tan alta en la cantidad de eventos con esta severidad, así como a la necesidad de incorporar otras variables que pudieran estar relacionadas con el siniestro como lo son las condiciones climáticas, las características de la vía, entre otras.\n",
        "\n",
        "Así bien, la investigación muestra la pertinencia en la implementación de enfoques basados en aprendizaje de máquina en el estudio de la severidad en la siniestralidad en ciudades como Bogotá, donde la aplicación de algoritmos de clasificación tienen un desempeño deseable en la estimación de la severidad para la estimación de heridos y daños, mientras para el caso de las fatalidades es menos técnicas como KNN presentan resultados alentadores en la estimación de siniestros mortales que pueden ser implementados en el estudio sistemático de la siniestralidad.\n",
        "\n"
      ]
    }
  ],
  "metadata": {
    "colab": {
      "collapsed_sections": [
        "joXLOuTNhj7S",
        "mBt6nv1chq5j",
        "V4qX_pj_hxmY",
        "xW6eh5NklHKJ",
        "MiYyi1JfR2tC"
      ],
      "provenance": []
    },
    "kernelspec": {
      "display_name": "Python 3",
      "name": "python3"
    },
    "language_info": {
      "codemirror_mode": {
        "name": "ipython",
        "version": 3
      },
      "file_extension": ".py",
      "mimetype": "text/x-python",
      "name": "python",
      "nbconvert_exporter": "python",
      "pygments_lexer": "ipython3",
      "version": "3.12.6"
    }
  },
  "nbformat": 4,
  "nbformat_minor": 0
}
